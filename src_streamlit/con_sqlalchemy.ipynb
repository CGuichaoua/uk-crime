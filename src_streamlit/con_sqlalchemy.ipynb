{
 "cells": [
  {
   "cell_type": "code",
   "execution_count": 12,
   "metadata": {},
   "outputs": [],
   "source": [
    "import pandas as pd\n",
    "import sqlalchemy\n",
    "from sqlalchemy import create_engine,text\n",
    "from collections.abc import Iterable\n",
    "from collections.abc import Callable\n"
   ]
  },
  {
   "cell_type": "code",
   "execution_count": 9,
   "metadata": {},
   "outputs": [],
   "source": [
    "def connect_maria(db_name:str):\n",
    "    \"\"\"\n",
    "    Connecte une base de données MariaDB via SQLalchemy\n",
    "    \"\"\"\n",
    "    user=\"root\"\n",
    "    pwd=\"\"\n",
    "    host=\"localhost\"\n",
    "    port=\"3306\"\n",
    "    return sqlalchemy.create_engine(\n",
    "        f\"mariadb+pymysql://{user}:{pwd}@{host}:{port}/{db_name}\")"
   ]
  },
  {
   "cell_type": "code",
   "execution_count": 10,
   "metadata": {},
   "outputs": [],
   "source": [
    "engine = connect_maria(\"crime\")"
   ]
  },
  {
   "cell_type": "code",
   "execution_count": 13,
   "metadata": {},
   "outputs": [
    {
     "name": "stdout",
     "output_type": "stream",
     "text": [
      "('outcomes_temp',)\n",
      "('outcomes_temp_duplicates',)\n",
      "('stopandsearch_temp',)\n",
      "('stopandsearch_temp_duplicates',)\n",
      "('street_temp',)\n",
      "('street_temp_duplicates',)\n"
     ]
    }
   ],
   "source": [
    "# Utilisation de l'engine pour obtenir une connexion et exécuter une requête\n",
    "with engine.connect() as connection:\n",
    "    result = connection.execute(text(\"SHOW TABLES\"))\n",
    "    tables = result.fetchall()\n",
    "    for table in tables:\n",
    "        print(table)\n"
   ]
  },
  {
   "cell_type": "code",
   "execution_count": null,
   "metadata": {},
   "outputs": [],
   "source": [
    "query = \"\"\"\n",
    "    SELECT Latitude, Longitude, Crimetype\n",
    "    FROM street_temp\n",
    "    WHERE latitude IS NOT NULL AND longitude IS NOT NULL;\n",
    "\"\"\"\n",
    "try:\n",
    "    # Utilisation de l'engine pour exécuter la requête\n",
    "    df = pd.read_sql(query, engine)\n",
    "\n",
    "    \n",
    "except Exception as e:\n",
    "    st.error(f\"Erreur lors de l'exécution de la requête SQL : {e}\")"
   ]
  },
  {
   "cell_type": "code",
   "execution_count": null,
   "metadata": {},
   "outputs": [],
   "source": []
  },
  {
   "cell_type": "code",
   "execution_count": 4,
   "metadata": {},
   "outputs": [],
   "source": [
    "engine.dispose()"
   ]
  },
  {
   "cell_type": "code",
   "execution_count": null,
   "metadata": {},
   "outputs": [],
   "source": []
  }
 ],
 "metadata": {
  "kernelspec": {
   "display_name": ".venv",
   "language": "python",
   "name": "python3"
  },
  "language_info": {
   "codemirror_mode": {
    "name": "ipython",
    "version": 3
   },
   "file_extension": ".py",
   "mimetype": "text/x-python",
   "name": "python",
   "nbconvert_exporter": "python",
   "pygments_lexer": "ipython3",
   "version": "3.12.3"
  }
 },
 "nbformat": 4,
 "nbformat_minor": 2
}
