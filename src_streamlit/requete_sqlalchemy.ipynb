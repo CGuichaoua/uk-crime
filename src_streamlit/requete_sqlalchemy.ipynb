{
 "cells": [
  {
   "cell_type": "code",
   "execution_count": 1,
   "metadata": {},
   "outputs": [],
   "source": [
    "import os\n",
    "import pandas as pd\n",
    "import numpy as np\n",
    "from sqlalchemy import create_engine, MetaData, Table, Column, Integer, String, Float, Boolean, DateTime\n",
    "from sqlalchemy.exc import SQLAlchemyError\n",
    "from datetime import datetime\n"
   ]
  },
  {
   "cell_type": "code",
   "execution_count": 7,
   "metadata": {},
   "outputs": [],
   "source": [
    "\n",
    "# Connexion à MariaDB via SQLAlchemy\n",
    "def create_connection_sqlalchemy2(host_name, user_name, user_password, db_name=None, port=3306):\n",
    "    try:\n",
    "        db_url = f\"mysql+pymysql://{user_name}:{user_password}@{host_name}:{port}/{db_name}\"\n",
    "        engine = create_engine(db_url, pool_recycle=3600)\n",
    "        connection = engine.connect()\n",
    "        print(f\"Connexion réussie à la base de données {db_name}\" if db_name else \"Connexion réussie au serveur MariaDB\")\n",
    "        return connection, engine\n",
    "    except SQLAlchemyError as e:\n",
    "        print(f\"Erreur : '{e}'\")\n",
    "        return None, None\n"
   ]
  },
  {
   "cell_type": "code",
   "execution_count": 4,
   "metadata": {},
   "outputs": [
    {
     "name": "stdout",
     "output_type": "stream",
     "text": [
      "Connexion réussie à la base de données crime\n"
     ]
    },
    {
     "ename": "ObjectNotExecutableError",
     "evalue": "Not an executable object: 'SELECT distinct Crimetype FROM street_temp'",
     "output_type": "error",
     "traceback": [
      "\u001b[1;31m---------------------------------------------------------------------------\u001b[0m",
      "\u001b[1;31mAttributeError\u001b[0m                            Traceback (most recent call last)",
      "File \u001b[1;32mc:\\Users\\HP\\Documents\\ICAM\\uk-crime\\.venv\\Lib\\site-packages\\sqlalchemy\\engine\\base.py:1414\u001b[0m, in \u001b[0;36mConnection.execute\u001b[1;34m(self, statement, parameters, execution_options)\u001b[0m\n\u001b[0;32m   1413\u001b[0m \u001b[38;5;28;01mtry\u001b[39;00m:\n\u001b[1;32m-> 1414\u001b[0m     meth \u001b[38;5;241m=\u001b[39m \u001b[43mstatement\u001b[49m\u001b[38;5;241;43m.\u001b[39;49m\u001b[43m_execute_on_connection\u001b[49m\n\u001b[0;32m   1415\u001b[0m \u001b[38;5;28;01mexcept\u001b[39;00m \u001b[38;5;167;01mAttributeError\u001b[39;00m \u001b[38;5;28;01mas\u001b[39;00m err:\n",
      "\u001b[1;31mAttributeError\u001b[0m: 'str' object has no attribute '_execute_on_connection'",
      "\nThe above exception was the direct cause of the following exception:\n",
      "\u001b[1;31mObjectNotExecutableError\u001b[0m                  Traceback (most recent call last)",
      "Cell \u001b[1;32mIn[4], line 12\u001b[0m\n\u001b[0;32m      9\u001b[0m query\u001b[38;5;241m=\u001b[39m\u001b[38;5;124m\"\u001b[39m\u001b[38;5;124mSELECT distinct Crimetype FROM street_temp\u001b[39m\u001b[38;5;124m\"\u001b[39m\n\u001b[0;32m     11\u001b[0m \u001b[38;5;66;03m# exécution de la requête\u001b[39;00m\n\u001b[1;32m---> 12\u001b[0m result \u001b[38;5;241m=\u001b[39m \u001b[43mconnection\u001b[49m\u001b[38;5;241;43m.\u001b[39;49m\u001b[43mexecute\u001b[49m\u001b[43m(\u001b[49m\u001b[43mquery\u001b[49m\u001b[43m)\u001b[49m\n\u001b[0;32m     13\u001b[0m \u001b[38;5;66;03m# Récupération des résultats\u001b[39;00m\n\u001b[0;32m     14\u001b[0m rows \u001b[38;5;241m=\u001b[39m result\u001b[38;5;241m.\u001b[39mfetchall()\n",
      "File \u001b[1;32mc:\\Users\\HP\\Documents\\ICAM\\uk-crime\\.venv\\Lib\\site-packages\\sqlalchemy\\engine\\base.py:1416\u001b[0m, in \u001b[0;36mConnection.execute\u001b[1;34m(self, statement, parameters, execution_options)\u001b[0m\n\u001b[0;32m   1414\u001b[0m     meth \u001b[38;5;241m=\u001b[39m statement\u001b[38;5;241m.\u001b[39m_execute_on_connection\n\u001b[0;32m   1415\u001b[0m \u001b[38;5;28;01mexcept\u001b[39;00m \u001b[38;5;167;01mAttributeError\u001b[39;00m \u001b[38;5;28;01mas\u001b[39;00m err:\n\u001b[1;32m-> 1416\u001b[0m     \u001b[38;5;28;01mraise\u001b[39;00m exc\u001b[38;5;241m.\u001b[39mObjectNotExecutableError(statement) \u001b[38;5;28;01mfrom\u001b[39;00m \u001b[38;5;21;01merr\u001b[39;00m\n\u001b[0;32m   1417\u001b[0m \u001b[38;5;28;01melse\u001b[39;00m:\n\u001b[0;32m   1418\u001b[0m     \u001b[38;5;28;01mreturn\u001b[39;00m meth(\n\u001b[0;32m   1419\u001b[0m         \u001b[38;5;28mself\u001b[39m,\n\u001b[0;32m   1420\u001b[0m         distilled_parameters,\n\u001b[0;32m   1421\u001b[0m         execution_options \u001b[38;5;129;01mor\u001b[39;00m NO_OPTIONS,\n\u001b[0;32m   1422\u001b[0m     )\n",
      "\u001b[1;31mObjectNotExecutableError\u001b[0m: Not an executable object: 'SELECT distinct Crimetype FROM street_temp'"
     ]
    }
   ],
   "source": [
    "\n",
    "\n",
    "db_name = \"crime\" \n",
    "\n",
    "\n",
    "# Connexion à la base de données via SQLAlchemy\n",
    "connection, engine = create_connection_sqlalchemy(\"127.0.0.1\", \"root\", \"\",db_name)\n",
    "\n",
    "if connection:\n",
    "    \n",
    "    query=\"SELECT distinct Crimetype FROM street_temp\"\n",
    "    \n",
    "    # exécution de la requête\n",
    "    result = connection.execute(query)\n",
    "    # Récupération des résultats\n",
    "    rows = result.fetchall()\n",
    "    # Fermer la connexion\n",
    "    result.close()\n",
    "    print(rows)\n",
    "    \n",
    "    \n",
    "    \n",
    "    # Fermer la connexion proprement\n",
    "    connection.close()\n",
    "    print(\"Connexion fermée.\")\n",
    "  \n"
   ]
  },
  {
   "cell_type": "code",
   "execution_count": 8,
   "metadata": {},
   "outputs": [
    {
     "ename": "ModuleNotFoundError",
     "evalue": "No module named 'mariadb'",
     "output_type": "error",
     "traceback": [
      "\u001b[1;31m---------------------------------------------------------------------------\u001b[0m",
      "\u001b[1;31mModuleNotFoundError\u001b[0m                       Traceback (most recent call last)",
      "Cell \u001b[1;32mIn[8], line 33\u001b[0m\n\u001b[0;32m     31\u001b[0m \u001b[38;5;66;03m# Connexion à la base de données via SQLAlchemy\u001b[39;00m\n\u001b[0;32m     32\u001b[0m db_name \u001b[38;5;241m=\u001b[39m \u001b[38;5;124m\"\u001b[39m\u001b[38;5;124mcrime\u001b[39m\u001b[38;5;124m\"\u001b[39m\n\u001b[1;32m---> 33\u001b[0m connection, engine \u001b[38;5;241m=\u001b[39m \u001b[43mcreate_connection_sqlalchemy\u001b[49m\u001b[43m(\u001b[49m\u001b[38;5;124;43m\"\u001b[39;49m\u001b[38;5;124;43m127.0.0.1\u001b[39;49m\u001b[38;5;124;43m\"\u001b[39;49m\u001b[43m,\u001b[49m\u001b[43m \u001b[49m\u001b[38;5;124;43m\"\u001b[39;49m\u001b[38;5;124;43mroot\u001b[39;49m\u001b[38;5;124;43m\"\u001b[39;49m\u001b[43m,\u001b[49m\u001b[43m \u001b[49m\u001b[38;5;124;43m\"\u001b[39;49m\u001b[38;5;124;43m\"\u001b[39;49m\u001b[43m,\u001b[49m\u001b[43m \u001b[49m\u001b[43mdb_name\u001b[49m\u001b[43m)\u001b[49m\n\u001b[0;32m     35\u001b[0m \u001b[38;5;28;01mif\u001b[39;00m connection:\n\u001b[0;32m     36\u001b[0m     query \u001b[38;5;241m=\u001b[39m text(\u001b[38;5;124m\"\u001b[39m\u001b[38;5;124mSELECT DISTINCT Crimetype FROM street_temp\u001b[39m\u001b[38;5;124m\"\u001b[39m)\n",
      "Cell \u001b[1;32mIn[8], line 22\u001b[0m, in \u001b[0;36mcreate_connection_sqlalchemy\u001b[1;34m(host, user, password, db_name, port)\u001b[0m\n\u001b[0;32m     20\u001b[0m \u001b[38;5;28;01mtry\u001b[39;00m:\n\u001b[0;32m     21\u001b[0m     DATABASE_URL \u001b[38;5;241m=\u001b[39m \u001b[38;5;124mf\u001b[39m\u001b[38;5;124m\"\u001b[39m\u001b[38;5;124mmariadb+mariadbconnector://\u001b[39m\u001b[38;5;132;01m{\u001b[39;00muser\u001b[38;5;132;01m}\u001b[39;00m\u001b[38;5;124m:\u001b[39m\u001b[38;5;132;01m{\u001b[39;00mpassword\u001b[38;5;132;01m}\u001b[39;00m\u001b[38;5;124m@\u001b[39m\u001b[38;5;132;01m{\u001b[39;00mhost\u001b[38;5;132;01m}\u001b[39;00m\u001b[38;5;124m:\u001b[39m\u001b[38;5;132;01m{\u001b[39;00mport\u001b[38;5;132;01m}\u001b[39;00m\u001b[38;5;124m/\u001b[39m\u001b[38;5;132;01m{\u001b[39;00mdb_name\u001b[38;5;132;01m}\u001b[39;00m\u001b[38;5;124m\"\u001b[39m\n\u001b[1;32m---> 22\u001b[0m     engine \u001b[38;5;241m=\u001b[39m \u001b[43mcreate_engine\u001b[49m\u001b[43m(\u001b[49m\u001b[43mDATABASE_URL\u001b[49m\u001b[43m)\u001b[49m\n\u001b[0;32m     23\u001b[0m     Session \u001b[38;5;241m=\u001b[39m sessionmaker(bind\u001b[38;5;241m=\u001b[39mengine)\n\u001b[0;32m     24\u001b[0m     session \u001b[38;5;241m=\u001b[39m Session()\n",
      "File \u001b[1;32m<string>:2\u001b[0m, in \u001b[0;36mcreate_engine\u001b[1;34m(url, **kwargs)\u001b[0m\n",
      "File \u001b[1;32mc:\\Users\\HP\\Documents\\ICAM\\uk-crime\\.venv\\Lib\\site-packages\\sqlalchemy\\util\\deprecations.py:281\u001b[0m, in \u001b[0;36mdeprecated_params.<locals>.decorate.<locals>.warned\u001b[1;34m(fn, *args, **kwargs)\u001b[0m\n\u001b[0;32m    274\u001b[0m     \u001b[38;5;28;01mif\u001b[39;00m m \u001b[38;5;129;01min\u001b[39;00m kwargs:\n\u001b[0;32m    275\u001b[0m         _warn_with_version(\n\u001b[0;32m    276\u001b[0m             messages[m],\n\u001b[0;32m    277\u001b[0m             versions[m],\n\u001b[0;32m    278\u001b[0m             version_warnings[m],\n\u001b[0;32m    279\u001b[0m             stacklevel\u001b[38;5;241m=\u001b[39m\u001b[38;5;241m3\u001b[39m,\n\u001b[0;32m    280\u001b[0m         )\n\u001b[1;32m--> 281\u001b[0m \u001b[38;5;28;01mreturn\u001b[39;00m \u001b[43mfn\u001b[49m\u001b[43m(\u001b[49m\u001b[38;5;241;43m*\u001b[39;49m\u001b[43margs\u001b[49m\u001b[43m,\u001b[49m\u001b[43m \u001b[49m\u001b[38;5;241;43m*\u001b[39;49m\u001b[38;5;241;43m*\u001b[39;49m\u001b[43mkwargs\u001b[49m\u001b[43m)\u001b[49m\n",
      "File \u001b[1;32mc:\\Users\\HP\\Documents\\ICAM\\uk-crime\\.venv\\Lib\\site-packages\\sqlalchemy\\engine\\create.py:599\u001b[0m, in \u001b[0;36mcreate_engine\u001b[1;34m(url, **kwargs)\u001b[0m\n\u001b[0;32m    597\u001b[0m         \u001b[38;5;28;01mif\u001b[39;00m k \u001b[38;5;129;01min\u001b[39;00m kwargs:\n\u001b[0;32m    598\u001b[0m             dbapi_args[k] \u001b[38;5;241m=\u001b[39m pop_kwarg(k)\n\u001b[1;32m--> 599\u001b[0m     dbapi \u001b[38;5;241m=\u001b[39m \u001b[43mdbapi_meth\u001b[49m\u001b[43m(\u001b[49m\u001b[38;5;241;43m*\u001b[39;49m\u001b[38;5;241;43m*\u001b[39;49m\u001b[43mdbapi_args\u001b[49m\u001b[43m)\u001b[49m\n\u001b[0;32m    601\u001b[0m dialect_args[\u001b[38;5;124m\"\u001b[39m\u001b[38;5;124mdbapi\u001b[39m\u001b[38;5;124m\"\u001b[39m] \u001b[38;5;241m=\u001b[39m dbapi\n\u001b[0;32m    603\u001b[0m dialect_args\u001b[38;5;241m.\u001b[39msetdefault(\u001b[38;5;124m\"\u001b[39m\u001b[38;5;124mcompiler_linting\u001b[39m\u001b[38;5;124m\"\u001b[39m, compiler\u001b[38;5;241m.\u001b[39mNO_LINTING)\n",
      "File \u001b[1;32mc:\\Users\\HP\\Documents\\ICAM\\uk-crime\\.venv\\Lib\\site-packages\\sqlalchemy\\dialects\\mysql\\mariadbconnector.py:155\u001b[0m, in \u001b[0;36mMySQLDialect_mariadbconnector.import_dbapi\u001b[1;34m(cls)\u001b[0m\n\u001b[0;32m    153\u001b[0m \u001b[38;5;129m@classmethod\u001b[39m\n\u001b[0;32m    154\u001b[0m \u001b[38;5;28;01mdef\u001b[39;00m \u001b[38;5;21mimport_dbapi\u001b[39m(\u001b[38;5;28mcls\u001b[39m):\n\u001b[1;32m--> 155\u001b[0m     \u001b[38;5;28;01mreturn\u001b[39;00m \u001b[38;5;28;43m__import__\u001b[39;49m\u001b[43m(\u001b[49m\u001b[38;5;124;43m\"\u001b[39;49m\u001b[38;5;124;43mmariadb\u001b[39;49m\u001b[38;5;124;43m\"\u001b[39;49m\u001b[43m)\u001b[49m\n",
      "\u001b[1;31mModuleNotFoundError\u001b[0m: No module named 'mariadb'"
     ]
    }
   ],
   "source": [
    "from sqlalchemy import create_engine, text\n",
    "from sqlalchemy.orm import sessionmaker\n",
    "from sqlalchemy.exc import SQLAlchemyError\n",
    "\n",
    "def create_connection_sqlalchemy(host, user, password, db_name, port=3306):\n",
    "    \"\"\"\n",
    "    Crée une connexion à la base de données MariaDB en utilisant SQLAlchemy.\n",
    "    \n",
    "    Args:\n",
    "    host (str): Adresse de l'hôte de la base de données.\n",
    "    user (str): Nom d'utilisateur pour la base de données.\n",
    "    password (str): Mot de passe pour la base de données.\n",
    "    db_name (str): Nom de la base de données.\n",
    "    port (int): Port de la base de données.\n",
    "    \n",
    "    Returns:\n",
    "    session: Une session SQLAlchemy pour interagir avec la base de données.\n",
    "    engine: Le moteur SQLAlchemy.\n",
    "    \"\"\"\n",
    "    try:\n",
    "        DATABASE_URL = f\"mariadb+mariadbconnector://{user}:{password}@{host}:{port}/{db_name}\"\n",
    "        engine = create_engine(DATABASE_URL)\n",
    "        Session = sessionmaker(bind=engine)\n",
    "        session = Session()\n",
    "        print(\"Connexion réussie à la base de données MariaDB\")\n",
    "        return session, engine\n",
    "    except SQLAlchemyError as e:\n",
    "        print(f\"Erreur lors de la connexion à la base de données : {e}\")\n",
    "        return None, None\n",
    "\n",
    "# Connexion à la base de données via SQLAlchemy\n",
    "db_name = \"crime\"\n",
    "connection, engine = create_connection_sqlalchemy(\"127.0.0.1\", \"root\", \"\", db_name)\n",
    "\n",
    "if connection:\n",
    "    query = text(\"SELECT DISTINCT Crimetype FROM street_temp\")\n",
    "    \n",
    "    # Exécution de la requête\n",
    "    result = connection.execute(query)\n",
    "    \n",
    "    # Récupération des résultats\n",
    "    rows = result.fetchall()\n",
    "    \n",
    "    # Fermer la connexion\n",
    "    result.close()\n",
    "    print(rows)\n",
    "    \n",
    "    # Fermer la connexion proprement\n",
    "    connection.close()\n",
    "    print(\"Connexion fermée.\")"
   ]
  },
  {
   "cell_type": "code",
   "execution_count": null,
   "metadata": {},
   "outputs": [],
   "source": []
  }
 ],
 "metadata": {
  "kernelspec": {
   "display_name": ".venv",
   "language": "python",
   "name": "python3"
  },
  "language_info": {
   "codemirror_mode": {
    "name": "ipython",
    "version": 3
   },
   "file_extension": ".py",
   "mimetype": "text/x-python",
   "name": "python",
   "nbconvert_exporter": "python",
   "pygments_lexer": "ipython3",
   "version": "3.12.1"
  }
 },
 "nbformat": 4,
 "nbformat_minor": 2
}
