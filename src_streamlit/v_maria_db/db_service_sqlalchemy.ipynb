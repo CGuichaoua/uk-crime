{
 "cells": [
  {
   "cell_type": "code",
   "execution_count": 3,
   "metadata": {},
   "outputs": [
    {
     "name": "stdout",
     "output_type": "stream",
     "text": [
      "Connexion réussie à la base de données MariaDB\n",
      "[('Burglary',), ('Criminal damage and arson',), ('Public order',), ('Violence and sexual offences',), ('Anti-social behaviour',), ('Other theft',), ('Shoplifting',), ('Bicycle theft',), ('Vehicle crime',), ('Drugs',), ('Other crime',), ('Robbery',), ('Theft from the person',), ('Possession of weapons',)]\n",
      "Connexion fermée.\n"
     ]
    }
   ],
   "source": [
    "from sqlalchemy import create_engine, text\n",
    "from sqlalchemy.orm import sessionmaker\n",
    "from sqlalchemy.exc import SQLAlchemyError\n",
    "\n",
    "def create_connection_sqlalchemy(host, user, password, db_name, port=3306):\n",
    "    \"\"\"\n",
    "    Crée une connexion à la base de données MariaDB en utilisant SQLAlchemy.\n",
    "    \n",
    "    Args:\n",
    "    host (str): Adresse de l'hôte de la base de données.\n",
    "    user (str): Nom d'utilisateur pour la base de données.\n",
    "    password (str): Mot de passe pour la base de données.\n",
    "    db_name (str): Nom de la base de données.\n",
    "    port (int): Port de la base de données.\n",
    "    \n",
    "    Returns:\n",
    "    session: Une session SQLAlchemy pour interagir avec la base de données.\n",
    "    engine: Le moteur SQLAlchemy.\n",
    "    \"\"\"\n",
    "    try:\n",
    "        DATABASE_URL = f\"mariadb+mariadbconnector://{user}:{password}@{host}:{port}/{db_name}\"\n",
    "        engine = create_engine(DATABASE_URL)\n",
    "        Session = sessionmaker(bind=engine)\n",
    "        session = Session()\n",
    "        print(\"Connexion réussie à la base de données MariaDB\")\n",
    "        return session, engine\n",
    "    except SQLAlchemyError as e:\n",
    "        print(f\"Erreur lors de la connexion à la base de données : {e}\")\n",
    "        return None, None\n",
    "\n",
    "# Connexion à la base de données via SQLAlchemy\n",
    "db_name = \"crime\"\n",
    "connection, engine = create_connection_sqlalchemy(\"127.0.0.1\", \"root\", \"\", db_name)\n",
    "\n",
    "if connection:\n",
    "    query = text(\"SELECT DISTINCT Crimetype FROM street_temp\")\n",
    "    \n",
    "    # Exécution de la requête\n",
    "    result = connection.execute(query)\n",
    "    \n",
    "    # Récupération des résultats\n",
    "    rows = result.fetchall()\n",
    "    \n",
    "    # Fermer la connexion\n",
    "    result.close()\n",
    "    print(rows)\n",
    "    \n",
    "    # Fermer la connexion proprement\n",
    "    connection.close()\n",
    "    print(\"Connexion fermée.\")"
   ]
  },
  {
   "cell_type": "code",
   "execution_count": null,
   "metadata": {},
   "outputs": [],
   "source": []
  }
 ],
 "metadata": {
  "kernelspec": {
   "display_name": ".venv",
   "language": "python",
   "name": "python3"
  },
  "language_info": {
   "codemirror_mode": {
    "name": "ipython",
    "version": 3
   },
   "file_extension": ".py",
   "mimetype": "text/x-python",
   "name": "python",
   "nbconvert_exporter": "python",
   "pygments_lexer": "ipython3",
   "version": "3.12.6"
  }
 },
 "nbformat": 4,
 "nbformat_minor": 2
}
