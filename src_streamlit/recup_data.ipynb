{
 "cells": [
  {
   "cell_type": "code",
   "execution_count": 1,
   "metadata": {},
   "outputs": [],
   "source": [
    "import streamlit as st\n",
    "import pydeck as pdk\n",
    "import pandas as pd\n",
    "import mysql.connector\n",
    "from mysql.connector import Error\n"
   ]
  },
  {
   "cell_type": "code",
   "execution_count": 2,
   "metadata": {},
   "outputs": [],
   "source": [
    "\n",
    "\n",
    "# Fonction de connexion à MariaDB\n",
    "def create_connection(host_name, user_name, user_password, db_name=None, port=3306):\n",
    "    try:\n",
    "        connection = mysql.connector.connect(\n",
    "            host=host_name,\n",
    "            user=user_name,\n",
    "            password=user_password,\n",
    "            database=db_name,\n",
    "            port=port,\n",
    "            connection_timeout=10,  # 10 minutes de délai\n",
    "        )\n",
    "        print(\n",
    "            f\"Connexion réussie à la base de données {db_name}\"\n",
    "            if db_name\n",
    "            else \"Connexion réussie au serveur MariaDB\"\n",
    "        )\n",
    "        return connection\n",
    "    except Error as e:\n",
    "        print(f\"Erreur : '{e}'\")\n",
    "        return None\n"
   ]
  },
  {
   "cell_type": "code",
   "execution_count": 3,
   "metadata": {},
   "outputs": [
    {
     "ename": "",
     "evalue": "",
     "output_type": "error",
     "traceback": [
      "\u001b[1;31mLe noyau s’est bloqué lors de l’exécution du code dans une cellule active ou une cellule précédente. \n",
      "\u001b[1;31mVeuillez vérifier le code dans la ou les cellules pour identifier une cause possible de l’échec. \n",
      "\u001b[1;31mCliquez <a href='https://aka.ms/vscodeJupyterKernelCrash'>ici</a> pour plus d’informations. \n",
      "\u001b[1;31mPour plus d’informations, consultez Jupyter <a href='command:jupyter.viewOutput'>log</a>."
     ]
    }
   ],
   "source": [
    "\n",
    "db_name = \"crime\"\n",
    "# Connexion à MariaDB\n",
    "conn = create_connection(\"localhost\", \"username\", \"password\", db_name)\n",
    "\n"
   ]
  },
  {
   "cell_type": "code",
   "execution_count": null,
   "metadata": {},
   "outputs": [],
   "source": [
    "\n",
    "# Vérifier si la connexion a réussi\n",
    "if conn:\n",
    "    try:\n",
    "        # Exécuter la requête pour récupérer les données géolocalisées\n",
    "        query = \"\"\"\n",
    "        SELECT Latitude, Longitude, Crimetype\n",
    "        FROM street_temp\n",
    "        WHERE latitude IS NOT NULL AND longitude IS NOT NULL;\n",
    "        \"\"\"\n",
    "        df = pd.read_sql(query, conn)\n",
    "\n",
    "        # Fermer la connexion\n",
    "        conn.close()\n",
    "\n",
    "        # Configuration de la vue de la carte\n",
    "        view_state = pdk.ViewState(\n",
    "            latitude=df[\"latitude\"].mean(),  # Position initiale de la carte\n",
    "            longitude=df[\"longitude\"].mean(),\n",
    "            zoom=10,\n",
    "            pitch=50,\n",
    "        )\n",
    "\n",
    "        # Création de la couche de visualisation des points\n",
    "        layer = pdk.Layer(\n",
    "            \"ScatterplotLayer\",\n",
    "            df,\n",
    "            get_position=\"[longitude, latitude]\",\n",
    "            get_radius=200,\n",
    "            get_color=[255, 0, 0],  # Couleur rouge pour les points\n",
    "            pickable=True,\n",
    "        )\n",
    "\n",
    "        # Affichage de la carte dans Streamlit\n",
    "        st.pydeck_chart(pdk.Deck(layers=[layer], initial_view_state=view_state))\n",
    "\n",
    "    except Error as e:\n",
    "        st.error(f\"Erreur lors de l'exécution de la requête SQL : {e}\")\n",
    "\n",
    "else:\n",
    "    st.error(\"Impossible de se connecter à la base de données.\")\n"
   ]
  }
 ],
 "metadata": {
  "kernelspec": {
   "display_name": ".venv",
   "language": "python",
   "name": "python3"
  },
  "language_info": {
   "codemirror_mode": {
    "name": "ipython",
    "version": 3
   },
   "file_extension": ".py",
   "mimetype": "text/x-python",
   "name": "python",
   "nbconvert_exporter": "python",
   "pygments_lexer": "ipython3",
   "version": "3.12.3"
  }
 },
 "nbformat": 4,
 "nbformat_minor": 2
}
