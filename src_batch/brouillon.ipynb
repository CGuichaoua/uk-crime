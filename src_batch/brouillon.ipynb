{
 "cells": [
  {
   "cell_type": "code",
   "execution_count": 2,
   "metadata": {},
   "outputs": [
    {
     "name": "stdout",
     "output_type": "stream",
     "text": [
      "La clé 'clé3' n'existe pas dans le dictionnaire.\n"
     ]
    }
   ],
   "source": [
    "dict_nom_fichier = {\n",
    "    'clé1': 'valeur1',\n",
    "    'clé2': 'valeur2',\n",
    "    # autres paires clé-valeur\n",
    "}\n",
    "\n",
    "# Supposons que info_geo soit la clé que vous voulez vérifier\n",
    "info_geo = 'clé3'\n",
    "\n",
    "# Tester si dict_nom_fichier[info_geo] existe\n",
    "if info_geo in dict_nom_fichier:\n",
    "    print(f\"La clé '{info_geo}' existe dans le dictionnaire.\")\n",
    "    # Faites quelque chose si la clé existe\n",
    "else:\n",
    "    print(f\"La clé '{info_geo}' n'existe pas dans le dictionnaire.\")\n",
    "    # Faites quelque chose si la clé n'existe pas"
   ]
  },
  {
   "cell_type": "code",
   "execution_count": null,
   "metadata": {},
   "outputs": [],
   "source": []
  }
 ],
 "metadata": {
  "kernelspec": {
   "display_name": ".venv",
   "language": "python",
   "name": "python3"
  },
  "language_info": {
   "codemirror_mode": {
    "name": "ipython",
    "version": 3
   },
   "file_extension": ".py",
   "mimetype": "text/x-python",
   "name": "python",
   "nbconvert_exporter": "python",
   "pygments_lexer": "ipython3",
   "version": "3.12.6"
  }
 },
 "nbformat": 4,
 "nbformat_minor": 2
}
