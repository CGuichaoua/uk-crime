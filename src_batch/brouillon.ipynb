{
 "cells": [
  {
   "cell_type": "code",
   "execution_count": 4,
   "metadata": {},
   "outputs": [],
   "source": [
    "import pandas as pd"
   ]
  },
  {
   "cell_type": "code",
   "execution_count": 5,
   "metadata": {},
   "outputs": [
    {
     "name": "stdout",
     "output_type": "stream",
     "text": [
      "La clé 'clé3' n'existe pas dans le dictionnaire.\n"
     ]
    }
   ],
   "source": [
    "dict_nom_fichier = {\n",
    "    'clé1': 'valeur1',\n",
    "    'clé2': 'valeur2',\n",
    "    # autres paires clé-valeur\n",
    "}\n",
    "\n",
    "# Supposons que info_geo soit la clé que vous voulez vérifier\n",
    "info_geo = 'clé3'\n",
    "\n",
    "# Tester si dict_nom_fichier[info_geo] existe\n",
    "if info_geo in dict_nom_fichier:\n",
    "    print(f\"La clé '{info_geo}' existe dans le dictionnaire.\")\n",
    "    # Faites quelque chose si la clé existe\n",
    "else:\n",
    "    print(f\"La clé '{info_geo}' n'existe pas dans le dictionnaire.\")\n",
    "    # Faites quelque chose si la clé n'existe pas"
   ]
  },
  {
   "cell_type": "code",
   "execution_count": 6,
   "metadata": {},
   "outputs": [
    {
     "name": "stdout",
     "output_type": "stream",
     "text": [
      "       Nom  Âge      Ville\n",
      "0    Alice   25      Paris\n",
      "1      Bob   30       Lyon\n",
      "2  Charlie   35  Marseille\n"
     ]
    }
   ],
   "source": [
    "\n",
    "\n",
    "# Exemple de dictionnaire\n",
    "data = {\n",
    "    'Nom': ['Alice', 'Bob', 'Charlie'],\n",
    "    'Âge': [25, 30, 35],\n",
    "    'Ville': ['Paris', 'Lyon', 'Marseille']\n",
    "}\n",
    "\n",
    "# Créer un DataFrame à partir du dictionnaire\n",
    "df = pd.DataFrame(data)\n",
    "\n",
    "# Afficher le DataFrame\n",
    "print(df)"
   ]
  },
  {
   "cell_type": "code",
   "execution_count": 9,
   "metadata": {},
   "outputs": [
    {
     "data": {
      "text/plain": [
       "'Alice'"
      ]
     },
     "execution_count": 9,
     "metadata": {},
     "output_type": "execute_result"
    }
   ],
   "source": [
    "df['Nom'].iloc[0]"
   ]
  },
  {
   "cell_type": "code",
   "execution_count": null,
   "metadata": {},
   "outputs": [],
   "source": []
  }
 ],
 "metadata": {
  "kernelspec": {
   "display_name": ".venv",
   "language": "python",
   "name": "python3"
  },
  "language_info": {
   "codemirror_mode": {
    "name": "ipython",
    "version": 3
   },
   "file_extension": ".py",
   "mimetype": "text/x-python",
   "name": "python",
   "nbconvert_exporter": "python",
   "pygments_lexer": "ipython3",
   "version": "3.12.6"
  }
 },
 "nbformat": 4,
 "nbformat_minor": 2
}
