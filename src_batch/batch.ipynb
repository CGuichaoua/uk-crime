{
 "cells": [
  {
   "cell_type": "code",
   "execution_count": 1,
   "metadata": {},
   "outputs": [],
   "source": [
    "import os\n",
    "import sqlite3\n",
    "import pandas as pd"
   ]
  },
  {
   "cell_type": "code",
   "execution_count": 2,
   "metadata": {},
   "outputs": [],
   "source": [
    "def creer_table_si_absente(cursor, nom_table, colonnes):\n",
    "    \"\"\"\n",
    "    Crée une table dans la base de données si elle n'existe pas déjà,\n",
    "    en utilisant les colonnes extraites de l'en-tête du fichier CSV.\n",
    "    \"\"\"\n",
    "    colonnes_avec_types = ', '.join([f\"{colonne} TEXT\" for colonne in colonnes])\n",
    "    requete_creation = f\"CREATE TABLE IF NOT EXISTS {nom_table} ({colonnes_avec_types});\"\n",
    "    cursor.execute(requete_creation)\n"
   ]
  },
  {
   "cell_type": "code",
   "execution_count": 4,
   "metadata": {},
   "outputs": [],
   "source": [
    "def inserer_donnees(cursor, nom_table, colonnes, donnees):\n",
    "    \"\"\"\n",
    "    Insère les données dans la table. \n",
    "    \"\"\"\n",
    "    placeholders = ', '.join(['?' for _ in colonnes])\n",
    "    colonnes_str = ', '.join(colonnes)\n",
    "    requete_insertion = f\"INSERT INTO {nom_table} ({colonnes_str}) VALUES ({placeholders});\"\n",
    "    cursor.executemany(requete_insertion, donnees)"
   ]
  },
  {
   "cell_type": "code",
   "execution_count": 12,
   "metadata": {},
   "outputs": [],
   "source": [
    "def traiter_fichier(chemin_fichier, connection, nom_table=\"personnes\"):\n",
    "    \"\"\"\n",
    "    Traite un fichier CSV en créant une table correspondante et en y insérant les données.\n",
    "    \"\"\"\n",
    "    #nom_table = os.path.splitext(os.path.basename(chemin_fichier))[0]  # Utilise le nom du fichier pour la table\n",
    "    df = pd.read_csv(chemin_fichier,sep=';')  # Charge le fichier CSV avec pandas\n",
    "    colonnes = list(df.columns)\n",
    "\n",
    "    cursor = connection.cursor()\n",
    "\n",
    "    # Créer la table si elle n'existe pas\n",
    "    creer_table_si_absente(cursor, nom_table, colonnes)\n",
    "\n",
    "    # Insérer les données dans la table\n",
    "    inserer_donnees(cursor, nom_table, colonnes, df.values.tolist())\n",
    "\n",
    "    # Commit les changements\n",
    "    connection.commit()\n",
    "\n",
    "    print(f\"Traitement du fichier : {chemin_fichier} terminé.\")"
   ]
  },
  {
   "cell_type": "code",
   "execution_count": 13,
   "metadata": {},
   "outputs": [],
   "source": [
    "def parcourir_arborescence(chemin_racine, db_path):\n",
    "    \"\"\"\n",
    "    Parcourt récursivement l'arborescence et traite chaque fichier CSV trouvé.\n",
    "    \"\"\"\n",
    "    # Créer ou se connecter à la base de données\n",
    "    connection = sqlite3.connect(db_path)\n",
    "\n",
    "    print(f\"Parcours de l'arborescence à partir de : {chemin_racine}\")\n",
    "\n",
    "    for racine, sous_repertoires, fichiers in os.walk(chemin_racine):\n",
    "        print(f\"Répertoire courant : {racine}\")\n",
    "        for sous_repertoire in sous_repertoires:\n",
    "            print(f\"Répertoire trouvé : {sous_repertoire}\")\n",
    "        for fichier in fichiers:\n",
    "            if fichier.endswith(\".csv\"):\n",
    "                chemin_fichier = os.path.join(racine, fichier)\n",
    "                traiter_fichier(chemin_fichier, connection)\n",
    "\n",
    "    # Fermer la connexion à la base de données\n",
    "    connection.close()"
   ]
  },
  {
   "cell_type": "code",
   "execution_count": 14,
   "metadata": {},
   "outputs": [
    {
     "name": "stdout",
     "output_type": "stream",
     "text": [
      "Parcours de l'arborescence à partir de : C:/Users/michel/Documents/ICAM/files\n",
      "Répertoire courant : C:/Users/michel/Documents/ICAM/files\n",
      "Répertoire trouvé : détail_files\n",
      "Répertoire courant : C:/Users/michel/Documents/ICAM/files\\détail_files\n",
      "Traitement du fichier : C:/Users/michel/Documents/ICAM/files\\détail_files\\file1.csv terminé.\n",
      "Traitement du fichier : C:/Users/michel/Documents/ICAM/files\\détail_files\\file2.csv terminé.\n"
     ]
    }
   ],
   "source": [
    "\n",
    "chemin_racine = \"C:/Users/michel/Documents/ICAM/files\" \n",
    "db_path = \"data.db\" \n",
    "parcourir_arborescence(chemin_racine, db_path)\n"
   ]
  },
  {
   "cell_type": "code",
   "execution_count": null,
   "metadata": {},
   "outputs": [],
   "source": []
  }
 ],
 "metadata": {
  "kernelspec": {
   "display_name": ".venv",
   "language": "python",
   "name": "python3"
  },
  "language_info": {
   "codemirror_mode": {
    "name": "ipython",
    "version": 3
   },
   "file_extension": ".py",
   "mimetype": "text/x-python",
   "name": "python",
   "nbconvert_exporter": "python",
   "pygments_lexer": "ipython3",
   "version": "3.12.3"
  }
 },
 "nbformat": 4,
 "nbformat_minor": 2
}
