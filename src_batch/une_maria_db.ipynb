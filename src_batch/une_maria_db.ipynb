{
 "cells": [
  {
   "cell_type": "code",
   "execution_count": 1,
   "metadata": {},
   "outputs": [
    {
     "name": "stdout",
     "output_type": "stream",
     "text": [
      "Erreur : '1045 (28000): Access denied for user 'root'@'localhost' (using password: YES)'\n"
     ]
    },
    {
     "ename": "AttributeError",
     "evalue": "'NoneType' object has no attribute 'cursor'",
     "output_type": "error",
     "traceback": [
      "\u001b[1;31m---------------------------------------------------------------------------\u001b[0m",
      "\u001b[1;31mAttributeError\u001b[0m                            Traceback (most recent call last)",
      "Cell \u001b[1;32mIn[1], line 54\u001b[0m\n\u001b[0;32m     52\u001b[0m \u001b[38;5;66;03m# Création d'une base de données\u001b[39;00m\n\u001b[0;32m     53\u001b[0m create_database_query \u001b[38;5;241m=\u001b[39m \u001b[38;5;124m\"\u001b[39m\u001b[38;5;124mCREATE DATABASE IF NOT EXISTS test_db\u001b[39m\u001b[38;5;124m\"\u001b[39m\n\u001b[1;32m---> 54\u001b[0m \u001b[43mcreate_database\u001b[49m\u001b[43m(\u001b[49m\u001b[43mconnection\u001b[49m\u001b[43m,\u001b[49m\u001b[43m \u001b[49m\u001b[43mcreate_database_query\u001b[49m\u001b[43m)\u001b[49m\n\u001b[0;32m     56\u001b[0m \u001b[38;5;66;03m# Connexion à la base nouvellement créée\u001b[39;00m\n\u001b[0;32m     57\u001b[0m connection \u001b[38;5;241m=\u001b[39m create_connection(\u001b[38;5;124m\"\u001b[39m\u001b[38;5;124mlocalhost\u001b[39m\u001b[38;5;124m\"\u001b[39m, \u001b[38;5;124m\"\u001b[39m\u001b[38;5;124mroot\u001b[39m\u001b[38;5;124m\"\u001b[39m, \u001b[38;5;124m\"\u001b[39m\u001b[38;5;124m\"\u001b[39m)\n",
      "Cell \u001b[1;32mIn[1], line 21\u001b[0m, in \u001b[0;36mcreate_database\u001b[1;34m(connection, query)\u001b[0m\n\u001b[0;32m     20\u001b[0m \u001b[38;5;28;01mdef\u001b[39;00m \u001b[38;5;21mcreate_database\u001b[39m(connection, query):\n\u001b[1;32m---> 21\u001b[0m     cursor \u001b[38;5;241m=\u001b[39m \u001b[43mconnection\u001b[49m\u001b[38;5;241;43m.\u001b[39;49m\u001b[43mcursor\u001b[49m()\n\u001b[0;32m     22\u001b[0m     \u001b[38;5;28;01mtry\u001b[39;00m:\n\u001b[0;32m     23\u001b[0m         cursor\u001b[38;5;241m.\u001b[39mexecute(query)\n",
      "\u001b[1;31mAttributeError\u001b[0m: 'NoneType' object has no attribute 'cursor'"
     ]
    }
   ],
   "source": [
    "import mysql.connector\n",
    "from mysql.connector import Error\n",
    "\n",
    "# Connexion à MariaDB\n",
    "def create_connection(host_name, user_name, user_password, db_name=None):\n",
    "    try:\n",
    "        connection = mysql.connector.connect(\n",
    "            host=host_name,\n",
    "            user=user_name,\n",
    "            password=user_password,\n",
    "            database=db_name\n",
    "        )\n",
    "        print(\"Connexion réussie à la base de données MariaDB\")\n",
    "        return connection\n",
    "    except Error as e:\n",
    "        print(f\"Erreur : '{e}'\")\n",
    "        return None\n",
    "\n",
    "# Création de la base de données\n",
    "def create_database(connection, query):\n",
    "    cursor = connection.cursor()\n",
    "    try:\n",
    "        cursor.execute(query)\n",
    "        print(\"Base de données créée avec succès\")\n",
    "    except Error as e:\n",
    "        print(f\"Erreur : '{e}'\")\n",
    "\n",
    "# Création d'une table\n",
    "def create_table(connection, query):\n",
    "    cursor = connection.cursor()\n",
    "    try:\n",
    "        cursor.execute(query)\n",
    "        print(\"Table créée avec succès\")\n",
    "    except Error as e:\n",
    "        print(f\"Erreur : '{e}'\")\n",
    "\n",
    "# Insertion de données dans la table\n",
    "def insert_data(connection, query, values):\n",
    "    cursor = connection.cursor()\n",
    "    try:\n",
    "        cursor.executemany(query, values)\n",
    "        connection.commit()\n",
    "        print(f\"{cursor.rowcount} enregistrements insérés\")\n",
    "    except Error as e:\n",
    "        print(f\"Erreur : '{e}'\")\n",
    "\n",
    "# Exemple d'utilisation\n",
    "if __name__ == \"__main__\":\n",
    "    # Connexion au serveur MariaDB\n",
    "    connection = create_connection(\"localhost\", \"root\", \"your_password\")\n",
    "\n",
    "    # Création d'une base de données\n",
    "    create_database_query = \"CREATE DATABASE IF NOT EXISTS test_db\"\n",
    "    create_database(connection, create_database_query)\n",
    "\n",
    "    # Connexion à la base nouvellement créée\n",
    "    connection = create_connection(\"localhost\", \"root\", \"\")\n",
    "\n",
    "    # Création d'une table\n",
    "    create_table_query = \"\"\"\n",
    "    CREATE TABLE IF NOT EXISTS users (\n",
    "        id INT AUTO_INCREMENT PRIMARY KEY,\n",
    "        name VARCHAR(100) NOT NULL,\n",
    "        age INT,\n",
    "        gender VARCHAR(10),\n",
    "        nationality VARCHAR(100)\n",
    "    );\n",
    "    \"\"\"\n",
    "    create_table(connection, create_table_query)\n",
    "\n",
    "    # Insertion de données\n",
    "    insert_query = \"\"\"\n",
    "    INSERT INTO users (name, age, gender, nationality) \n",
    "    VALUES (%s, %s, %s, %s)\n",
    "    \"\"\"\n",
    "    users = [\n",
    "        (\"John\", 28, \"Male\", \"USA\"),\n",
    "        (\"Anna\", 22, \"Female\", \"Canada\"),\n",
    "        (\"Mike\", 32, \"Male\", \"UK\")\n",
    "    ]\n",
    "    insert_data(connection, insert_query, users)\n",
    "\n",
    "    # Fermer la connexion\n",
    "    if connection.is_connected():\n",
    "        connection.close()\n",
    "        print(\"Connexion MariaDB fermée\")\n"
   ]
  },
  {
   "cell_type": "code",
   "execution_count": null,
   "metadata": {},
   "outputs": [],
   "source": []
  }
 ],
 "metadata": {
  "kernelspec": {
   "display_name": ".venv",
   "language": "python",
   "name": "python3"
  },
  "language_info": {
   "codemirror_mode": {
    "name": "ipython",
    "version": 3
   },
   "file_extension": ".py",
   "mimetype": "text/x-python",
   "name": "python",
   "nbconvert_exporter": "python",
   "pygments_lexer": "ipython3",
   "version": "3.12.6"
  }
 },
 "nbformat": 4,
 "nbformat_minor": 2
}
