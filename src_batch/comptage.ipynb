{
 "cells": [
  {
   "cell_type": "code",
   "execution_count": 1,
   "metadata": {},
   "outputs": [],
   "source": [
    "\"\"\"\n",
    "Created on Mon Oct 14 22:15:07 2024\n",
    "\n",
    "@author: ianni\n",
    "\"\"\"\n",
    "\n",
    "import os\n",
    "import pandas as pd\n",
    "\n",
    "folder=\"C:/Users/Admin.local/Documents/projetint/files\"\n",
    "\n",
    "\n",
    "\n",
    "ending1='outcomes.csv'\n",
    "ending2='stop-and-search.csv'\n",
    "ending3='street.csv'\n",
    "# Initialize empty lists to hold DataFrames\n",
    "dfs1 = []\n",
    "dfs2 = []\n",
    "dfs3 = []\n",
    "for root,dirs,_ in os.walk(folder):\n",
    "    for directory in dirs:\n",
    "        file_path=root+'/'+directory\n",
    "        for root2,_,files in os.walk(file_path):\n",
    "             for files_path in files:\n",
    "                 path=root2+'/'+files_path\n",
    "                 if path.endswith(ending1):                         \n",
    "                     # Read the CSV file and append it to the list\n",
    "                     dfs1.append(pd.read_csv(path))\n",
    "                 elif path.endswith(ending2):\n",
    "                     # Read the CSV file and append it to the list\n",
    "                     dfs2.append(pd.read_csv(path))\n",
    "                 elif path.endswith(ending3):\n",
    "                     # Read the CSV file and append it to the list\n",
    "                     dfs3.append(pd.read_csv(path))\n",
    "                     \n",
    "# Concatenate the lists of DataFrames into single DataFrames\n",
    "df1 = pd.concat(dfs1, ignore_index=True) if dfs1 else pd.DataFrame()  # DataFrame for outcomes.csv\n",
    "df2 = pd.concat(dfs2, ignore_index=True) if dfs2 else pd.DataFrame()  # DataFrame for stop-and-search.csv\n",
    "df3 = pd.concat(dfs3, ignore_index=True) if dfs3 else pd.DataFrame()  # DataFrame for street.csv\n",
    "\n"
   ]
  },
  {
   "cell_type": "code",
   "execution_count": 2,
   "metadata": {},
   "outputs": [
    {
     "name": "stdout",
     "output_type": "stream",
     "text": [
      "13023959\n"
     ]
    }
   ],
   "source": [
    "print(len(df1))"
   ]
  },
  {
   "cell_type": "code",
   "execution_count": 3,
   "metadata": {},
   "outputs": [
    {
     "name": "stdout",
     "output_type": "stream",
     "text": [
      "1723605\n"
     ]
    }
   ],
   "source": [
    "print(len(df2))"
   ]
  },
  {
   "cell_type": "code",
   "execution_count": 4,
   "metadata": {},
   "outputs": [
    {
     "name": "stdout",
     "output_type": "stream",
     "text": [
      "18915001\n"
     ]
    }
   ],
   "source": [
    "print(len(df3))"
   ]
  },
  {
   "cell_type": "code",
   "execution_count": null,
   "metadata": {},
   "outputs": [],
   "source": []
  }
 ],
 "metadata": {
  "kernelspec": {
   "display_name": ".venv",
   "language": "python",
   "name": "python3"
  },
  "language_info": {
   "codemirror_mode": {
    "name": "ipython",
    "version": 3
   },
   "file_extension": ".py",
   "mimetype": "text/x-python",
   "name": "python",
   "nbconvert_exporter": "python",
   "pygments_lexer": "ipython3",
   "version": "3.12.6"
  }
 },
 "nbformat": 4,
 "nbformat_minor": 2
}
