{
 "cells": [
  {
   "cell_type": "code",
   "execution_count": 42,
   "metadata": {},
   "outputs": [],
   "source": [
    "import os\n",
    "import sqlite3\n",
    "import pandas as pd"
   ]
  },
  {
   "cell_type": "code",
   "execution_count": 76,
   "metadata": {},
   "outputs": [],
   "source": [
    "def creer_table_si_absente(cursor, nom_table, colonnes,dtype):\n",
    "    \"\"\"\n",
    "    Crée une table dans la base de données si elle n'existe pas déjà,\n",
    "    en utilisant les colonnes extraites de l'en-tête du fichier CSV.\n",
    "    \"\"\"\n",
    "    colonnes_avec_types = []\n",
    "    for colonne in colonnes:\n",
    "        type_colonne = dtype.get(colonne, 'TEXT')  # Utiliser 'TEXT' par défaut si le type n'est pas spécifié\n",
    "        if type_colonne == 'float':\n",
    "            type_colonne = 'REAL'\n",
    "        elif type_colonne == 'int':\n",
    "            type_colonne = 'INTEGER'\n",
    "        colonnes_avec_types.append(f\"{colonne} {type_colonne}\")\n",
    "    colonnes_avec_types_str = ', '.join(colonnes_avec_types)\n",
    "    requete_creation = f\"CREATE TABLE IF NOT EXISTS {nom_table} ({colonnes_avec_types_str});\"\n",
    "    print(requete_creation)\n",
    "    cursor.execute(requete_creation)\n"
   ]
  },
  {
   "cell_type": "code",
   "execution_count": 77,
   "metadata": {},
   "outputs": [],
   "source": [
    "def inserer_donnees(cursor, nom_table, colonnes, donnees):\n",
    "    \"\"\"\n",
    "    Insère les données dans la table. \n",
    "    \"\"\"\n",
    "    placeholders = ', '.join(['?' for _ in colonnes])\n",
    "    colonnes_str = ', '.join(colonnes)\n",
    "    requete_insertion = f\"INSERT INTO {nom_table} ({colonnes_str}) VALUES ({placeholders});\"\n",
    "    cursor.executemany(requete_insertion, donnees)"
   ]
  },
  {
   "cell_type": "code",
   "execution_count": 78,
   "metadata": {},
   "outputs": [],
   "source": [
    "def extraire_info_du_nom_fichier(fichier,liste_nom_table):  \n",
    "    # extraction informations du nom de fichier à encoder dans la table\n",
    "    annee_mois=fichier[:7]\n",
    "    info_geo=fichier[8:-4]\n",
    "    # where sans l'élément qui est dans la liste\n",
    "    for i in liste_nom_table:\n",
    "        if i in info_geo:\n",
    "            info_geo=info_geo.replace(i,\"\")[:-1]\n",
    "    return annee_mois,info_geo"
   ]
  },
  {
   "cell_type": "code",
   "execution_count": 79,
   "metadata": {},
   "outputs": [],
   "source": [
    "def nettoyer_noms_colonnes(colonnes):\n",
    "    \"\"\"\n",
    "    Nettoie les noms des colonnes pour éviter les problèmes de requêtes SQL.\n",
    "    \"\"\"\n",
    "     # nettoyage des noms de colonnes\n",
    "    colonnes = [colonne.replace(' ', '') for colonne in colonnes]\n",
    "    colonnes = [colonne.replace('-', '') for colonne in colonnes]\n",
    "    colonnes = [colonne.replace('_', '') for colonne in colonnes]\n",
    "    colonnes_nettoyees = [colonne.replace(' ', '').replace('-', '').replace('_', '') for colonne in colonnes]\n",
    "    return colonnes_nettoyees"
   ]
  },
  {
   "cell_type": "code",
   "execution_count": 80,
   "metadata": {},
   "outputs": [],
   "source": [
    "def nettoyer_nom_table(liste_nom_table,chemin_fichier):\n",
    "    for nom_table in liste_nom_table:\n",
    "        if nom_table in chemin_fichier:\n",
    "            nom_table = nom_table.replace('-', '')\n",
    "            break\n",
    "        else:\n",
    "            nom_table = 'autre'\n",
    "            \n",
    "    print(f\"nom de la table : {nom_table}\")\n",
    "    # Créer la table si elle n'existe pas\n",
    "    return nom_table\n"
   ]
  },
  {
   "cell_type": "code",
   "execution_count": 81,
   "metadata": {},
   "outputs": [],
   "source": [
    "def traiter_fichier(chemin_fichier, fichier, connection,liste_nom_table,dtype):\n",
    "    \"\"\"\n",
    "    Traite un fichier CSV en créant une table correspondante et en y insérant les données.\n",
    "    \"\"\"\n",
    "    # Gérer les valeurs manquantes\n",
    "    na_values = ['NA', 'N/A', '']\n",
    "\n",
    "    df = pd.read_csv(chemin_fichier, dtype=dtype, na_values=na_values)\n",
    "\n",
    "    # rajout des informations year_month et where dans le dataframe\n",
    "    annee_mois,info_geo = extraire_info_du_nom_fichier(fichier,liste_nom_table)\n",
    "    df['annee_mois'] = annee_mois\n",
    "    df['info_geo'] = info_geo\n",
    "    \n",
    "    nom_table = nettoyer_nom_table(liste_nom_table,chemin_fichier)\n",
    "    colonnes = nettoyer_noms_colonnes(list(df.columns))\n",
    "\n",
    "    # Insérer les données dans la table\n",
    "    cursor = connection.cursor()\n",
    "    creer_table_si_absente(cursor, nom_table, colonnes,dtype)\n",
    "    inserer_donnees(cursor, nom_table, colonnes, df.values.tolist())\n",
    "\n",
    "    # Commit les changements\n",
    "    connection.commit()\n",
    "\n",
    "    print(f\"Traitement du fichier : {chemin_fichier} terminé.\")\n",
    "\n",
    "    return df"
   ]
  },
  {
   "cell_type": "code",
   "execution_count": 82,
   "metadata": {},
   "outputs": [],
   "source": [
    "def parcourir_arborescence(chemin_racine, db_path,liste_nom_table,dtype):\n",
    "    \"\"\"\n",
    "    Parcourt récursivement l'arborescence et traite chaque fichier CSV trouvé.\n",
    "    \"\"\"\n",
    "    # Créer ou se connecter à la base de données\n",
    "    connection = sqlite3.connect(db_path)\n",
    "\n",
    "    for racine, sous_repertoires, fichiers in os.walk(chemin_racine):\n",
    "         for fichier in fichiers:\n",
    "            if fichier.endswith(\".csv\"):\n",
    "                chemin_fichier = os.path.join(racine, fichier)\n",
    "                df=traiter_fichier(chemin_fichier, fichier,connection,liste_nom_table,dtype)\n",
    "    # Fermer la connexion à la base de données\n",
    "    connection.close()\n",
    "    return df"
   ]
  },
  {
   "cell_type": "code",
   "execution_count": 83,
   "metadata": {},
   "outputs": [
    {
     "name": "stdout",
     "output_type": "stream",
     "text": [
      "nom de la table : outcomes\n",
      "CREATE TABLE IF NOT EXISTS outcomes (CrimeID TEXT, Month TEXT, Reportedby TEXT, Fallswithin TEXT, Longitude REAL, Latitude REAL, Location TEXT, LSOAcode TEXT, LSOAname TEXT, Outcometype TEXT, anneemois TEXT, infogeo TEXT);\n",
      "Traitement du fichier : C:/Users/Admin.local/Documents/projetint/files_test\\files\\2021-10-avon-and-somerset-outcomes.csv terminé.\n",
      "nom de la table : stopandsearch\n",
      "CREATE TABLE IF NOT EXISTS stopandsearch (Type TEXT, Date TEXT, Partofapolicingoperation TEXT, Policingoperation TEXT, Latitude REAL, Longitude REAL, Gender TEXT, Agerange TEXT, Selfdefinedethnicity TEXT, Officerdefinedethnicity TEXT, Legislation TEXT, Objectofsearch TEXT, Outcome TEXT, Outcomelinkedtoobjectofsearch TEXT, Removalofmorethanjustouterclothing TEXT, anneemois TEXT, infogeo TEXT);\n",
      "Traitement du fichier : C:/Users/Admin.local/Documents/projetint/files_test\\files\\2021-10-avon-and-somerset-stop-and-search.csv terminé.\n",
      "nom de la table : street\n",
      "CREATE TABLE IF NOT EXISTS street (CrimeID TEXT, Month TEXT, Reportedby TEXT, Fallswithin TEXT, Longitude REAL, Latitude REAL, Location TEXT, LSOAcode TEXT, LSOAname TEXT, Crimetype TEXT, Lastoutcomecategory TEXT, Context TEXT, anneemois TEXT, infogeo TEXT);\n",
      "Traitement du fichier : C:/Users/Admin.local/Documents/projetint/files_test\\files\\2021-10-avon-and-somerset-street.csv terminé.\n"
     ]
    }
   ],
   "source": [
    "\n",
    "chemin_racine = \"C:/Users/Admin.local/Documents/projetint/files_test\"\n",
    "\n",
    "db_path = \"data.db\" \n",
    "\n",
    "# on définit le nom des tables en fonction du nom du fichier (terminaison)\n",
    "liste_nom_table = ['outcomes','stop-and-search','street']\n",
    "\n",
    "dtype={'Longitude': 'float', 'Latitude': 'float'}\n",
    "\n",
    "df=parcourir_arborescence(chemin_racine, db_path,liste_nom_table,dtype)\n"
   ]
  },
  {
   "cell_type": "code",
   "execution_count": 86,
   "metadata": {},
   "outputs": [
    {
     "data": {
      "text/html": [
       "<div>\n",
       "<style scoped>\n",
       "    .dataframe tbody tr th:only-of-type {\n",
       "        vertical-align: middle;\n",
       "    }\n",
       "\n",
       "    .dataframe tbody tr th {\n",
       "        vertical-align: top;\n",
       "    }\n",
       "\n",
       "    .dataframe thead th {\n",
       "        text-align: right;\n",
       "    }\n",
       "</style>\n",
       "<table border=\"1\" class=\"dataframe\">\n",
       "  <thead>\n",
       "    <tr style=\"text-align: right;\">\n",
       "      <th></th>\n",
       "      <th>Crime ID</th>\n",
       "      <th>Month</th>\n",
       "      <th>Reported by</th>\n",
       "      <th>Falls within</th>\n",
       "      <th>Longitude</th>\n",
       "      <th>Latitude</th>\n",
       "      <th>Location</th>\n",
       "      <th>LSOA code</th>\n",
       "      <th>LSOA name</th>\n",
       "      <th>Crime type</th>\n",
       "      <th>Last outcome category</th>\n",
       "      <th>Context</th>\n",
       "      <th>annee_mois</th>\n",
       "      <th>info_geo</th>\n",
       "    </tr>\n",
       "  </thead>\n",
       "  <tbody>\n",
       "    <tr>\n",
       "      <th>0</th>\n",
       "      <td>NaN</td>\n",
       "      <td>2021-10</td>\n",
       "      <td>Avon and Somerset Constabulary</td>\n",
       "      <td>Avon and Somerset Constabulary</td>\n",
       "      <td>-2.494870</td>\n",
       "      <td>51.422276</td>\n",
       "      <td>On or near Conference/Exhibition Centre</td>\n",
       "      <td>E01014399</td>\n",
       "      <td>Bath and North East Somerset 001A</td>\n",
       "      <td>Anti-social behaviour</td>\n",
       "      <td>NaN</td>\n",
       "      <td>NaN</td>\n",
       "      <td>2021-10</td>\n",
       "      <td>avon-and-somerset</td>\n",
       "    </tr>\n",
       "    <tr>\n",
       "      <th>1</th>\n",
       "      <td>NaN</td>\n",
       "      <td>2021-10</td>\n",
       "      <td>Avon and Somerset Constabulary</td>\n",
       "      <td>Avon and Somerset Constabulary</td>\n",
       "      <td>-2.511761</td>\n",
       "      <td>51.409966</td>\n",
       "      <td>On or near Caernarvon Close</td>\n",
       "      <td>E01014399</td>\n",
       "      <td>Bath and North East Somerset 001A</td>\n",
       "      <td>Anti-social behaviour</td>\n",
       "      <td>NaN</td>\n",
       "      <td>NaN</td>\n",
       "      <td>2021-10</td>\n",
       "      <td>avon-and-somerset</td>\n",
       "    </tr>\n",
       "  </tbody>\n",
       "</table>\n",
       "</div>"
      ],
      "text/plain": [
       "  Crime ID    Month                     Reported by  \\\n",
       "0      NaN  2021-10  Avon and Somerset Constabulary   \n",
       "1      NaN  2021-10  Avon and Somerset Constabulary   \n",
       "\n",
       "                     Falls within  Longitude   Latitude  \\\n",
       "0  Avon and Somerset Constabulary  -2.494870  51.422276   \n",
       "1  Avon and Somerset Constabulary  -2.511761  51.409966   \n",
       "\n",
       "                                  Location  LSOA code  \\\n",
       "0  On or near Conference/Exhibition Centre  E01014399   \n",
       "1              On or near Caernarvon Close  E01014399   \n",
       "\n",
       "                           LSOA name             Crime type  \\\n",
       "0  Bath and North East Somerset 001A  Anti-social behaviour   \n",
       "1  Bath and North East Somerset 001A  Anti-social behaviour   \n",
       "\n",
       "  Last outcome category  Context annee_mois           info_geo  \n",
       "0                   NaN      NaN    2021-10  avon-and-somerset  \n",
       "1                   NaN      NaN    2021-10  avon-and-somerset  "
      ]
     },
     "execution_count": 86,
     "metadata": {},
     "output_type": "execute_result"
    }
   ],
   "source": [
    "df.head(2)"
   ]
  },
  {
   "cell_type": "code",
   "execution_count": 85,
   "metadata": {},
   "outputs": [
    {
     "name": "stdout",
     "output_type": "stream",
     "text": [
      "<class 'pandas.core.frame.DataFrame'>\n",
      "RangeIndex: 14554 entries, 0 to 14553\n",
      "Data columns (total 14 columns):\n",
      " #   Column                 Non-Null Count  Dtype  \n",
      "---  ------                 --------------  -----  \n",
      " 0   Crime ID               12241 non-null  object \n",
      " 1   Month                  14554 non-null  object \n",
      " 2   Reported by            14554 non-null  object \n",
      " 3   Falls within           14554 non-null  object \n",
      " 4   Longitude              13411 non-null  float64\n",
      " 5   Latitude               13411 non-null  float64\n",
      " 6   Location               14554 non-null  object \n",
      " 7   LSOA code              13411 non-null  object \n",
      " 8   LSOA name              13411 non-null  object \n",
      " 9   Crime type             14554 non-null  object \n",
      " 10  Last outcome category  12241 non-null  object \n",
      " 11  Context                0 non-null      float64\n",
      " 12  annee_mois             14554 non-null  object \n",
      " 13  info_geo               14554 non-null  object \n",
      "dtypes: float64(3), object(11)\n",
      "memory usage: 1.6+ MB\n"
     ]
    }
   ],
   "source": [
    "df.info()"
   ]
  },
  {
   "cell_type": "code",
   "execution_count": null,
   "metadata": {},
   "outputs": [],
   "source": []
  },
  {
   "cell_type": "code",
   "execution_count": null,
   "metadata": {},
   "outputs": [],
   "source": []
  },
  {
   "cell_type": "code",
   "execution_count": null,
   "metadata": {},
   "outputs": [],
   "source": []
  },
  {
   "cell_type": "code",
   "execution_count": null,
   "metadata": {},
   "outputs": [],
   "source": []
  },
  {
   "cell_type": "code",
   "execution_count": 67,
   "metadata": {},
   "outputs": [],
   "source": [
    "# exécuter la requête  suivante \n",
    "requete = \"\"\"\n",
    "select * from outcomes as o join street as s on o.`CrimeID` = s.`CrimeID` \n",
    "where o.`Reportedby` != s.`Reportedby`  or o.`Fallswithin` != s.`Fallswithin`\n",
    "or o.Longitude != s.Longitude or s.Latitude != o.Latitude \n",
    "or o.Location != s.Location or o.`LSOAcode` != s.`LSOAcode` \n",
    "or o.`LSOAname` != s.`LSOAname`\n",
    "\"\"\"\n",
    "\n",
    "connection = sqlite3.connect(db_path)\n",
    "df = pd.read_sql_query(requete, connection)\n",
    "print(df)\n",
    "connection.close()\n"
   ]
  },
  {
   "cell_type": "code",
   "execution_count": null,
   "metadata": {},
   "outputs": [],
   "source": []
  }
 ],
 "metadata": {
  "kernelspec": {
   "display_name": ".venv",
   "language": "python",
   "name": "python3"
  },
  "language_info": {
   "codemirror_mode": {
    "name": "ipython",
    "version": 3
   },
   "file_extension": ".py",
   "mimetype": "text/x-python",
   "name": "python",
   "nbconvert_exporter": "python",
   "pygments_lexer": "ipython3",
   "version": "3.12.6"
  }
 },
 "nbformat": 4,
 "nbformat_minor": 2
}
