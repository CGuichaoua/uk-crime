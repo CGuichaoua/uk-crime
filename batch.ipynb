{
 "cells": [
  {
   "cell_type": "code",
   "execution_count": 6,
   "metadata": {},
   "outputs": [],
   "source": [
    "import os\n",
    "\n",
    "def traiter_fichier(chemin_fichier):\n",
    "    # Implémentez ici le traitement à appliquer à chaque fichier\n",
    "    print(f\"Traitement du fichier : {chemin_fichier}\")\n",
    "\n",
    "def parcourir_arborescence(chemin_racine):\n",
    "    \"\"\"\n",
    "    Parcourt récursivement l'arborescence de répertoires à partir du chemin_racine\n",
    "    et applique la fonction traiter_fichier à chaque fichier trouvé.\n",
    "    \"\"\"\n",
    "    print(f\"Parcours de l'arborescence à partir de : {chemin_racine}\")\n",
    "    for racine, sous_repertoires, fichiers in os.walk(chemin_racine):\n",
    "        print(f\"Répertoire courant : {racine}\")\n",
    "        for sous_repertoire in sous_repertoires:\n",
    "            print(f\"Répertoire trouvé : {sous_repertoire}\")\n",
    "        for fichier in fichiers:\n",
    "            chemin_fichier = os.path.join(racine, fichier)\n",
    "            traiter_fichier(chemin_fichier)\n",
    "\n"
   ]
  },
  {
   "cell_type": "code",
   "execution_count": 9,
   "metadata": {},
   "outputs": [
    {
     "name": "stdout",
     "output_type": "stream",
     "text": [
      "Parcours de l'arborescence à partir de : C:/Users/michel/Documents/ICAM/files\n",
      "Répertoire courant : C:/Users/michel/Documents/ICAM/files\n",
      "Répertoire trouvé : détail_files\n",
      "Répertoire courant : C:/Users/michel/Documents/ICAM/files\\détail_files\n",
      "Traitement du fichier : C:/Users/michel/Documents/ICAM/files\\détail_files\\file1.csv\n",
      "Traitement du fichier : C:/Users/michel/Documents/ICAM/files\\détail_files\\file2.csv\n"
     ]
    }
   ],
   "source": [
    "\n",
    "chemin_racine = \"C:/Users/michel/Documents/ICAM/files\" \n",
    "parcourir_arborescence(chemin_racine)\n"
   ]
  },
  {
   "cell_type": "code",
   "execution_count": null,
   "metadata": {},
   "outputs": [],
   "source": []
  }
 ],
 "metadata": {
  "kernelspec": {
   "display_name": ".venv",
   "language": "python",
   "name": "python3"
  },
  "language_info": {
   "codemirror_mode": {
    "name": "ipython",
    "version": 3
   },
   "file_extension": ".py",
   "mimetype": "text/x-python",
   "name": "python",
   "nbconvert_exporter": "python",
   "pygments_lexer": "ipython3",
   "version": "3.12.3"
  }
 },
 "nbformat": 4,
 "nbformat_minor": 2
}
