{
 "cells": [
  {
   "cell_type": "code",
   "execution_count": 66,
   "metadata": {},
   "outputs": [],
   "source": [
    "import pandas as pd\n",
    "import numpy as np\n",
    "import atexit\n",
    "from db_service_sqlalchemy import create_connection, close_connection\n",
    "from sqlalchemy import create_engine, MetaData, Table, Column, Integer, String, Float, Boolean, DateTime, update,text\n",
    "from sqlalchemy.exc import SQLAlchemyError\n",
    "from sklearn.neighbors import NearestNeighbors\n",
    "from collections import Counter\n",
    "from lsoa_sa_boundaries import *\n"
   ]
  },
  {
   "cell_type": "code",
   "execution_count": 87,
   "metadata": {},
   "outputs": [],
   "source": [
    "def update_player(df,conn,table_destination):\n",
    "    '''\n",
    "    Parameters\n",
    "    ----------\n",
    "    df : dataframe to upsert into database-> table player\n",
    "\n",
    "    Returns\n",
    "    -------\n",
    "    None.\n",
    "\n",
    "    '''\n",
    "\n",
    "    df.to_sql('table_travail',conn,if_exists='replace',index=False)\n",
    "                              \n",
    "    conn.execute(f\"\"\"\n",
    "                 INSERT INTO {table_destination}\n",
    "                 SELECT *\n",
    "                 FROM table_travail\n",
    "                 ON CONFLICT ON CONSTRAINT PRIMARY \n",
    "                 DO UPDATE\n",
    "                 SET LSOAcode=EXCLUDED.LSOAcode,\n",
    "                 LSOAname=EXCLUDED.LSOAname,\n",
    "                 \"\"\")\n",
    "    conn.commit()\n",
    "    "
   ]
  },
  {
   "cell_type": "code",
   "execution_count": 88,
   "metadata": {},
   "outputs": [],
   "source": [
    "def connect_maria(db_name:str, user=\"root\", pwd=\"\", host=\"localhost\", port=\"3306\"):\n",
    "    \"\"\"\n",
    "    Connecte une base de données MariaDB via SQLalchemy\n",
    "    \"\"\"\n",
    "    return create_engine(\n",
    "        f\"mariadb+pymysql://{user}:{pwd}@{host}:{port}/{db_name}\")\n"
   ]
  },
  {
   "cell_type": "code",
   "execution_count": 89,
   "metadata": {},
   "outputs": [
    {
     "name": "stdout",
     "output_type": "stream",
     "text": [
      "crime_short\n"
     ]
    }
   ],
   "source": [
    "print(db_name)"
   ]
  },
  {
   "cell_type": "code",
   "execution_count": 90,
   "metadata": {},
   "outputs": [
    {
     "name": "stdout",
     "output_type": "stream",
     "text": [
      "Connexion réussie à la base de données MariaDB\n"
     ]
    },
    {
     "data": {
      "text/plain": [
       "<function __main__.<lambda>()>"
      ]
     },
     "execution_count": 90,
     "metadata": {},
     "output_type": "execute_result"
    }
   ],
   "source": [
    "\n",
    "\n",
    "def update_table_with_df(table_name, table_fields, df, df_columns, engine, session, table_key_field, df_key_column):\n",
    "    \"\"\"\n",
    "    Met à jour une table de la base de données avec les données d'un DataFrame.\n",
    "\n",
    "    :param table_name: Nom de la table à mettre à jour\n",
    "    :param table_fields: Liste des champs de la table à mettre à jour\n",
    "    :param df: DataFrame contenant les données\n",
    "    :param df_columns: Liste des colonnes du DataFrame correspondant aux champs de la table\n",
    "    :param engine: SQLAlchemy engine\n",
    "    :param session: SQLAlchemy session\n",
    "    :param table_key_field: Champ de la table utilisé pour identifier les lignes\n",
    "    :param df_key_column: Colonne du DataFrame utilisée pour identifier les lignes\n",
    "    \"\"\"\n",
    "    metadata = MetaData()\n",
    "    table = Table(table_name, metadata, autoload_with=engine)\n",
    "    compteur=0\n",
    "    for index, row in df.iterrows():\n",
    "        stmt = (\n",
    "            update(table).\n",
    "            where(table.c[table_key_field] == row[df_key_column]).\n",
    "            values({table_fields[i]: row[df_columns[i]] for i in range(len(table_fields))})\n",
    "        )\n",
    "        session.execute(stmt)\n",
    "        compteur+=1\n",
    "        if compteur==1000:\n",
    "            print(\"1000 mise à jour\")\n",
    "            compteur=0\n",
    "\n",
    "    session.commit()\n",
    "\n",
    "def update_and_add_columns(table_name, table_fields, df, df_columns, engine, session, table_key_field, df_key_column, new_columns):\n",
    "    \"\"\"\n",
    "    Met à jour une table de la base de données avec les données d'un DataFrame et ajoute de nouvelles colonnes.\n",
    "\n",
    "    :param table_name: Nom de la table à mettre à jour\n",
    "    :param table_fields: Liste des champs de la table à mettre à jour\n",
    "    :param df: DataFrame contenant les données\n",
    "    :param df_columns: Liste des colonnes du DataFrame correspondant aux champs de la table\n",
    "    :param engine: SQLAlchemy engine\n",
    "    :param session: SQLAlchemy session\n",
    "    :param table_key_field: Champ de la table utilisé pour identifier les lignes\n",
    "    :param df_key_column: Colonne du DataFrame utilisée pour identifier les lignes\n",
    "    :param new_columns: Dictionnaire des nouvelles colonnes à ajouter (nom_colonne: type_colonne)\n",
    "    \"\"\"\n",
    "    metadata = MetaData(bind=engine)\n",
    "    table = Table(table_name, metadata, autoload_with=engine)\n",
    "\n",
    "    # Ajouter les nouvelles colonnes à la table\n",
    "    for col_name, col_type in new_columns.items():\n",
    "        if col_name not in table.columns:\n",
    "            col = Column(col_name, col_type)\n",
    "            col.create(table, populate_default=True)\n",
    "\n",
    "    for index, row in df.iterrows():\n",
    "        stmt = (\n",
    "            update(table).\n",
    "            where(table.c[table_key_field] == row[df_key_column]).\n",
    "            values({table_fields[i]: row[df_columns[i]] for i in range(len(table_fields))})\n",
    "        )\n",
    "        session.execute(stmt)\n",
    "\n",
    "    session.commit()\n",
    "\n",
    "\n",
    "# Connexion à la base de données\n",
    "db_name=\"crime_short\"\n",
    "conn, engine = create_connection(\"127.0.0.1\", \"root\", \"\", db_name)\n",
    "\n",
    "# Enregistrer la fonction de nettoyage pour qu'elle soit appelée à la sortie\n",
    "atexit.register(lambda:close_connection(conn,engine))\n"
   ]
  },
  {
   "cell_type": "code",
   "execution_count": 91,
   "metadata": {},
   "outputs": [
    {
     "name": "stdout",
     "output_type": "stream",
     "text": [
      "Connexion à la base de données réussie\n",
      "vérification des données avant intégration\n",
      "405433\n",
      "87407\n",
      "937274\n"
     ]
    }
   ],
   "source": [
    "\n",
    "print(\"Connexion à la base de données réussie\")\n",
    "\n",
    "\n",
    "# Exemple de requête SQL\n",
    "query = \"SELECT * FROM outcomes_temp\"\n",
    "df1 = pd.read_sql(query, conn)\n",
    "\n",
    "query = \"SELECT * FROM stopandsearch_temp\"\n",
    "df2 = pd.read_sql(query, conn)\n",
    "df2['LSOAcode'] = None\n",
    "df2['LSOAname'] = None\n",
    "\n",
    "\n",
    "query= \"SELECT * FROM street_temp\"\n",
    "df3 = pd.read_sql(query, conn)\n",
    "\n",
    "\n",
    "print('vérification des données avant intégration')\n",
    "print(len(df1))\n",
    "print(len(df2))\n",
    "print(len(df3))\n",
    "lsoa_file='LSOA_(2011)_to_LSOA_(2021)_to_Local_Authority_District_(2022)_Best_Fit_Lookup_for_EW_(V2).csv'\n",
    "sa_file='Look-up Tables_0.xlsx'\n",
    "\n"
   ]
  },
  {
   "cell_type": "code",
   "execution_count": 92,
   "metadata": {},
   "outputs": [
    {
     "data": {
      "text/plain": [
       "Index(['CrimeID', 'Month', 'Reportedby', 'Longitude', 'Latitude', 'Location',\n",
       "       'LSOAcode', 'LSOAname', 'Outcometype', 'anneemois', 'infogeo', 'id'],\n",
       "      dtype='object')"
      ]
     },
     "execution_count": 92,
     "metadata": {},
     "output_type": "execute_result"
    }
   ],
   "source": [
    "df1.columns"
   ]
  },
  {
   "cell_type": "code",
   "execution_count": 93,
   "metadata": {},
   "outputs": [],
   "source": [
    "\n",
    "\n",
    "\n",
    "lsoa_data=pd.read_csv(lsoa_file)\n",
    "lsoa_data=lsoa_data[['LSOA11CD','LSOA11NM']]\n",
    "\n",
    "sa_data=pd.read_excel(sa_file,sheet_name=2, engine='openpyxl')\n",
    "sa_data=sa_data[['SA2011','SA2011NAME']]\n",
    "sa_data['SA2011NAME']=sa_data['SA2011NAME'].str.extract(r'\\((.*?)\\)')\n"
   ]
  },
  {
   "cell_type": "code",
   "execution_count": 94,
   "metadata": {},
   "outputs": [
    {
     "name": "stderr",
     "output_type": "stream",
     "text": [
      "C:\\Users\\Admin.local\\AppData\\Local\\Temp\\ipykernel_5128\\224781694.py:46: SettingWithCopyWarning: \n",
      "A value is trying to be set on a copy of a slice from a DataFrame.\n",
      "Try using .loc[row_indexer,col_indexer] = value instead\n",
      "\n",
      "See the caveats in the documentation: https://pandas.pydata.org/pandas-docs/stable/user_guide/indexing.html#returning-a-view-versus-a-copy\n",
      "  missing_lsoa_df1['LSOAcode'] = [\n",
      "C:\\Users\\Admin.local\\AppData\\Local\\Temp\\ipykernel_5128\\224781694.py:51: SettingWithCopyWarning: \n",
      "A value is trying to be set on a copy of a slice from a DataFrame.\n",
      "Try using .loc[row_indexer,col_indexer] = value instead\n",
      "\n",
      "See the caveats in the documentation: https://pandas.pydata.org/pandas-docs/stable/user_guide/indexing.html#returning-a-view-versus-a-copy\n",
      "  missing_lsoa_df1['original_index'] = missing_lsoa_df1.index\n"
     ]
    },
    {
     "name": "stdout",
     "output_type": "stream",
     "text": [
      "                                             CrimeID    Month  \\\n",
      "0  4b6598fccb7993fdb6bdaaadbe13a976f8ab18abe151fa...  2019-11   \n",
      "1  0214adc5f554debfd007146378315c7c3817dfbcf4bdb0...  2019-11   \n",
      "2  4bfa0dc6589a256c8519e521f2c2d61b48071a345e5823...  2019-11   \n",
      "3  ee9f4c4dafc480cd35e7dfe37f61e5cde90dd683748dd4...  2019-11   \n",
      "4  c4322ca5564e31c2498d02f4d0b0169bba8bb2fc7247bf...  2019-11   \n",
      "\n",
      "                       Reportedby  Longitude  Latitude  \\\n",
      "0  Avon and Somerset Constabulary        NaN       NaN   \n",
      "1  Avon and Somerset Constabulary   -2.59270   51.5001   \n",
      "2  Avon and Somerset Constabulary        NaN       NaN   \n",
      "3  Avon and Somerset Constabulary        NaN       NaN   \n",
      "4  Avon and Somerset Constabulary   -2.32222   51.2303   \n",
      "\n",
      "                     Location   LSOAcode      LSOAname  \\\n",
      "0                 No location       None          None   \n",
      "1  On or near PENRITH GARDENS  E01014631  Bristol 004A   \n",
      "2                 No location       None          None   \n",
      "3                 No location       None          None   \n",
      "4    On or near PALMER STREET  E01029041   Mendip 004B   \n",
      "\n",
      "                                    Outcometype anneemois  \\\n",
      "0                   Unable to prosecute suspect   2019-11   \n",
      "1                   Unable to prosecute suspect   2019-11   \n",
      "2  Further action is not in the public interest   2019-11   \n",
      "3                               Suspect charged   2019-11   \n",
      "4                               Suspect charged   2019-11   \n",
      "\n",
      "                          infogeo  id  \n",
      "0  Avon and Somerset Constabulary   1  \n",
      "1  Avon and Somerset Constabulary   2  \n",
      "2  Avon and Somerset Constabulary   3  \n",
      "3  Avon and Somerset Constabulary   4  \n",
      "4  Avon and Somerset Constabulary   5  \n"
     ]
    }
   ],
   "source": [
    "# =============================================================================\n",
    "# step 1 take row with latitude and no lsoa and fill lsoa if possible in df1\n",
    "# =============================================================================\n",
    "mask = (df1['LSOAcode'].isnull()) & (df1['Latitude'].notnull())\n",
    "# Use the mask with .loc to keep the original indices\n",
    "missing_lsoa_df1 = df1.loc[mask]\n",
    "# missing_lsoa_df1 = df1[df1['LSOA code'].isnull()] # si code = null, name aussi\n",
    "# missing_lsoa_df1 = missing_lsoa_df1[missing_lsoa_df1['Latitude'].notnull()] # si longitude = ok, latitude aussi\n",
    "valid_lsoa_df1 = df1[df1['LSOAcode'].notnull()] # si code = null, name aussi\n",
    "valid_lsoa_df1 = valid_lsoa_df1[valid_lsoa_df1['Latitude'].notnull()] # si longitude = ok, latitude aussi\n",
    "valid_lsoa_df1 = valid_lsoa_df1.drop_duplicates(subset=['Latitude', 'Longitude', 'LSOAcode'])\n",
    "\n",
    "\n",
    "# Prepare coordinates for KNN\n",
    "valid_coords = valid_lsoa_df1[['Latitude', 'Longitude']].values\n",
    "missing_coords = missing_lsoa_df1[['Latitude', 'Longitude']].values\n",
    "\n",
    "\n",
    "knn = NearestNeighbors(n_neighbors=5, metric='euclidean')  # Euclidean distance for geographical proximity\n",
    "knn.fit(valid_coords)\n",
    "threshold=0.02\n",
    "\n",
    "distances, indices = knn.kneighbors(missing_coords)\n",
    "\n",
    "# Step 4: Extract the LSOAcodes for the nearest neighbors\n",
    "nearest_lsoa_codes = valid_lsoa_df1['LSOAcode'].values[indices]\n",
    "\n",
    "\n",
    "def most_common_lsoa(codes):\n",
    "    # Use Counter to count occurrences of each LSOAcode\n",
    "    if len(codes) > 0:\n",
    "        counts = Counter(codes)\n",
    "        # Get the most common LSOAcode\n",
    "        most_common = counts.most_common()\n",
    "        # Check for ties\n",
    "        highest_count = most_common[0][1]  # Get the highest frequency\n",
    "        candidates = [code for code, count in most_common if count == highest_count]\n",
    "        # Return the first one (the left-most in case of a draw)\n",
    "        return candidates[0]\n",
    "    return None  # In case there are no codes\n",
    "\n",
    "# Apply the function to find the most common LSOAcode for each row\n",
    "# =============================================================================\n",
    "# missing_lsoa_df1['LSOAcode'] = [most_common_lsoa(row) for row in nearest_lsoa_codes]\n",
    "# =============================================================================\n",
    "missing_lsoa_df1['LSOAcode'] = [\n",
    "    most_common_lsoa(valid_lsoa_df1['LSOAcode'].values[indices[i][distances[i] < threshold]]) \n",
    "    for i in range(len(missing_coords))\n",
    "]\n",
    "\n",
    "missing_lsoa_df1['original_index'] = missing_lsoa_df1.index\n",
    "missing_lsoa_df1 = missing_lsoa_df1.merge(lsoa_data, left_on='LSOAcode', right_on='LSOA11CD', how='left')\n",
    "missing_lsoa_df1['LSOAname'] = missing_lsoa_df1['LSOAname'].fillna(missing_lsoa_df1['LSOA11NM'])\n",
    "missing_lsoa_df1 = missing_lsoa_df1.drop(['LSOA11CD', 'LSOA11NM'], axis=1)\n",
    "missing_lsoa_df1 = missing_lsoa_df1[missing_lsoa_df1['LSOAcode']!='']\n",
    "missing_lsoa_df1.set_index('original_index', inplace=True)\n",
    "\n",
    "df1.update(missing_lsoa_df1)\n",
    "print(df1.head())\n",
    "\n",
    "\n"
   ]
  },
  {
   "cell_type": "code",
   "execution_count": 95,
   "metadata": {},
   "outputs": [],
   "source": [
    "\n",
    "# =============================================================================\n",
    "# step 3 take row with latitude and no lsoa and fill lsoa if possible in df3\n",
    "# =============================================================================\n",
    "\n",
    "mask = (df3['LSOAcode'].isnull()) & (df3['Latitude'].notnull())\n",
    "missing_lsoa_df3=df3.loc[mask]"
   ]
  },
  {
   "cell_type": "code",
   "execution_count": 96,
   "metadata": {},
   "outputs": [],
   "source": [
    "\n",
    "centroid_lsoa=[[get_lsoa_centroid(x,lsoa_geojson),x] for x in lsoa_data['LSOA11CD']]\n",
    "# centroid_sa=[[get_sa_centroid(x,sa_geojson),x] for x in sa_data['SA2011']]\n",
    "\n",
    "centroid_lsoa = [(lat_lon[0], lat_lon[1], code) for (lat_lon, code) in centroid_lsoa]\n",
    "centroid_lsoa = pd.DataFrame(centroid_lsoa, columns=['lat', 'lon', 'LSOAcode'])\n",
    "\n",
    "# centroid_sa = [(lat_lon[0], lat_lon[1], code) for (lat_lon, code) in centroid_sa if lat_lon is not None]\n",
    "# centroid_sa = pd.DataFrame(centroid_sa, columns=['lat', 'lon', 'SA code'])\n",
    "centroid_sa=pd.read_csv('sa_centroids.csv')\n"
   ]
  },
  {
   "cell_type": "code",
   "execution_count": 97,
   "metadata": {},
   "outputs": [],
   "source": [
    "\n",
    "#knn sur les centroid pour trouver le plus proche voisin des lat,lon orphelin de lsoa/sa code\n",
    "nn_sa = NearestNeighbors(n_neighbors=1, metric='euclidean')\n",
    "nn_sa.fit(centroid_sa[['lat', 'lon']])\n",
    "\n",
    "nn_lsoa = NearestNeighbors(n_neighbors=1, metric='euclidean')\n",
    "nn_lsoa.fit(centroid_lsoa[['lat', 'lon']])\n",
    "\n",
    "lsoa_codes = []\n",
    "distance_lsoa = []\n",
    "sa_codes = []\n",
    "distance_sa = []\n"
   ]
  },
  {
   "cell_type": "code",
   "execution_count": 98,
   "metadata": {},
   "outputs": [
    {
     "name": "stderr",
     "output_type": "stream",
     "text": [
      "c:\\Users\\Admin.local\\Documents\\projetint\\uk-crime\\.venv\\Lib\\site-packages\\sklearn\\base.py:493: UserWarning: X does not have valid feature names, but NearestNeighbors was fitted with feature names\n",
      "  warnings.warn(\n",
      "c:\\Users\\Admin.local\\Documents\\projetint\\uk-crime\\.venv\\Lib\\site-packages\\sklearn\\base.py:493: UserWarning: X does not have valid feature names, but NearestNeighbors was fitted with feature names\n",
      "  warnings.warn(\n",
      "C:\\Users\\Admin.local\\AppData\\Local\\Temp\\ipykernel_5128\\3653547595.py:10: SettingWithCopyWarning: \n",
      "A value is trying to be set on a copy of a slice from a DataFrame.\n",
      "Try using .loc[row_indexer,col_indexer] = value instead\n",
      "\n",
      "See the caveats in the documentation: https://pandas.pydata.org/pandas-docs/stable/user_guide/indexing.html#returning-a-view-versus-a-copy\n",
      "  missing_lsoa_df3['lsoa_code_match'] = centroid_lsoa.iloc[indices_lsoa.flatten()]['LSOAcode'].values\n",
      "C:\\Users\\Admin.local\\AppData\\Local\\Temp\\ipykernel_5128\\3653547595.py:11: SettingWithCopyWarning: \n",
      "A value is trying to be set on a copy of a slice from a DataFrame.\n",
      "Try using .loc[row_indexer,col_indexer] = value instead\n",
      "\n",
      "See the caveats in the documentation: https://pandas.pydata.org/pandas-docs/stable/user_guide/indexing.html#returning-a-view-versus-a-copy\n",
      "  missing_lsoa_df3['distance_lsoa_match'] = distances_lsoa.flatten()\n",
      "C:\\Users\\Admin.local\\AppData\\Local\\Temp\\ipykernel_5128\\3653547595.py:13: SettingWithCopyWarning: \n",
      "A value is trying to be set on a copy of a slice from a DataFrame.\n",
      "Try using .loc[row_indexer,col_indexer] = value instead\n",
      "\n",
      "See the caveats in the documentation: https://pandas.pydata.org/pandas-docs/stable/user_guide/indexing.html#returning-a-view-versus-a-copy\n",
      "  missing_lsoa_df3['sa_code_match'] = centroid_sa.iloc[indices_sa.flatten()]['SA code'].values\n",
      "C:\\Users\\Admin.local\\AppData\\Local\\Temp\\ipykernel_5128\\3653547595.py:14: SettingWithCopyWarning: \n",
      "A value is trying to be set on a copy of a slice from a DataFrame.\n",
      "Try using .loc[row_indexer,col_indexer] = value instead\n",
      "\n",
      "See the caveats in the documentation: https://pandas.pydata.org/pandas-docs/stable/user_guide/indexing.html#returning-a-view-versus-a-copy\n",
      "  missing_lsoa_df3['distance_sa_match'] = distances_sa.flatten()\n"
     ]
    }
   ],
   "source": [
    "\n",
    "coordinates = missing_lsoa_df3[['Latitude', 'Longitude']].values\n",
    "\n",
    "# Get nearest neighbors for LSOA\n",
    "distances_lsoa, indices_lsoa = nn_lsoa.kneighbors(coordinates)\n",
    "\n",
    "# Get nearest neighbors for SA\n",
    "distances_sa, indices_sa = nn_sa.kneighbors(coordinates)\n",
    "\n",
    "# Extract the corresponding LSOAcodes and SA codes\n",
    "missing_lsoa_df3['lsoa_code_match'] = centroid_lsoa.iloc[indices_lsoa.flatten()]['LSOAcode'].values\n",
    "missing_lsoa_df3['distance_lsoa_match'] = distances_lsoa.flatten()\n",
    "\n",
    "missing_lsoa_df3['sa_code_match'] = centroid_sa.iloc[indices_sa.flatten()]['SA code'].values\n",
    "missing_lsoa_df3['distance_sa_match'] = distances_sa.flatten()\n",
    "\n",
    "\n",
    "threshold = 0.01  #~1km\n"
   ]
  },
  {
   "cell_type": "code",
   "execution_count": 99,
   "metadata": {},
   "outputs": [
    {
     "data": {
      "text/html": [
       "<div>\n",
       "<style scoped>\n",
       "    .dataframe tbody tr th:only-of-type {\n",
       "        vertical-align: middle;\n",
       "    }\n",
       "\n",
       "    .dataframe tbody tr th {\n",
       "        vertical-align: top;\n",
       "    }\n",
       "\n",
       "    .dataframe thead th {\n",
       "        text-align: right;\n",
       "    }\n",
       "</style>\n",
       "<table border=\"1\" class=\"dataframe\">\n",
       "  <thead>\n",
       "    <tr style=\"text-align: right;\">\n",
       "      <th></th>\n",
       "      <th>CrimeID</th>\n",
       "      <th>Month</th>\n",
       "      <th>Reportedby</th>\n",
       "      <th>Longitude</th>\n",
       "      <th>Latitude</th>\n",
       "      <th>Location</th>\n",
       "      <th>LSOAcode</th>\n",
       "      <th>LSOAname</th>\n",
       "      <th>Crimetype</th>\n",
       "      <th>Lastoutcomecategory</th>\n",
       "      <th>Context</th>\n",
       "      <th>anneemois</th>\n",
       "      <th>infogeo</th>\n",
       "      <th>id</th>\n",
       "      <th>lsoa_code_match</th>\n",
       "      <th>distance_lsoa_match</th>\n",
       "      <th>sa_code_match</th>\n",
       "      <th>distance_sa_match</th>\n",
       "    </tr>\n",
       "  </thead>\n",
       "  <tbody>\n",
       "    <tr>\n",
       "      <th>21331</th>\n",
       "      <td>None</td>\n",
       "      <td>2019-11</td>\n",
       "      <td>British Transport Police</td>\n",
       "      <td>-3.501970</td>\n",
       "      <td>55.9188</td>\n",
       "      <td>On or near Uphall (Station)</td>\n",
       "      <td>None</td>\n",
       "      <td>None</td>\n",
       "      <td>Bicycle theft</td>\n",
       "      <td>None</td>\n",
       "      <td>None</td>\n",
       "      <td>2019-11</td>\n",
       "      <td>British Transport Police</td>\n",
       "      <td>21332</td>\n",
       "      <td>E01019107</td>\n",
       "      <td>1.049509</td>\n",
       "      <td>N00000217</td>\n",
       "      <td>2.389558</td>\n",
       "    </tr>\n",
       "    <tr>\n",
       "      <th>21332</th>\n",
       "      <td>None</td>\n",
       "      <td>2019-11</td>\n",
       "      <td>British Transport Police</td>\n",
       "      <td>-2.729870</td>\n",
       "      <td>56.0578</td>\n",
       "      <td>On or near North Berwick (Station)</td>\n",
       "      <td>None</td>\n",
       "      <td>None</td>\n",
       "      <td>Bicycle theft</td>\n",
       "      <td>None</td>\n",
       "      <td>None</td>\n",
       "      <td>2019-11</td>\n",
       "      <td>British Transport Police</td>\n",
       "      <td>21333</td>\n",
       "      <td>E01027382</td>\n",
       "      <td>0.695959</td>\n",
       "      <td>N00000217</td>\n",
       "      <td>3.133531</td>\n",
       "    </tr>\n",
       "    <tr>\n",
       "      <th>21333</th>\n",
       "      <td>None</td>\n",
       "      <td>2019-11</td>\n",
       "      <td>British Transport Police</td>\n",
       "      <td>-4.577570</td>\n",
       "      <td>55.9476</td>\n",
       "      <td>On or near Dalreoch (Station)</td>\n",
       "      <td>None</td>\n",
       "      <td>None</td>\n",
       "      <td>Bicycle theft</td>\n",
       "      <td>None</td>\n",
       "      <td>None</td>\n",
       "      <td>2019-11</td>\n",
       "      <td>British Transport Police</td>\n",
       "      <td>21334</td>\n",
       "      <td>E01019126</td>\n",
       "      <td>1.607198</td>\n",
       "      <td>N00003140</td>\n",
       "      <td>1.596375</td>\n",
       "    </tr>\n",
       "    <tr>\n",
       "      <th>21334</th>\n",
       "      <td>None</td>\n",
       "      <td>2019-11</td>\n",
       "      <td>British Transport Police</td>\n",
       "      <td>-3.635920</td>\n",
       "      <td>55.9003</td>\n",
       "      <td>On or near Bathgate (Station)</td>\n",
       "      <td>None</td>\n",
       "      <td>None</td>\n",
       "      <td>Bicycle theft</td>\n",
       "      <td>None</td>\n",
       "      <td>None</td>\n",
       "      <td>2019-11</td>\n",
       "      <td>British Transport Police</td>\n",
       "      <td>21335</td>\n",
       "      <td>E01019126</td>\n",
       "      <td>1.066315</td>\n",
       "      <td>N00000217</td>\n",
       "      <td>2.266318</td>\n",
       "    </tr>\n",
       "    <tr>\n",
       "      <th>21335</th>\n",
       "      <td>None</td>\n",
       "      <td>2019-11</td>\n",
       "      <td>British Transport Police</td>\n",
       "      <td>-0.020213</td>\n",
       "      <td>53.9585</td>\n",
       "      <td>On or near York (Station)</td>\n",
       "      <td>None</td>\n",
       "      <td>None</td>\n",
       "      <td>Bicycle theft</td>\n",
       "      <td>None</td>\n",
       "      <td>None</td>\n",
       "      <td>2019-11</td>\n",
       "      <td>British Transport Police</td>\n",
       "      <td>21336</td>\n",
       "      <td>E01013050</td>\n",
       "      <td>0.152368</td>\n",
       "      <td>N00000319</td>\n",
       "      <td>5.443719</td>\n",
       "    </tr>\n",
       "  </tbody>\n",
       "</table>\n",
       "</div>"
      ],
      "text/plain": [
       "      CrimeID    Month                Reportedby  Longitude  Latitude  \\\n",
       "21331    None  2019-11  British Transport Police  -3.501970   55.9188   \n",
       "21332    None  2019-11  British Transport Police  -2.729870   56.0578   \n",
       "21333    None  2019-11  British Transport Police  -4.577570   55.9476   \n",
       "21334    None  2019-11  British Transport Police  -3.635920   55.9003   \n",
       "21335    None  2019-11  British Transport Police  -0.020213   53.9585   \n",
       "\n",
       "                                 Location LSOAcode LSOAname      Crimetype  \\\n",
       "21331         On or near Uphall (Station)     None     None  Bicycle theft   \n",
       "21332  On or near North Berwick (Station)     None     None  Bicycle theft   \n",
       "21333       On or near Dalreoch (Station)     None     None  Bicycle theft   \n",
       "21334       On or near Bathgate (Station)     None     None  Bicycle theft   \n",
       "21335           On or near York (Station)     None     None  Bicycle theft   \n",
       "\n",
       "      Lastoutcomecategory Context anneemois                   infogeo     id  \\\n",
       "21331                None    None   2019-11  British Transport Police  21332   \n",
       "21332                None    None   2019-11  British Transport Police  21333   \n",
       "21333                None    None   2019-11  British Transport Police  21334   \n",
       "21334                None    None   2019-11  British Transport Police  21335   \n",
       "21335                None    None   2019-11  British Transport Police  21336   \n",
       "\n",
       "      lsoa_code_match  distance_lsoa_match sa_code_match  distance_sa_match  \n",
       "21331       E01019107             1.049509     N00000217           2.389558  \n",
       "21332       E01027382             0.695959     N00000217           3.133531  \n",
       "21333       E01019126             1.607198     N00003140           1.596375  \n",
       "21334       E01019126             1.066315     N00000217           2.266318  \n",
       "21335       E01013050             0.152368     N00000319           5.443719  "
      ]
     },
     "execution_count": 99,
     "metadata": {},
     "output_type": "execute_result"
    }
   ],
   "source": [
    "missing_lsoa_df3.head()"
   ]
  },
  {
   "cell_type": "code",
   "execution_count": 100,
   "metadata": {},
   "outputs": [
    {
     "data": {
      "text/plain": [
       "22402"
      ]
     },
     "execution_count": 100,
     "metadata": {},
     "output_type": "execute_result"
    }
   ],
   "source": [
    "len(missing_lsoa_df3)"
   ]
  },
  {
   "cell_type": "code",
   "execution_count": 101,
   "metadata": {},
   "outputs": [],
   "source": [
    "missing_lsoa_df3.to_csv('missing_lsoa_df3.csv')"
   ]
  },
  {
   "cell_type": "code",
   "execution_count": 102,
   "metadata": {},
   "outputs": [
    {
     "name": "stderr",
     "output_type": "stream",
     "text": [
      "C:\\Users\\Admin.local\\AppData\\Local\\Temp\\ipykernel_5128\\3167833009.py:2: SettingWithCopyWarning: \n",
      "A value is trying to be set on a copy of a slice from a DataFrame.\n",
      "Try using .loc[row_indexer,col_indexer] = value instead\n",
      "\n",
      "See the caveats in the documentation: https://pandas.pydata.org/pandas-docs/stable/user_guide/indexing.html#returning-a-view-versus-a-copy\n",
      "  missing_lsoa_df3['LSOAcode'] = np.select(\n",
      "C:\\Users\\Admin.local\\AppData\\Local\\Temp\\ipykernel_5128\\3167833009.py:15: SettingWithCopyWarning: \n",
      "A value is trying to be set on a copy of a slice from a DataFrame\n",
      "\n",
      "See the caveats in the documentation: https://pandas.pydata.org/pandas-docs/stable/user_guide/indexing.html#returning-a-view-versus-a-copy\n",
      "  missing_lsoa_df3.drop(columns=missing_lsoa_df3.columns[-4:], inplace=True)\n",
      "C:\\Users\\Admin.local\\AppData\\Local\\Temp\\ipykernel_5128\\3167833009.py:18: SettingWithCopyWarning: \n",
      "A value is trying to be set on a copy of a slice from a DataFrame.\n",
      "Try using .loc[row_indexer,col_indexer] = value instead\n",
      "\n",
      "See the caveats in the documentation: https://pandas.pydata.org/pandas-docs/stable/user_guide/indexing.html#returning-a-view-versus-a-copy\n",
      "  missing_lsoa_df3['original_index'] = missing_lsoa_df3.index\n"
     ]
    },
    {
     "name": "stdout",
     "output_type": "stream",
     "text": [
      "                                             CrimeID    Month  \\\n",
      "0  1d12d73bb8f1eb0a71c7fd43b0430f3b78ca41ce5e4f90...  2019-11   \n",
      "1  3742b78ffb3ef54ae0d24d3b366504636e40bd64c36ec1...  2019-11   \n",
      "2  b4dfed0c7a05192ba7af98ba00bf03551a98c5956d21b6...  2019-11   \n",
      "3  c697db9e6b7682d089afcb4397488d561e5e188342df3a...  2019-11   \n",
      "4  14feaa58bcc76c85a71dbe50097655a5aa666cae339aa0...  2019-11   \n",
      "\n",
      "                       Reportedby  Longitude  Latitude  \\\n",
      "0  Avon and Somerset Constabulary   -3.18786   54.9482   \n",
      "1  Avon and Somerset Constabulary   -2.50913   51.4161   \n",
      "2  Avon and Somerset Constabulary   -2.50913   51.4161   \n",
      "3  Avon and Somerset Constabulary   -2.51176   51.4100   \n",
      "4  Avon and Somerset Constabulary   -2.50938   51.4096   \n",
      "\n",
      "                      Location   LSOAcode                           LSOAname  \\\n",
      "0        On or near Field View  E01019107                     Allerdale 002B   \n",
      "1   On or near St Francis Road  E01014399  Bath and North East Somerset 001A   \n",
      "2   On or near St Francis Road  E01014399  Bath and North East Somerset 001A   \n",
      "3  On or near Caernarvon Close  E01014399  Bath and North East Somerset 001A   \n",
      "4      On or near Barnard Walk  E01014399  Bath and North East Somerset 001A   \n",
      "\n",
      "                      Crimetype  \\\n",
      "0                      Burglary   \n",
      "1     Criminal damage and arson   \n",
      "2                  Public order   \n",
      "3  Violence and sexual offences   \n",
      "4  Violence and sexual offences   \n",
      "\n",
      "                             Lastoutcomecategory Context anneemois  \\\n",
      "0                      Status update unavailable    None   2019-11   \n",
      "1                      Status update unavailable    None   2019-11   \n",
      "2  Investigation complete; no suspect identified    None   2019-11   \n",
      "3                    Unable to prosecute suspect    None   2019-11   \n",
      "4                      Status update unavailable    None   2019-11   \n",
      "\n",
      "                          infogeo  id  \n",
      "0  Avon and Somerset Constabulary   1  \n",
      "1  Avon and Somerset Constabulary   2  \n",
      "2  Avon and Somerset Constabulary   3  \n",
      "3  Avon and Somerset Constabulary   4  \n",
      "4  Avon and Somerset Constabulary   5  \n"
     ]
    }
   ],
   "source": [
    "\n",
    "# Update the LSOAcode based on the smallest distance\n",
    "missing_lsoa_df3['LSOAcode'] = np.select(\n",
    "    [\n",
    "        (missing_lsoa_df3['distance_lsoa_match'] < threshold) & \n",
    "        (missing_lsoa_df3['distance_lsoa_match'] < missing_lsoa_df3['distance_sa_match']),\n",
    "        (missing_lsoa_df3['distance_sa_match'] < threshold)\n",
    "    ],\n",
    "    [\n",
    "        missing_lsoa_df3['lsoa_code_match'],\n",
    "        missing_lsoa_df3['sa_code_match']\n",
    "    ],\n",
    "    default=missing_lsoa_df3['LSOAcode']\n",
    ")\n",
    "\n",
    "missing_lsoa_df3.drop(columns=missing_lsoa_df3.columns[-4:], inplace=True)\n",
    "\n",
    "\n",
    "missing_lsoa_df3['original_index'] = missing_lsoa_df3.index\n",
    "missing_lsoa_df3 = missing_lsoa_df3.merge(lsoa_data, left_on='LSOAcode', right_on='LSOA11CD', how='left')\n",
    "missing_lsoa_df3['LSOAname'] = missing_lsoa_df3['LSOAname'].fillna(missing_lsoa_df3['LSOA11NM'])\n",
    "missing_lsoa_df3 = missing_lsoa_df3.drop(['LSOA11CD', 'LSOA11NM'], axis=1)\n",
    "\n",
    "missing_lsoa_df3 = missing_lsoa_df3.merge(sa_data, left_on='LSOAcode', right_on='SA2011', how='left')\n",
    "missing_lsoa_df3['LSOAname'] = missing_lsoa_df3['LSOAname'].fillna(missing_lsoa_df3['SA2011NAME'])\n",
    "missing_lsoa_df3 = missing_lsoa_df3.drop(['SA2011', 'SA2011NAME'], axis=1)\n",
    "\n",
    "missing_lsoa_df3 = missing_lsoa_df3[missing_lsoa_df3['LSOAcode']!='']\n",
    "missing_lsoa_df3.set_index('original_index', inplace=True)\n",
    "\n",
    "df3.update(missing_lsoa_df3)\n",
    "print(df3.head())\n",
    "\n",
    "\n",
    "\n",
    "\n"
   ]
  },
  {
   "cell_type": "code",
   "execution_count": 103,
   "metadata": {},
   "outputs": [
    {
     "data": {
      "text/plain": [
       "22402"
      ]
     },
     "execution_count": 103,
     "metadata": {},
     "output_type": "execute_result"
    }
   ],
   "source": [
    "len(missing_lsoa_df3)"
   ]
  },
  {
   "cell_type": "code",
   "execution_count": 104,
   "metadata": {},
   "outputs": [
    {
     "name": "stdout",
     "output_type": "stream",
     "text": [
      "Empty DataFrame\n",
      "Columns: [CrimeID, Month, Reportedby, Longitude, Latitude, Location, LSOAcode, LSOAname, Crimetype, Lastoutcomecategory, Context, anneemois, infogeo, id]\n",
      "Index: []\n"
     ]
    },
    {
     "name": "stderr",
     "output_type": "stream",
     "text": [
      "c:\\Users\\Admin.local\\Documents\\projetint\\uk-crime\\.venv\\Lib\\site-packages\\sklearn\\base.py:493: UserWarning: X does not have valid feature names, but NearestNeighbors was fitted with feature names\n",
      "  warnings.warn(\n",
      "c:\\Users\\Admin.local\\Documents\\projetint\\uk-crime\\.venv\\Lib\\site-packages\\sklearn\\base.py:493: UserWarning: X does not have valid feature names, but NearestNeighbors was fitted with feature names\n",
      "  warnings.warn(\n",
      "C:\\Users\\Admin.local\\AppData\\Local\\Temp\\ipykernel_5128\\2546407449.py:34: SettingWithCopyWarning: \n",
      "A value is trying to be set on a copy of a slice from a DataFrame.\n",
      "Try using .loc[row_indexer,col_indexer] = value instead\n",
      "\n",
      "See the caveats in the documentation: https://pandas.pydata.org/pandas-docs/stable/user_guide/indexing.html#returning-a-view-versus-a-copy\n",
      "  missing_lsoa_df2['lsoa_code_match'] = centroid_lsoa.iloc[indices_lsoa.flatten()]['LSOAcode'].values\n",
      "C:\\Users\\Admin.local\\AppData\\Local\\Temp\\ipykernel_5128\\2546407449.py:35: SettingWithCopyWarning: \n",
      "A value is trying to be set on a copy of a slice from a DataFrame.\n",
      "Try using .loc[row_indexer,col_indexer] = value instead\n",
      "\n",
      "See the caveats in the documentation: https://pandas.pydata.org/pandas-docs/stable/user_guide/indexing.html#returning-a-view-versus-a-copy\n",
      "  missing_lsoa_df2['distance_lsoa_match'] = distances_lsoa.flatten()\n",
      "C:\\Users\\Admin.local\\AppData\\Local\\Temp\\ipykernel_5128\\2546407449.py:37: SettingWithCopyWarning: \n",
      "A value is trying to be set on a copy of a slice from a DataFrame.\n",
      "Try using .loc[row_indexer,col_indexer] = value instead\n",
      "\n",
      "See the caveats in the documentation: https://pandas.pydata.org/pandas-docs/stable/user_guide/indexing.html#returning-a-view-versus-a-copy\n",
      "  missing_lsoa_df2['sa_code_match'] = centroid_sa.iloc[indices_sa.flatten()]['SA code'].values\n",
      "C:\\Users\\Admin.local\\AppData\\Local\\Temp\\ipykernel_5128\\2546407449.py:38: SettingWithCopyWarning: \n",
      "A value is trying to be set on a copy of a slice from a DataFrame.\n",
      "Try using .loc[row_indexer,col_indexer] = value instead\n",
      "\n",
      "See the caveats in the documentation: https://pandas.pydata.org/pandas-docs/stable/user_guide/indexing.html#returning-a-view-versus-a-copy\n",
      "  missing_lsoa_df2['distance_sa_match'] = distances_sa.flatten()\n",
      "C:\\Users\\Admin.local\\AppData\\Local\\Temp\\ipykernel_5128\\2546407449.py:44: SettingWithCopyWarning: \n",
      "A value is trying to be set on a copy of a slice from a DataFrame.\n",
      "Try using .loc[row_indexer,col_indexer] = value instead\n",
      "\n",
      "See the caveats in the documentation: https://pandas.pydata.org/pandas-docs/stable/user_guide/indexing.html#returning-a-view-versus-a-copy\n",
      "  missing_lsoa_df2['LSOAcode'] = np.select(\n",
      "C:\\Users\\Admin.local\\AppData\\Local\\Temp\\ipykernel_5128\\2546407449.py:57: SettingWithCopyWarning: \n",
      "A value is trying to be set on a copy of a slice from a DataFrame\n",
      "\n",
      "See the caveats in the documentation: https://pandas.pydata.org/pandas-docs/stable/user_guide/indexing.html#returning-a-view-versus-a-copy\n",
      "  missing_lsoa_df2.drop(columns=missing_lsoa_df2.columns[-4:], inplace=True)\n",
      "C:\\Users\\Admin.local\\AppData\\Local\\Temp\\ipykernel_5128\\2546407449.py:59: SettingWithCopyWarning: \n",
      "A value is trying to be set on a copy of a slice from a DataFrame.\n",
      "Try using .loc[row_indexer,col_indexer] = value instead\n",
      "\n",
      "See the caveats in the documentation: https://pandas.pydata.org/pandas-docs/stable/user_guide/indexing.html#returning-a-view-versus-a-copy\n",
      "  missing_lsoa_df2['original_index'] = missing_lsoa_df2.index\n"
     ]
    },
    {
     "name": "stdout",
     "output_type": "stream",
     "text": [
      "             Type                Date  Partofapolicingoperation  \\\n",
      "0   Person search 2019-11-01 02:21:00                       NaN   \n",
      "1   Person search 2019-11-01 03:40:00                       NaN   \n",
      "2  Vehicle search 2019-11-01 05:30:00                       NaN   \n",
      "3   Person search 2019-11-01 08:40:00                       NaN   \n",
      "4   Person search 2019-11-01 09:30:00                       NaN   \n",
      "\n",
      "  Policingoperation  Latitude  Longitude Gender Agerange  \\\n",
      "0              None   51.1473   -2.71787   Male    25-34   \n",
      "1              None   51.2327   -2.98853   Male    10-17   \n",
      "2              None   51.4500   -2.59708   None     None   \n",
      "3              None   51.1327   -2.99507   None     None   \n",
      "4              None   50.9439   -2.61065   Male  over 34   \n",
      "\n",
      "                                Selfdefinedethnicity Officerdefinedethnicity  \\\n",
      "0                 White - Any other White background                   White   \n",
      "1  White - English/Welsh/Scottish/Northern Irish/...                   White   \n",
      "2                                               None                    None   \n",
      "3                    Other ethnic group - Not stated                   Black   \n",
      "4                 White - Any other White background                   White   \n",
      "\n",
      "                                         Legislation     Objectofsearch  \\\n",
      "0              Misuse of Drugs Act 1971 (section 23)   Controlled drugs   \n",
      "1  Police and Criminal Evidence Act 1984 (section 1)       Stolen goods   \n",
      "2              Misuse of Drugs Act 1971 (section 23)   Controlled drugs   \n",
      "3              Misuse of Drugs Act 1971 (section 23)   Controlled drugs   \n",
      "4  Police and Criminal Evidence Act 1984 (section 1)  Offensive weapons   \n",
      "\n",
      "                        Outcome  Outcomelinkedtoobjectofsearch  \\\n",
      "0  A no further action disposal                            NaN   \n",
      "1                        Arrest                            1.0   \n",
      "2                          None                            1.0   \n",
      "3  A no further action disposal                            NaN   \n",
      "4  A no further action disposal                            NaN   \n",
      "\n",
      "   Removalofmorethanjustouterclothing anneemois  \\\n",
      "0                                 0.0   2019-11   \n",
      "1                                 0.0   2019-11   \n",
      "2                                 NaN   2019-11   \n",
      "3                                 0.0   2019-11   \n",
      "4                                 0.0   2019-11   \n",
      "\n",
      "                          infogeo  id   LSOAcode             LSOAname  \n",
      "0  Avon and Somerset Constabulary   1  E01029046          Mendip 011A  \n",
      "1  Avon and Somerset Constabulary   2  E01029118       Sedgemoor 005A  \n",
      "2  Avon and Somerset Constabulary   3  E01033345         Bristol 032F  \n",
      "3  Avon and Somerset Constabulary   4  E01029095       Sedgemoor 009B  \n",
      "4  Avon and Somerset Constabulary   5  E01029240  South Somerset 015D  \n"
     ]
    }
   ],
   "source": [
    "\n",
    "# =============================================================================\n",
    "# step 4 check if row with lsoa but no latitude do exist in df3\n",
    "# =============================================================================\n",
    "rows_with_lsoa_no_latitude = df3[df3['LSOAcode'].notnull() & df3['Latitude'].isnull()]\n",
    "\n",
    "# Display the result\n",
    "print(rows_with_lsoa_no_latitude)\n",
    "\n",
    "\n",
    "# =============================================================================\n",
    "# step 5 take row with latitude and no lsoa and fill lsoa if possible in df2 (repeat step 3)\n",
    "# =============================================================================\n",
    "\n",
    "\n",
    "missing_lsoa_df2 = df2[df2['Latitude'].notnull()]\n",
    "# =============================================================================\n",
    "# missing_lsoa_df2['LSOAcode']=None\n",
    "# missing_lsoa_df2['LSOAname']=None\n",
    "# =============================================================================\n",
    "lsoa_codes = []\n",
    "distance_lsoa = []\n",
    "sa_codes = []\n",
    "distance_sa = []\n",
    "\n",
    "coordinates = missing_lsoa_df2[['Latitude', 'Longitude']].values\n",
    "\n",
    "# Get nearest neighbors for LSOA\n",
    "distances_lsoa, indices_lsoa = nn_lsoa.kneighbors(coordinates)\n",
    "\n",
    "# Get nearest neighbors for SA\n",
    "distances_sa, indices_sa = nn_sa.kneighbors(coordinates)\n",
    "\n",
    "# Extract the corresponding LSOAcodes and SA codes\n",
    "missing_lsoa_df2['lsoa_code_match'] = centroid_lsoa.iloc[indices_lsoa.flatten()]['LSOAcode'].values\n",
    "missing_lsoa_df2['distance_lsoa_match'] = distances_lsoa.flatten()\n",
    "\n",
    "missing_lsoa_df2['sa_code_match'] = centroid_sa.iloc[indices_sa.flatten()]['SA code'].values\n",
    "missing_lsoa_df2['distance_sa_match'] = distances_sa.flatten()\n",
    "\n",
    "threshold = 0.05  #~1km\n",
    "\n",
    "\n",
    "# Update the LSOAcode based on the smallest distance\n",
    "missing_lsoa_df2['LSOAcode'] = np.select(\n",
    "    [\n",
    "        (missing_lsoa_df2['distance_lsoa_match'] < threshold) & \n",
    "        (missing_lsoa_df2['distance_lsoa_match'] < missing_lsoa_df2['distance_sa_match']),\n",
    "        (missing_lsoa_df2['distance_sa_match'] < threshold)\n",
    "    ],\n",
    "    [\n",
    "        missing_lsoa_df2['lsoa_code_match'],\n",
    "        missing_lsoa_df2['sa_code_match']\n",
    "    ],\n",
    "    default=missing_lsoa_df2['LSOAcode']\n",
    ")\n",
    "\n",
    "missing_lsoa_df2.drop(columns=missing_lsoa_df2.columns[-4:], inplace=True)\n",
    "\n",
    "missing_lsoa_df2['original_index'] = missing_lsoa_df2.index\n",
    "missing_lsoa_df2 = missing_lsoa_df2.merge(lsoa_data, left_on='LSOAcode', right_on='LSOA11CD', how='left')\n",
    "missing_lsoa_df2['LSOAname'] = missing_lsoa_df2['LSOAname'].fillna(missing_lsoa_df2['LSOA11NM'])\n",
    "missing_lsoa_df2 = missing_lsoa_df2.drop(['LSOA11CD', 'LSOA11NM'], axis=1)\n",
    "\n",
    "missing_lsoa_df2 = missing_lsoa_df2.merge(sa_data, left_on='LSOAcode', right_on='SA2011', how='left')\n",
    "missing_lsoa_df2['LSOAname'] = missing_lsoa_df2['LSOAname'].fillna(missing_lsoa_df2['SA2011NAME'])\n",
    "missing_lsoa_df2 = missing_lsoa_df2.drop(['SA2011', 'SA2011NAME'], axis=1)\n",
    "\n",
    "missing_lsoa_df2 = missing_lsoa_df2[missing_lsoa_df2['LSOAcode'].notnull()]\n",
    "missing_lsoa_df2.set_index('original_index', inplace=True)\n",
    "\n",
    "\n",
    "# df2['LSOAcode']=None\n",
    "# df2['LSOAname']=None\n",
    "df2.update(missing_lsoa_df2)\n",
    "print(df2.head())\n",
    "\n",
    "\n",
    "\n",
    "\n",
    "\n",
    "\n",
    "\n",
    "\n",
    "\n"
   ]
  },
  {
   "cell_type": "code",
   "execution_count": 105,
   "metadata": {},
   "outputs": [
    {
     "data": {
      "text/plain": [
       "Index(['CrimeID', 'Month', 'Reportedby', 'Longitude', 'Latitude', 'Location',\n",
       "       'LSOAcode', 'LSOAname', 'Outcometype', 'anneemois', 'infogeo', 'id'],\n",
       "      dtype='object')"
      ]
     },
     "execution_count": 105,
     "metadata": {},
     "output_type": "execute_result"
    }
   ],
   "source": [
    "df1.columns"
   ]
  },
  {
   "cell_type": "code",
   "execution_count": 47,
   "metadata": {},
   "outputs": [],
   "source": [
    "fields_outcomes_temp=['Longitude', 'Latitude', 'LSOAcode', 'LSOAname']\n",
    "fields_stopandsearch_temps=['Longitude', 'Latitude', 'LSOAcode', 'LSOAname']\n",
    "fields_street_temp=['Longitude', 'Latitude', 'LSOAcode', 'LSOAname']\n"
   ]
  },
  {
   "cell_type": "code",
   "execution_count": 48,
   "metadata": {},
   "outputs": [
    {
     "data": {
      "text/plain": [
       "22402"
      ]
     },
     "execution_count": 48,
     "metadata": {},
     "output_type": "execute_result"
    }
   ],
   "source": [
    "len(missing_lsoa_df3)"
   ]
  },
  {
   "cell_type": "code",
   "execution_count": null,
   "metadata": {},
   "outputs": [],
   "source": []
  },
  {
   "cell_type": "code",
   "execution_count": 114,
   "metadata": {},
   "outputs": [],
   "source": [
    "engine=connect_maria(db_name)"
   ]
  },
  {
   "cell_type": "code",
   "execution_count": 115,
   "metadata": {},
   "outputs": [],
   "source": [
    "conn=engine.connect()"
   ]
  },
  {
   "cell_type": "code",
   "execution_count": 109,
   "metadata": {},
   "outputs": [
    {
     "data": {
      "text/plain": [
       "405433"
      ]
     },
     "execution_count": 109,
     "metadata": {},
     "output_type": "execute_result"
    }
   ],
   "source": [
    "df1.to_sql('table_travail',conn,if_exists='replace',index=False)\n",
    "     "
   ]
  },
  {
   "cell_type": "code",
   "execution_count": 110,
   "metadata": {},
   "outputs": [
    {
     "data": {
      "text/plain": [
       "Index(['CrimeID', 'Month', 'Reportedby', 'Longitude', 'Latitude', 'Location',\n",
       "       'LSOAcode', 'LSOAname', 'Outcometype', 'anneemois', 'infogeo', 'id'],\n",
       "      dtype='object')"
      ]
     },
     "execution_count": 110,
     "metadata": {},
     "output_type": "execute_result"
    }
   ],
   "source": [
    "df"
   ]
  },
  {
   "cell_type": "code",
   "execution_count": 112,
   "metadata": {},
   "outputs": [],
   "source": [
    "                         \n",
    "insert_query = \"\"\"\n",
    "    INSERT INTO outcomes_temp (CrimeID,Month,Reportedby,Longitude,Latitude,Location,LSOAcode,LSOAname,Outcometype,anneemois,infogeo,id)\n",
    "    SELECT CrimeID,Month,Reportedby,Longitude,Latitude,Location,LSOAcode,LSOAname,Outcometype,anneemois,infogeo,id\n",
    "    FROM table_travail\n",
    "    ON DUPLICATE KEY UPDATE \n",
    "        LSOAcode = VALUES(LSOAcode),\n",
    "        LSOAname = VALUES(LSOAname);\n",
    "    \"\"\"\n",
    "\n",
    "with engine.connect() as conn:\n",
    "    conn.execute(text(insert_query))\n",
    "    conn.commit()\n",
    "\n",
    "\n"
   ]
  },
  {
   "cell_type": "code",
   "execution_count": 117,
   "metadata": {},
   "outputs": [
    {
     "data": {
      "text/plain": [
       "Index(['CrimeID', 'Month', 'Reportedby', 'Longitude', 'Latitude', 'Location',\n",
       "       'LSOAcode', 'LSOAname', 'Crimetype', 'Lastoutcomecategory', 'Context',\n",
       "       'anneemois', 'infogeo', 'id'],\n",
       "      dtype='object')"
      ]
     },
     "execution_count": 117,
     "metadata": {},
     "output_type": "execute_result"
    }
   ],
   "source": [
    "df3.columns"
   ]
  },
  {
   "cell_type": "code",
   "execution_count": 118,
   "metadata": {},
   "outputs": [
    {
     "data": {
      "text/plain": [
       "937274"
      ]
     },
     "execution_count": 118,
     "metadata": {},
     "output_type": "execute_result"
    }
   ],
   "source": [
    "df3.to_sql('table_travail',conn,if_exists='replace',index=False)"
   ]
  },
  {
   "cell_type": "code",
   "execution_count": 119,
   "metadata": {},
   "outputs": [
    {
     "ename": "OperationalError",
     "evalue": "(pymysql.err.OperationalError) (1205, 'Lock wait timeout exceeded; try restarting transaction')\n[SQL: \n    INSERT INTO street_temp (CrimeID,Month,Reportedby,Longitude,Latitude,Location,LSOAcode,LSOAname,Crimetype,Lastoutcomecategory,Context,anneemois,infogeo,id)\n    SELECT CrimeID,Month,Reportedby,Longitude,Latitude,Location,LSOAcode,LSOAname,Crimetype,Lastoutcomecategory,Context,anneemois,infogeo,id\n    FROM table_travail\n    ON DUPLICATE KEY UPDATE \n        LSOAcode = VALUES(LSOAcode),\n        LSOAname = VALUES(LSOAname);\n    ]\n(Background on this error at: https://sqlalche.me/e/20/e3q8)",
     "output_type": "error",
     "traceback": [
      "\u001b[1;31m---------------------------------------------------------------------------\u001b[0m",
      "\u001b[1;31mOperationalError\u001b[0m                          Traceback (most recent call last)",
      "File \u001b[1;32mc:\\Users\\Admin.local\\Documents\\projetint\\uk-crime\\.venv\\Lib\\site-packages\\sqlalchemy\\engine\\base.py:1967\u001b[0m, in \u001b[0;36mConnection._exec_single_context\u001b[1;34m(self, dialect, context, statement, parameters)\u001b[0m\n\u001b[0;32m   1966\u001b[0m     \u001b[38;5;28;01mif\u001b[39;00m \u001b[38;5;129;01mnot\u001b[39;00m evt_handled:\n\u001b[1;32m-> 1967\u001b[0m         \u001b[38;5;28;43mself\u001b[39;49m\u001b[38;5;241;43m.\u001b[39;49m\u001b[43mdialect\u001b[49m\u001b[38;5;241;43m.\u001b[39;49m\u001b[43mdo_execute\u001b[49m\u001b[43m(\u001b[49m\n\u001b[0;32m   1968\u001b[0m \u001b[43m            \u001b[49m\u001b[43mcursor\u001b[49m\u001b[43m,\u001b[49m\u001b[43m \u001b[49m\u001b[43mstr_statement\u001b[49m\u001b[43m,\u001b[49m\u001b[43m \u001b[49m\u001b[43meffective_parameters\u001b[49m\u001b[43m,\u001b[49m\u001b[43m \u001b[49m\u001b[43mcontext\u001b[49m\n\u001b[0;32m   1969\u001b[0m \u001b[43m        \u001b[49m\u001b[43m)\u001b[49m\n\u001b[0;32m   1971\u001b[0m \u001b[38;5;28;01mif\u001b[39;00m \u001b[38;5;28mself\u001b[39m\u001b[38;5;241m.\u001b[39m_has_events \u001b[38;5;129;01mor\u001b[39;00m \u001b[38;5;28mself\u001b[39m\u001b[38;5;241m.\u001b[39mengine\u001b[38;5;241m.\u001b[39m_has_events:\n",
      "File \u001b[1;32mc:\\Users\\Admin.local\\Documents\\projetint\\uk-crime\\.venv\\Lib\\site-packages\\sqlalchemy\\engine\\default.py:941\u001b[0m, in \u001b[0;36mDefaultDialect.do_execute\u001b[1;34m(self, cursor, statement, parameters, context)\u001b[0m\n\u001b[0;32m    940\u001b[0m \u001b[38;5;28;01mdef\u001b[39;00m \u001b[38;5;21mdo_execute\u001b[39m(\u001b[38;5;28mself\u001b[39m, cursor, statement, parameters, context\u001b[38;5;241m=\u001b[39m\u001b[38;5;28;01mNone\u001b[39;00m):\n\u001b[1;32m--> 941\u001b[0m     \u001b[43mcursor\u001b[49m\u001b[38;5;241;43m.\u001b[39;49m\u001b[43mexecute\u001b[49m\u001b[43m(\u001b[49m\u001b[43mstatement\u001b[49m\u001b[43m,\u001b[49m\u001b[43m \u001b[49m\u001b[43mparameters\u001b[49m\u001b[43m)\u001b[49m\n",
      "File \u001b[1;32mc:\\Users\\Admin.local\\Documents\\projetint\\uk-crime\\.venv\\Lib\\site-packages\\pymysql\\cursors.py:153\u001b[0m, in \u001b[0;36mCursor.execute\u001b[1;34m(self, query, args)\u001b[0m\n\u001b[0;32m    151\u001b[0m query \u001b[38;5;241m=\u001b[39m \u001b[38;5;28mself\u001b[39m\u001b[38;5;241m.\u001b[39mmogrify(query, args)\n\u001b[1;32m--> 153\u001b[0m result \u001b[38;5;241m=\u001b[39m \u001b[38;5;28;43mself\u001b[39;49m\u001b[38;5;241;43m.\u001b[39;49m\u001b[43m_query\u001b[49m\u001b[43m(\u001b[49m\u001b[43mquery\u001b[49m\u001b[43m)\u001b[49m\n\u001b[0;32m    154\u001b[0m \u001b[38;5;28mself\u001b[39m\u001b[38;5;241m.\u001b[39m_executed \u001b[38;5;241m=\u001b[39m query\n",
      "File \u001b[1;32mc:\\Users\\Admin.local\\Documents\\projetint\\uk-crime\\.venv\\Lib\\site-packages\\pymysql\\cursors.py:322\u001b[0m, in \u001b[0;36mCursor._query\u001b[1;34m(self, q)\u001b[0m\n\u001b[0;32m    321\u001b[0m \u001b[38;5;28mself\u001b[39m\u001b[38;5;241m.\u001b[39m_clear_result()\n\u001b[1;32m--> 322\u001b[0m \u001b[43mconn\u001b[49m\u001b[38;5;241;43m.\u001b[39;49m\u001b[43mquery\u001b[49m\u001b[43m(\u001b[49m\u001b[43mq\u001b[49m\u001b[43m)\u001b[49m\n\u001b[0;32m    323\u001b[0m \u001b[38;5;28mself\u001b[39m\u001b[38;5;241m.\u001b[39m_do_get_result()\n",
      "File \u001b[1;32mc:\\Users\\Admin.local\\Documents\\projetint\\uk-crime\\.venv\\Lib\\site-packages\\pymysql\\connections.py:563\u001b[0m, in \u001b[0;36mConnection.query\u001b[1;34m(self, sql, unbuffered)\u001b[0m\n\u001b[0;32m    562\u001b[0m \u001b[38;5;28mself\u001b[39m\u001b[38;5;241m.\u001b[39m_execute_command(COMMAND\u001b[38;5;241m.\u001b[39mCOM_QUERY, sql)\n\u001b[1;32m--> 563\u001b[0m \u001b[38;5;28mself\u001b[39m\u001b[38;5;241m.\u001b[39m_affected_rows \u001b[38;5;241m=\u001b[39m \u001b[38;5;28;43mself\u001b[39;49m\u001b[38;5;241;43m.\u001b[39;49m\u001b[43m_read_query_result\u001b[49m\u001b[43m(\u001b[49m\u001b[43munbuffered\u001b[49m\u001b[38;5;241;43m=\u001b[39;49m\u001b[43munbuffered\u001b[49m\u001b[43m)\u001b[49m\n\u001b[0;32m    564\u001b[0m \u001b[38;5;28;01mreturn\u001b[39;00m \u001b[38;5;28mself\u001b[39m\u001b[38;5;241m.\u001b[39m_affected_rows\n",
      "File \u001b[1;32mc:\\Users\\Admin.local\\Documents\\projetint\\uk-crime\\.venv\\Lib\\site-packages\\pymysql\\connections.py:825\u001b[0m, in \u001b[0;36mConnection._read_query_result\u001b[1;34m(self, unbuffered)\u001b[0m\n\u001b[0;32m    824\u001b[0m     result \u001b[38;5;241m=\u001b[39m MySQLResult(\u001b[38;5;28mself\u001b[39m)\n\u001b[1;32m--> 825\u001b[0m     \u001b[43mresult\u001b[49m\u001b[38;5;241;43m.\u001b[39;49m\u001b[43mread\u001b[49m\u001b[43m(\u001b[49m\u001b[43m)\u001b[49m\n\u001b[0;32m    826\u001b[0m \u001b[38;5;28mself\u001b[39m\u001b[38;5;241m.\u001b[39m_result \u001b[38;5;241m=\u001b[39m result\n",
      "File \u001b[1;32mc:\\Users\\Admin.local\\Documents\\projetint\\uk-crime\\.venv\\Lib\\site-packages\\pymysql\\connections.py:1199\u001b[0m, in \u001b[0;36mMySQLResult.read\u001b[1;34m(self)\u001b[0m\n\u001b[0;32m   1198\u001b[0m \u001b[38;5;28;01mtry\u001b[39;00m:\n\u001b[1;32m-> 1199\u001b[0m     first_packet \u001b[38;5;241m=\u001b[39m \u001b[38;5;28;43mself\u001b[39;49m\u001b[38;5;241;43m.\u001b[39;49m\u001b[43mconnection\u001b[49m\u001b[38;5;241;43m.\u001b[39;49m\u001b[43m_read_packet\u001b[49m\u001b[43m(\u001b[49m\u001b[43m)\u001b[49m\n\u001b[0;32m   1201\u001b[0m     \u001b[38;5;28;01mif\u001b[39;00m first_packet\u001b[38;5;241m.\u001b[39mis_ok_packet():\n",
      "File \u001b[1;32mc:\\Users\\Admin.local\\Documents\\projetint\\uk-crime\\.venv\\Lib\\site-packages\\pymysql\\connections.py:775\u001b[0m, in \u001b[0;36mConnection._read_packet\u001b[1;34m(self, packet_type)\u001b[0m\n\u001b[0;32m    774\u001b[0m         \u001b[38;5;28mself\u001b[39m\u001b[38;5;241m.\u001b[39m_result\u001b[38;5;241m.\u001b[39munbuffered_active \u001b[38;5;241m=\u001b[39m \u001b[38;5;28;01mFalse\u001b[39;00m\n\u001b[1;32m--> 775\u001b[0m     \u001b[43mpacket\u001b[49m\u001b[38;5;241;43m.\u001b[39;49m\u001b[43mraise_for_error\u001b[49m\u001b[43m(\u001b[49m\u001b[43m)\u001b[49m\n\u001b[0;32m    776\u001b[0m \u001b[38;5;28;01mreturn\u001b[39;00m packet\n",
      "File \u001b[1;32mc:\\Users\\Admin.local\\Documents\\projetint\\uk-crime\\.venv\\Lib\\site-packages\\pymysql\\protocol.py:219\u001b[0m, in \u001b[0;36mMysqlPacket.raise_for_error\u001b[1;34m(self)\u001b[0m\n\u001b[0;32m    218\u001b[0m     \u001b[38;5;28mprint\u001b[39m(\u001b[38;5;124m\"\u001b[39m\u001b[38;5;124merrno =\u001b[39m\u001b[38;5;124m\"\u001b[39m, errno)\n\u001b[1;32m--> 219\u001b[0m \u001b[43merr\u001b[49m\u001b[38;5;241;43m.\u001b[39;49m\u001b[43mraise_mysql_exception\u001b[49m\u001b[43m(\u001b[49m\u001b[38;5;28;43mself\u001b[39;49m\u001b[38;5;241;43m.\u001b[39;49m\u001b[43m_data\u001b[49m\u001b[43m)\u001b[49m\n",
      "File \u001b[1;32mc:\\Users\\Admin.local\\Documents\\projetint\\uk-crime\\.venv\\Lib\\site-packages\\pymysql\\err.py:150\u001b[0m, in \u001b[0;36mraise_mysql_exception\u001b[1;34m(data)\u001b[0m\n\u001b[0;32m    149\u001b[0m     errorclass \u001b[38;5;241m=\u001b[39m InternalError \u001b[38;5;28;01mif\u001b[39;00m errno \u001b[38;5;241m<\u001b[39m \u001b[38;5;241m1000\u001b[39m \u001b[38;5;28;01melse\u001b[39;00m OperationalError\n\u001b[1;32m--> 150\u001b[0m \u001b[38;5;28;01mraise\u001b[39;00m errorclass(errno, errval)\n",
      "\u001b[1;31mOperationalError\u001b[0m: (1205, 'Lock wait timeout exceeded; try restarting transaction')",
      "\nThe above exception was the direct cause of the following exception:\n",
      "\u001b[1;31mOperationalError\u001b[0m                          Traceback (most recent call last)",
      "Cell \u001b[1;32mIn[119], line 11\u001b[0m\n\u001b[0;32m      1\u001b[0m insert_query \u001b[38;5;241m=\u001b[39m \u001b[38;5;124m\"\"\"\u001b[39m\n\u001b[0;32m      2\u001b[0m \u001b[38;5;124m    INSERT INTO street_temp (CrimeID,Month,Reportedby,Longitude,Latitude,Location,LSOAcode,LSOAname,Crimetype,Lastoutcomecategory,Context,anneemois,infogeo,id)\u001b[39m\n\u001b[0;32m      3\u001b[0m \u001b[38;5;124m    SELECT CrimeID,Month,Reportedby,Longitude,Latitude,Location,LSOAcode,LSOAname,Crimetype,Lastoutcomecategory,Context,anneemois,infogeo,id\u001b[39m\n\u001b[1;32m   (...)\u001b[0m\n\u001b[0;32m      7\u001b[0m \u001b[38;5;124m        LSOAname = VALUES(LSOAname);\u001b[39m\n\u001b[0;32m      8\u001b[0m \u001b[38;5;124m    \u001b[39m\u001b[38;5;124m\"\"\"\u001b[39m\n\u001b[0;32m     10\u001b[0m \u001b[38;5;28;01mwith\u001b[39;00m engine\u001b[38;5;241m.\u001b[39mconnect() \u001b[38;5;28;01mas\u001b[39;00m conn:\n\u001b[1;32m---> 11\u001b[0m     \u001b[43mconn\u001b[49m\u001b[38;5;241;43m.\u001b[39;49m\u001b[43mexecute\u001b[49m\u001b[43m(\u001b[49m\u001b[43mtext\u001b[49m\u001b[43m(\u001b[49m\u001b[43minsert_query\u001b[49m\u001b[43m)\u001b[49m\u001b[43m)\u001b[49m\n\u001b[0;32m     12\u001b[0m     conn\u001b[38;5;241m.\u001b[39mcommit()\n",
      "File \u001b[1;32mc:\\Users\\Admin.local\\Documents\\projetint\\uk-crime\\.venv\\Lib\\site-packages\\sqlalchemy\\engine\\base.py:1418\u001b[0m, in \u001b[0;36mConnection.execute\u001b[1;34m(self, statement, parameters, execution_options)\u001b[0m\n\u001b[0;32m   1416\u001b[0m     \u001b[38;5;28;01mraise\u001b[39;00m exc\u001b[38;5;241m.\u001b[39mObjectNotExecutableError(statement) \u001b[38;5;28;01mfrom\u001b[39;00m \u001b[38;5;21;01merr\u001b[39;00m\n\u001b[0;32m   1417\u001b[0m \u001b[38;5;28;01melse\u001b[39;00m:\n\u001b[1;32m-> 1418\u001b[0m     \u001b[38;5;28;01mreturn\u001b[39;00m \u001b[43mmeth\u001b[49m\u001b[43m(\u001b[49m\n\u001b[0;32m   1419\u001b[0m \u001b[43m        \u001b[49m\u001b[38;5;28;43mself\u001b[39;49m\u001b[43m,\u001b[49m\n\u001b[0;32m   1420\u001b[0m \u001b[43m        \u001b[49m\u001b[43mdistilled_parameters\u001b[49m\u001b[43m,\u001b[49m\n\u001b[0;32m   1421\u001b[0m \u001b[43m        \u001b[49m\u001b[43mexecution_options\u001b[49m\u001b[43m \u001b[49m\u001b[38;5;129;43;01mor\u001b[39;49;00m\u001b[43m \u001b[49m\u001b[43mNO_OPTIONS\u001b[49m\u001b[43m,\u001b[49m\n\u001b[0;32m   1422\u001b[0m \u001b[43m    \u001b[49m\u001b[43m)\u001b[49m\n",
      "File \u001b[1;32mc:\\Users\\Admin.local\\Documents\\projetint\\uk-crime\\.venv\\Lib\\site-packages\\sqlalchemy\\sql\\elements.py:515\u001b[0m, in \u001b[0;36mClauseElement._execute_on_connection\u001b[1;34m(self, connection, distilled_params, execution_options)\u001b[0m\n\u001b[0;32m    513\u001b[0m     \u001b[38;5;28;01mif\u001b[39;00m TYPE_CHECKING:\n\u001b[0;32m    514\u001b[0m         \u001b[38;5;28;01massert\u001b[39;00m \u001b[38;5;28misinstance\u001b[39m(\u001b[38;5;28mself\u001b[39m, Executable)\n\u001b[1;32m--> 515\u001b[0m     \u001b[38;5;28;01mreturn\u001b[39;00m \u001b[43mconnection\u001b[49m\u001b[38;5;241;43m.\u001b[39;49m\u001b[43m_execute_clauseelement\u001b[49m\u001b[43m(\u001b[49m\n\u001b[0;32m    516\u001b[0m \u001b[43m        \u001b[49m\u001b[38;5;28;43mself\u001b[39;49m\u001b[43m,\u001b[49m\u001b[43m \u001b[49m\u001b[43mdistilled_params\u001b[49m\u001b[43m,\u001b[49m\u001b[43m \u001b[49m\u001b[43mexecution_options\u001b[49m\n\u001b[0;32m    517\u001b[0m \u001b[43m    \u001b[49m\u001b[43m)\u001b[49m\n\u001b[0;32m    518\u001b[0m \u001b[38;5;28;01melse\u001b[39;00m:\n\u001b[0;32m    519\u001b[0m     \u001b[38;5;28;01mraise\u001b[39;00m exc\u001b[38;5;241m.\u001b[39mObjectNotExecutableError(\u001b[38;5;28mself\u001b[39m)\n",
      "File \u001b[1;32mc:\\Users\\Admin.local\\Documents\\projetint\\uk-crime\\.venv\\Lib\\site-packages\\sqlalchemy\\engine\\base.py:1640\u001b[0m, in \u001b[0;36mConnection._execute_clauseelement\u001b[1;34m(self, elem, distilled_parameters, execution_options)\u001b[0m\n\u001b[0;32m   1628\u001b[0m compiled_cache: Optional[CompiledCacheType] \u001b[38;5;241m=\u001b[39m execution_options\u001b[38;5;241m.\u001b[39mget(\n\u001b[0;32m   1629\u001b[0m     \u001b[38;5;124m\"\u001b[39m\u001b[38;5;124mcompiled_cache\u001b[39m\u001b[38;5;124m\"\u001b[39m, \u001b[38;5;28mself\u001b[39m\u001b[38;5;241m.\u001b[39mengine\u001b[38;5;241m.\u001b[39m_compiled_cache\n\u001b[0;32m   1630\u001b[0m )\n\u001b[0;32m   1632\u001b[0m compiled_sql, extracted_params, cache_hit \u001b[38;5;241m=\u001b[39m elem\u001b[38;5;241m.\u001b[39m_compile_w_cache(\n\u001b[0;32m   1633\u001b[0m     dialect\u001b[38;5;241m=\u001b[39mdialect,\n\u001b[0;32m   1634\u001b[0m     compiled_cache\u001b[38;5;241m=\u001b[39mcompiled_cache,\n\u001b[1;32m   (...)\u001b[0m\n\u001b[0;32m   1638\u001b[0m     linting\u001b[38;5;241m=\u001b[39m\u001b[38;5;28mself\u001b[39m\u001b[38;5;241m.\u001b[39mdialect\u001b[38;5;241m.\u001b[39mcompiler_linting \u001b[38;5;241m|\u001b[39m compiler\u001b[38;5;241m.\u001b[39mWARN_LINTING,\n\u001b[0;32m   1639\u001b[0m )\n\u001b[1;32m-> 1640\u001b[0m ret \u001b[38;5;241m=\u001b[39m \u001b[38;5;28;43mself\u001b[39;49m\u001b[38;5;241;43m.\u001b[39;49m\u001b[43m_execute_context\u001b[49m\u001b[43m(\u001b[49m\n\u001b[0;32m   1641\u001b[0m \u001b[43m    \u001b[49m\u001b[43mdialect\u001b[49m\u001b[43m,\u001b[49m\n\u001b[0;32m   1642\u001b[0m \u001b[43m    \u001b[49m\u001b[43mdialect\u001b[49m\u001b[38;5;241;43m.\u001b[39;49m\u001b[43mexecution_ctx_cls\u001b[49m\u001b[38;5;241;43m.\u001b[39;49m\u001b[43m_init_compiled\u001b[49m\u001b[43m,\u001b[49m\n\u001b[0;32m   1643\u001b[0m \u001b[43m    \u001b[49m\u001b[43mcompiled_sql\u001b[49m\u001b[43m,\u001b[49m\n\u001b[0;32m   1644\u001b[0m \u001b[43m    \u001b[49m\u001b[43mdistilled_parameters\u001b[49m\u001b[43m,\u001b[49m\n\u001b[0;32m   1645\u001b[0m \u001b[43m    \u001b[49m\u001b[43mexecution_options\u001b[49m\u001b[43m,\u001b[49m\n\u001b[0;32m   1646\u001b[0m \u001b[43m    \u001b[49m\u001b[43mcompiled_sql\u001b[49m\u001b[43m,\u001b[49m\n\u001b[0;32m   1647\u001b[0m \u001b[43m    \u001b[49m\u001b[43mdistilled_parameters\u001b[49m\u001b[43m,\u001b[49m\n\u001b[0;32m   1648\u001b[0m \u001b[43m    \u001b[49m\u001b[43melem\u001b[49m\u001b[43m,\u001b[49m\n\u001b[0;32m   1649\u001b[0m \u001b[43m    \u001b[49m\u001b[43mextracted_params\u001b[49m\u001b[43m,\u001b[49m\n\u001b[0;32m   1650\u001b[0m \u001b[43m    \u001b[49m\u001b[43mcache_hit\u001b[49m\u001b[38;5;241;43m=\u001b[39;49m\u001b[43mcache_hit\u001b[49m\u001b[43m,\u001b[49m\n\u001b[0;32m   1651\u001b[0m \u001b[43m\u001b[49m\u001b[43m)\u001b[49m\n\u001b[0;32m   1652\u001b[0m \u001b[38;5;28;01mif\u001b[39;00m has_events:\n\u001b[0;32m   1653\u001b[0m     \u001b[38;5;28mself\u001b[39m\u001b[38;5;241m.\u001b[39mdispatch\u001b[38;5;241m.\u001b[39mafter_execute(\n\u001b[0;32m   1654\u001b[0m         \u001b[38;5;28mself\u001b[39m,\n\u001b[0;32m   1655\u001b[0m         elem,\n\u001b[1;32m   (...)\u001b[0m\n\u001b[0;32m   1659\u001b[0m         ret,\n\u001b[0;32m   1660\u001b[0m     )\n",
      "File \u001b[1;32mc:\\Users\\Admin.local\\Documents\\projetint\\uk-crime\\.venv\\Lib\\site-packages\\sqlalchemy\\engine\\base.py:1846\u001b[0m, in \u001b[0;36mConnection._execute_context\u001b[1;34m(self, dialect, constructor, statement, parameters, execution_options, *args, **kw)\u001b[0m\n\u001b[0;32m   1844\u001b[0m     \u001b[38;5;28;01mreturn\u001b[39;00m \u001b[38;5;28mself\u001b[39m\u001b[38;5;241m.\u001b[39m_exec_insertmany_context(dialect, context)\n\u001b[0;32m   1845\u001b[0m \u001b[38;5;28;01melse\u001b[39;00m:\n\u001b[1;32m-> 1846\u001b[0m     \u001b[38;5;28;01mreturn\u001b[39;00m \u001b[38;5;28;43mself\u001b[39;49m\u001b[38;5;241;43m.\u001b[39;49m\u001b[43m_exec_single_context\u001b[49m\u001b[43m(\u001b[49m\n\u001b[0;32m   1847\u001b[0m \u001b[43m        \u001b[49m\u001b[43mdialect\u001b[49m\u001b[43m,\u001b[49m\u001b[43m \u001b[49m\u001b[43mcontext\u001b[49m\u001b[43m,\u001b[49m\u001b[43m \u001b[49m\u001b[43mstatement\u001b[49m\u001b[43m,\u001b[49m\u001b[43m \u001b[49m\u001b[43mparameters\u001b[49m\n\u001b[0;32m   1848\u001b[0m \u001b[43m    \u001b[49m\u001b[43m)\u001b[49m\n",
      "File \u001b[1;32mc:\\Users\\Admin.local\\Documents\\projetint\\uk-crime\\.venv\\Lib\\site-packages\\sqlalchemy\\engine\\base.py:1986\u001b[0m, in \u001b[0;36mConnection._exec_single_context\u001b[1;34m(self, dialect, context, statement, parameters)\u001b[0m\n\u001b[0;32m   1983\u001b[0m     result \u001b[38;5;241m=\u001b[39m context\u001b[38;5;241m.\u001b[39m_setup_result_proxy()\n\u001b[0;32m   1985\u001b[0m \u001b[38;5;28;01mexcept\u001b[39;00m \u001b[38;5;167;01mBaseException\u001b[39;00m \u001b[38;5;28;01mas\u001b[39;00m e:\n\u001b[1;32m-> 1986\u001b[0m     \u001b[38;5;28;43mself\u001b[39;49m\u001b[38;5;241;43m.\u001b[39;49m\u001b[43m_handle_dbapi_exception\u001b[49m\u001b[43m(\u001b[49m\n\u001b[0;32m   1987\u001b[0m \u001b[43m        \u001b[49m\u001b[43me\u001b[49m\u001b[43m,\u001b[49m\u001b[43m \u001b[49m\u001b[43mstr_statement\u001b[49m\u001b[43m,\u001b[49m\u001b[43m \u001b[49m\u001b[43meffective_parameters\u001b[49m\u001b[43m,\u001b[49m\u001b[43m \u001b[49m\u001b[43mcursor\u001b[49m\u001b[43m,\u001b[49m\u001b[43m \u001b[49m\u001b[43mcontext\u001b[49m\n\u001b[0;32m   1988\u001b[0m \u001b[43m    \u001b[49m\u001b[43m)\u001b[49m\n\u001b[0;32m   1990\u001b[0m \u001b[38;5;28;01mreturn\u001b[39;00m result\n",
      "File \u001b[1;32mc:\\Users\\Admin.local\\Documents\\projetint\\uk-crime\\.venv\\Lib\\site-packages\\sqlalchemy\\engine\\base.py:2355\u001b[0m, in \u001b[0;36mConnection._handle_dbapi_exception\u001b[1;34m(self, e, statement, parameters, cursor, context, is_sub_exec)\u001b[0m\n\u001b[0;32m   2353\u001b[0m \u001b[38;5;28;01melif\u001b[39;00m should_wrap:\n\u001b[0;32m   2354\u001b[0m     \u001b[38;5;28;01massert\u001b[39;00m sqlalchemy_exception \u001b[38;5;129;01mis\u001b[39;00m \u001b[38;5;129;01mnot\u001b[39;00m \u001b[38;5;28;01mNone\u001b[39;00m\n\u001b[1;32m-> 2355\u001b[0m     \u001b[38;5;28;01mraise\u001b[39;00m sqlalchemy_exception\u001b[38;5;241m.\u001b[39mwith_traceback(exc_info[\u001b[38;5;241m2\u001b[39m]) \u001b[38;5;28;01mfrom\u001b[39;00m \u001b[38;5;21;01me\u001b[39;00m\n\u001b[0;32m   2356\u001b[0m \u001b[38;5;28;01melse\u001b[39;00m:\n\u001b[0;32m   2357\u001b[0m     \u001b[38;5;28;01massert\u001b[39;00m exc_info[\u001b[38;5;241m1\u001b[39m] \u001b[38;5;129;01mis\u001b[39;00m \u001b[38;5;129;01mnot\u001b[39;00m \u001b[38;5;28;01mNone\u001b[39;00m\n",
      "File \u001b[1;32mc:\\Users\\Admin.local\\Documents\\projetint\\uk-crime\\.venv\\Lib\\site-packages\\sqlalchemy\\engine\\base.py:1967\u001b[0m, in \u001b[0;36mConnection._exec_single_context\u001b[1;34m(self, dialect, context, statement, parameters)\u001b[0m\n\u001b[0;32m   1965\u001b[0m                 \u001b[38;5;28;01mbreak\u001b[39;00m\n\u001b[0;32m   1966\u001b[0m     \u001b[38;5;28;01mif\u001b[39;00m \u001b[38;5;129;01mnot\u001b[39;00m evt_handled:\n\u001b[1;32m-> 1967\u001b[0m         \u001b[38;5;28;43mself\u001b[39;49m\u001b[38;5;241;43m.\u001b[39;49m\u001b[43mdialect\u001b[49m\u001b[38;5;241;43m.\u001b[39;49m\u001b[43mdo_execute\u001b[49m\u001b[43m(\u001b[49m\n\u001b[0;32m   1968\u001b[0m \u001b[43m            \u001b[49m\u001b[43mcursor\u001b[49m\u001b[43m,\u001b[49m\u001b[43m \u001b[49m\u001b[43mstr_statement\u001b[49m\u001b[43m,\u001b[49m\u001b[43m \u001b[49m\u001b[43meffective_parameters\u001b[49m\u001b[43m,\u001b[49m\u001b[43m \u001b[49m\u001b[43mcontext\u001b[49m\n\u001b[0;32m   1969\u001b[0m \u001b[43m        \u001b[49m\u001b[43m)\u001b[49m\n\u001b[0;32m   1971\u001b[0m \u001b[38;5;28;01mif\u001b[39;00m \u001b[38;5;28mself\u001b[39m\u001b[38;5;241m.\u001b[39m_has_events \u001b[38;5;129;01mor\u001b[39;00m \u001b[38;5;28mself\u001b[39m\u001b[38;5;241m.\u001b[39mengine\u001b[38;5;241m.\u001b[39m_has_events:\n\u001b[0;32m   1972\u001b[0m     \u001b[38;5;28mself\u001b[39m\u001b[38;5;241m.\u001b[39mdispatch\u001b[38;5;241m.\u001b[39mafter_cursor_execute(\n\u001b[0;32m   1973\u001b[0m         \u001b[38;5;28mself\u001b[39m,\n\u001b[0;32m   1974\u001b[0m         cursor,\n\u001b[1;32m   (...)\u001b[0m\n\u001b[0;32m   1978\u001b[0m         context\u001b[38;5;241m.\u001b[39mexecutemany,\n\u001b[0;32m   1979\u001b[0m     )\n",
      "File \u001b[1;32mc:\\Users\\Admin.local\\Documents\\projetint\\uk-crime\\.venv\\Lib\\site-packages\\sqlalchemy\\engine\\default.py:941\u001b[0m, in \u001b[0;36mDefaultDialect.do_execute\u001b[1;34m(self, cursor, statement, parameters, context)\u001b[0m\n\u001b[0;32m    940\u001b[0m \u001b[38;5;28;01mdef\u001b[39;00m \u001b[38;5;21mdo_execute\u001b[39m(\u001b[38;5;28mself\u001b[39m, cursor, statement, parameters, context\u001b[38;5;241m=\u001b[39m\u001b[38;5;28;01mNone\u001b[39;00m):\n\u001b[1;32m--> 941\u001b[0m     \u001b[43mcursor\u001b[49m\u001b[38;5;241;43m.\u001b[39;49m\u001b[43mexecute\u001b[49m\u001b[43m(\u001b[49m\u001b[43mstatement\u001b[49m\u001b[43m,\u001b[49m\u001b[43m \u001b[49m\u001b[43mparameters\u001b[49m\u001b[43m)\u001b[49m\n",
      "File \u001b[1;32mc:\\Users\\Admin.local\\Documents\\projetint\\uk-crime\\.venv\\Lib\\site-packages\\pymysql\\cursors.py:153\u001b[0m, in \u001b[0;36mCursor.execute\u001b[1;34m(self, query, args)\u001b[0m\n\u001b[0;32m    149\u001b[0m     \u001b[38;5;28;01mpass\u001b[39;00m\n\u001b[0;32m    151\u001b[0m query \u001b[38;5;241m=\u001b[39m \u001b[38;5;28mself\u001b[39m\u001b[38;5;241m.\u001b[39mmogrify(query, args)\n\u001b[1;32m--> 153\u001b[0m result \u001b[38;5;241m=\u001b[39m \u001b[38;5;28;43mself\u001b[39;49m\u001b[38;5;241;43m.\u001b[39;49m\u001b[43m_query\u001b[49m\u001b[43m(\u001b[49m\u001b[43mquery\u001b[49m\u001b[43m)\u001b[49m\n\u001b[0;32m    154\u001b[0m \u001b[38;5;28mself\u001b[39m\u001b[38;5;241m.\u001b[39m_executed \u001b[38;5;241m=\u001b[39m query\n\u001b[0;32m    155\u001b[0m \u001b[38;5;28;01mreturn\u001b[39;00m result\n",
      "File \u001b[1;32mc:\\Users\\Admin.local\\Documents\\projetint\\uk-crime\\.venv\\Lib\\site-packages\\pymysql\\cursors.py:322\u001b[0m, in \u001b[0;36mCursor._query\u001b[1;34m(self, q)\u001b[0m\n\u001b[0;32m    320\u001b[0m conn \u001b[38;5;241m=\u001b[39m \u001b[38;5;28mself\u001b[39m\u001b[38;5;241m.\u001b[39m_get_db()\n\u001b[0;32m    321\u001b[0m \u001b[38;5;28mself\u001b[39m\u001b[38;5;241m.\u001b[39m_clear_result()\n\u001b[1;32m--> 322\u001b[0m \u001b[43mconn\u001b[49m\u001b[38;5;241;43m.\u001b[39;49m\u001b[43mquery\u001b[49m\u001b[43m(\u001b[49m\u001b[43mq\u001b[49m\u001b[43m)\u001b[49m\n\u001b[0;32m    323\u001b[0m \u001b[38;5;28mself\u001b[39m\u001b[38;5;241m.\u001b[39m_do_get_result()\n\u001b[0;32m    324\u001b[0m \u001b[38;5;28;01mreturn\u001b[39;00m \u001b[38;5;28mself\u001b[39m\u001b[38;5;241m.\u001b[39mrowcount\n",
      "File \u001b[1;32mc:\\Users\\Admin.local\\Documents\\projetint\\uk-crime\\.venv\\Lib\\site-packages\\pymysql\\connections.py:563\u001b[0m, in \u001b[0;36mConnection.query\u001b[1;34m(self, sql, unbuffered)\u001b[0m\n\u001b[0;32m    561\u001b[0m     sql \u001b[38;5;241m=\u001b[39m sql\u001b[38;5;241m.\u001b[39mencode(\u001b[38;5;28mself\u001b[39m\u001b[38;5;241m.\u001b[39mencoding, \u001b[38;5;124m\"\u001b[39m\u001b[38;5;124msurrogateescape\u001b[39m\u001b[38;5;124m\"\u001b[39m)\n\u001b[0;32m    562\u001b[0m \u001b[38;5;28mself\u001b[39m\u001b[38;5;241m.\u001b[39m_execute_command(COMMAND\u001b[38;5;241m.\u001b[39mCOM_QUERY, sql)\n\u001b[1;32m--> 563\u001b[0m \u001b[38;5;28mself\u001b[39m\u001b[38;5;241m.\u001b[39m_affected_rows \u001b[38;5;241m=\u001b[39m \u001b[38;5;28;43mself\u001b[39;49m\u001b[38;5;241;43m.\u001b[39;49m\u001b[43m_read_query_result\u001b[49m\u001b[43m(\u001b[49m\u001b[43munbuffered\u001b[49m\u001b[38;5;241;43m=\u001b[39;49m\u001b[43munbuffered\u001b[49m\u001b[43m)\u001b[49m\n\u001b[0;32m    564\u001b[0m \u001b[38;5;28;01mreturn\u001b[39;00m \u001b[38;5;28mself\u001b[39m\u001b[38;5;241m.\u001b[39m_affected_rows\n",
      "File \u001b[1;32mc:\\Users\\Admin.local\\Documents\\projetint\\uk-crime\\.venv\\Lib\\site-packages\\pymysql\\connections.py:825\u001b[0m, in \u001b[0;36mConnection._read_query_result\u001b[1;34m(self, unbuffered)\u001b[0m\n\u001b[0;32m    823\u001b[0m \u001b[38;5;28;01melse\u001b[39;00m:\n\u001b[0;32m    824\u001b[0m     result \u001b[38;5;241m=\u001b[39m MySQLResult(\u001b[38;5;28mself\u001b[39m)\n\u001b[1;32m--> 825\u001b[0m     \u001b[43mresult\u001b[49m\u001b[38;5;241;43m.\u001b[39;49m\u001b[43mread\u001b[49m\u001b[43m(\u001b[49m\u001b[43m)\u001b[49m\n\u001b[0;32m    826\u001b[0m \u001b[38;5;28mself\u001b[39m\u001b[38;5;241m.\u001b[39m_result \u001b[38;5;241m=\u001b[39m result\n\u001b[0;32m    827\u001b[0m \u001b[38;5;28;01mif\u001b[39;00m result\u001b[38;5;241m.\u001b[39mserver_status \u001b[38;5;129;01mis\u001b[39;00m \u001b[38;5;129;01mnot\u001b[39;00m \u001b[38;5;28;01mNone\u001b[39;00m:\n",
      "File \u001b[1;32mc:\\Users\\Admin.local\\Documents\\projetint\\uk-crime\\.venv\\Lib\\site-packages\\pymysql\\connections.py:1199\u001b[0m, in \u001b[0;36mMySQLResult.read\u001b[1;34m(self)\u001b[0m\n\u001b[0;32m   1197\u001b[0m \u001b[38;5;28;01mdef\u001b[39;00m \u001b[38;5;21mread\u001b[39m(\u001b[38;5;28mself\u001b[39m):\n\u001b[0;32m   1198\u001b[0m     \u001b[38;5;28;01mtry\u001b[39;00m:\n\u001b[1;32m-> 1199\u001b[0m         first_packet \u001b[38;5;241m=\u001b[39m \u001b[38;5;28;43mself\u001b[39;49m\u001b[38;5;241;43m.\u001b[39;49m\u001b[43mconnection\u001b[49m\u001b[38;5;241;43m.\u001b[39;49m\u001b[43m_read_packet\u001b[49m\u001b[43m(\u001b[49m\u001b[43m)\u001b[49m\n\u001b[0;32m   1201\u001b[0m         \u001b[38;5;28;01mif\u001b[39;00m first_packet\u001b[38;5;241m.\u001b[39mis_ok_packet():\n\u001b[0;32m   1202\u001b[0m             \u001b[38;5;28mself\u001b[39m\u001b[38;5;241m.\u001b[39m_read_ok_packet(first_packet)\n",
      "File \u001b[1;32mc:\\Users\\Admin.local\\Documents\\projetint\\uk-crime\\.venv\\Lib\\site-packages\\pymysql\\connections.py:775\u001b[0m, in \u001b[0;36mConnection._read_packet\u001b[1;34m(self, packet_type)\u001b[0m\n\u001b[0;32m    773\u001b[0m     \u001b[38;5;28;01mif\u001b[39;00m \u001b[38;5;28mself\u001b[39m\u001b[38;5;241m.\u001b[39m_result \u001b[38;5;129;01mis\u001b[39;00m \u001b[38;5;129;01mnot\u001b[39;00m \u001b[38;5;28;01mNone\u001b[39;00m \u001b[38;5;129;01mand\u001b[39;00m \u001b[38;5;28mself\u001b[39m\u001b[38;5;241m.\u001b[39m_result\u001b[38;5;241m.\u001b[39munbuffered_active \u001b[38;5;129;01mis\u001b[39;00m \u001b[38;5;28;01mTrue\u001b[39;00m:\n\u001b[0;32m    774\u001b[0m         \u001b[38;5;28mself\u001b[39m\u001b[38;5;241m.\u001b[39m_result\u001b[38;5;241m.\u001b[39munbuffered_active \u001b[38;5;241m=\u001b[39m \u001b[38;5;28;01mFalse\u001b[39;00m\n\u001b[1;32m--> 775\u001b[0m     \u001b[43mpacket\u001b[49m\u001b[38;5;241;43m.\u001b[39;49m\u001b[43mraise_for_error\u001b[49m\u001b[43m(\u001b[49m\u001b[43m)\u001b[49m\n\u001b[0;32m    776\u001b[0m \u001b[38;5;28;01mreturn\u001b[39;00m packet\n",
      "File \u001b[1;32mc:\\Users\\Admin.local\\Documents\\projetint\\uk-crime\\.venv\\Lib\\site-packages\\pymysql\\protocol.py:219\u001b[0m, in \u001b[0;36mMysqlPacket.raise_for_error\u001b[1;34m(self)\u001b[0m\n\u001b[0;32m    217\u001b[0m \u001b[38;5;28;01mif\u001b[39;00m DEBUG:\n\u001b[0;32m    218\u001b[0m     \u001b[38;5;28mprint\u001b[39m(\u001b[38;5;124m\"\u001b[39m\u001b[38;5;124merrno =\u001b[39m\u001b[38;5;124m\"\u001b[39m, errno)\n\u001b[1;32m--> 219\u001b[0m \u001b[43merr\u001b[49m\u001b[38;5;241;43m.\u001b[39;49m\u001b[43mraise_mysql_exception\u001b[49m\u001b[43m(\u001b[49m\u001b[38;5;28;43mself\u001b[39;49m\u001b[38;5;241;43m.\u001b[39;49m\u001b[43m_data\u001b[49m\u001b[43m)\u001b[49m\n",
      "File \u001b[1;32mc:\\Users\\Admin.local\\Documents\\projetint\\uk-crime\\.venv\\Lib\\site-packages\\pymysql\\err.py:150\u001b[0m, in \u001b[0;36mraise_mysql_exception\u001b[1;34m(data)\u001b[0m\n\u001b[0;32m    148\u001b[0m \u001b[38;5;28;01mif\u001b[39;00m errorclass \u001b[38;5;129;01mis\u001b[39;00m \u001b[38;5;28;01mNone\u001b[39;00m:\n\u001b[0;32m    149\u001b[0m     errorclass \u001b[38;5;241m=\u001b[39m InternalError \u001b[38;5;28;01mif\u001b[39;00m errno \u001b[38;5;241m<\u001b[39m \u001b[38;5;241m1000\u001b[39m \u001b[38;5;28;01melse\u001b[39;00m OperationalError\n\u001b[1;32m--> 150\u001b[0m \u001b[38;5;28;01mraise\u001b[39;00m errorclass(errno, errval)\n",
      "\u001b[1;31mOperationalError\u001b[0m: (pymysql.err.OperationalError) (1205, 'Lock wait timeout exceeded; try restarting transaction')\n[SQL: \n    INSERT INTO street_temp (CrimeID,Month,Reportedby,Longitude,Latitude,Location,LSOAcode,LSOAname,Crimetype,Lastoutcomecategory,Context,anneemois,infogeo,id)\n    SELECT CrimeID,Month,Reportedby,Longitude,Latitude,Location,LSOAcode,LSOAname,Crimetype,Lastoutcomecategory,Context,anneemois,infogeo,id\n    FROM table_travail\n    ON DUPLICATE KEY UPDATE \n        LSOAcode = VALUES(LSOAcode),\n        LSOAname = VALUES(LSOAname);\n    ]\n(Background on this error at: https://sqlalche.me/e/20/e3q8)"
     ]
    }
   ],
   "source": [
    "insert_query = \"\"\"\n",
    "    INSERT INTO street_temp (CrimeID,Month,Reportedby,Longitude,Latitude,Location,LSOAcode,LSOAname,Crimetype,Lastoutcomecategory,Context,anneemois,infogeo,id)\n",
    "    SELECT CrimeID,Month,Reportedby,Longitude,Latitude,Location,LSOAcode,LSOAname,Crimetype,Lastoutcomecategory,Context,anneemois,infogeo,id\n",
    "    FROM table_travail\n",
    "    ON DUPLICATE KEY UPDATE \n",
    "        LSOAcode = VALUES(LSOAcode),\n",
    "        LSOAname = VALUES(LSOAname);\n",
    "    \"\"\"\n",
    "\n",
    "with engine.connect() as conn:\n",
    "    conn.execute(text(insert_query))\n",
    "    conn.commit()\n"
   ]
  },
  {
   "cell_type": "code",
   "execution_count": 116,
   "metadata": {},
   "outputs": [
    {
     "ename": "ProgrammingError",
     "evalue": "(pymysql.err.ProgrammingError) nan can not be used with MySQL\n[SQL: UPDATE street_temp SET `Longitude`=%(Longitude)s, `Latitude`=%(Latitude)s, `LSOAcode`=%(LSOAcode)s, `LSOAname`=%(LSOAname)s WHERE street_temp.id = %(id_1)s]\n[parameters: {'Longitude': -3.50197, 'Latitude': 55.9188, 'LSOAcode': None, 'LSOAname': nan, 'id_1': 21332}]\n(Background on this error at: https://sqlalche.me/e/20/f405)",
     "output_type": "error",
     "traceback": [
      "\u001b[1;31m---------------------------------------------------------------------------\u001b[0m",
      "\u001b[1;31mProgrammingError\u001b[0m                          Traceback (most recent call last)",
      "File \u001b[1;32mc:\\Users\\Admin.local\\Documents\\projetint\\uk-crime\\.venv\\Lib\\site-packages\\sqlalchemy\\engine\\base.py:1967\u001b[0m, in \u001b[0;36mConnection._exec_single_context\u001b[1;34m(self, dialect, context, statement, parameters)\u001b[0m\n\u001b[0;32m   1966\u001b[0m     \u001b[38;5;28;01mif\u001b[39;00m \u001b[38;5;129;01mnot\u001b[39;00m evt_handled:\n\u001b[1;32m-> 1967\u001b[0m         \u001b[38;5;28;43mself\u001b[39;49m\u001b[38;5;241;43m.\u001b[39;49m\u001b[43mdialect\u001b[49m\u001b[38;5;241;43m.\u001b[39;49m\u001b[43mdo_execute\u001b[49m\u001b[43m(\u001b[49m\n\u001b[0;32m   1968\u001b[0m \u001b[43m            \u001b[49m\u001b[43mcursor\u001b[49m\u001b[43m,\u001b[49m\u001b[43m \u001b[49m\u001b[43mstr_statement\u001b[49m\u001b[43m,\u001b[49m\u001b[43m \u001b[49m\u001b[43meffective_parameters\u001b[49m\u001b[43m,\u001b[49m\u001b[43m \u001b[49m\u001b[43mcontext\u001b[49m\n\u001b[0;32m   1969\u001b[0m \u001b[43m        \u001b[49m\u001b[43m)\u001b[49m\n\u001b[0;32m   1971\u001b[0m \u001b[38;5;28;01mif\u001b[39;00m \u001b[38;5;28mself\u001b[39m\u001b[38;5;241m.\u001b[39m_has_events \u001b[38;5;129;01mor\u001b[39;00m \u001b[38;5;28mself\u001b[39m\u001b[38;5;241m.\u001b[39mengine\u001b[38;5;241m.\u001b[39m_has_events:\n",
      "File \u001b[1;32mc:\\Users\\Admin.local\\Documents\\projetint\\uk-crime\\.venv\\Lib\\site-packages\\sqlalchemy\\engine\\default.py:941\u001b[0m, in \u001b[0;36mDefaultDialect.do_execute\u001b[1;34m(self, cursor, statement, parameters, context)\u001b[0m\n\u001b[0;32m    940\u001b[0m \u001b[38;5;28;01mdef\u001b[39;00m \u001b[38;5;21mdo_execute\u001b[39m(\u001b[38;5;28mself\u001b[39m, cursor, statement, parameters, context\u001b[38;5;241m=\u001b[39m\u001b[38;5;28;01mNone\u001b[39;00m):\n\u001b[1;32m--> 941\u001b[0m     \u001b[43mcursor\u001b[49m\u001b[38;5;241;43m.\u001b[39;49m\u001b[43mexecute\u001b[49m\u001b[43m(\u001b[49m\u001b[43mstatement\u001b[49m\u001b[43m,\u001b[49m\u001b[43m \u001b[49m\u001b[43mparameters\u001b[49m\u001b[43m)\u001b[49m\n",
      "File \u001b[1;32mc:\\Users\\Admin.local\\Documents\\projetint\\uk-crime\\.venv\\Lib\\site-packages\\pymysql\\cursors.py:151\u001b[0m, in \u001b[0;36mCursor.execute\u001b[1;34m(self, query, args)\u001b[0m\n\u001b[0;32m    149\u001b[0m     \u001b[38;5;28;01mpass\u001b[39;00m\n\u001b[1;32m--> 151\u001b[0m query \u001b[38;5;241m=\u001b[39m \u001b[38;5;28;43mself\u001b[39;49m\u001b[38;5;241;43m.\u001b[39;49m\u001b[43mmogrify\u001b[49m\u001b[43m(\u001b[49m\u001b[43mquery\u001b[49m\u001b[43m,\u001b[49m\u001b[43m \u001b[49m\u001b[43margs\u001b[49m\u001b[43m)\u001b[49m\n\u001b[0;32m    153\u001b[0m result \u001b[38;5;241m=\u001b[39m \u001b[38;5;28mself\u001b[39m\u001b[38;5;241m.\u001b[39m_query(query)\n",
      "File \u001b[1;32mc:\\Users\\Admin.local\\Documents\\projetint\\uk-crime\\.venv\\Lib\\site-packages\\pymysql\\cursors.py:129\u001b[0m, in \u001b[0;36mCursor.mogrify\u001b[1;34m(self, query, args)\u001b[0m\n\u001b[0;32m    128\u001b[0m \u001b[38;5;28;01mif\u001b[39;00m args \u001b[38;5;129;01mis\u001b[39;00m \u001b[38;5;129;01mnot\u001b[39;00m \u001b[38;5;28;01mNone\u001b[39;00m:\n\u001b[1;32m--> 129\u001b[0m     query \u001b[38;5;241m=\u001b[39m query \u001b[38;5;241m%\u001b[39m \u001b[38;5;28;43mself\u001b[39;49m\u001b[38;5;241;43m.\u001b[39;49m\u001b[43m_escape_args\u001b[49m\u001b[43m(\u001b[49m\u001b[43margs\u001b[49m\u001b[43m,\u001b[49m\u001b[43m \u001b[49m\u001b[43mconn\u001b[49m\u001b[43m)\u001b[49m\n\u001b[0;32m    131\u001b[0m \u001b[38;5;28;01mreturn\u001b[39;00m query\n",
      "File \u001b[1;32mc:\\Users\\Admin.local\\Documents\\projetint\\uk-crime\\.venv\\Lib\\site-packages\\pymysql\\cursors.py:104\u001b[0m, in \u001b[0;36mCursor._escape_args\u001b[1;34m(self, args, conn)\u001b[0m\n\u001b[0;32m    103\u001b[0m \u001b[38;5;28;01melif\u001b[39;00m \u001b[38;5;28misinstance\u001b[39m(args, \u001b[38;5;28mdict\u001b[39m):\n\u001b[1;32m--> 104\u001b[0m     \u001b[38;5;28;01mreturn\u001b[39;00m {key: \u001b[43mconn\u001b[49m\u001b[38;5;241;43m.\u001b[39;49m\u001b[43mliteral\u001b[49m\u001b[43m(\u001b[49m\u001b[43mval\u001b[49m\u001b[43m)\u001b[49m \u001b[38;5;28;01mfor\u001b[39;00m (key, val) \u001b[38;5;129;01min\u001b[39;00m args\u001b[38;5;241m.\u001b[39mitems()}\n\u001b[0;32m    105\u001b[0m \u001b[38;5;28;01melse\u001b[39;00m:\n\u001b[0;32m    106\u001b[0m     \u001b[38;5;66;03m# If it's not a dictionary let's try escaping it anyways.\u001b[39;00m\n\u001b[0;32m    107\u001b[0m     \u001b[38;5;66;03m# Worst case it will throw a Value error\u001b[39;00m\n",
      "File \u001b[1;32mc:\\Users\\Admin.local\\Documents\\projetint\\uk-crime\\.venv\\Lib\\site-packages\\pymysql\\connections.py:530\u001b[0m, in \u001b[0;36mConnection.literal\u001b[1;34m(self, obj)\u001b[0m\n\u001b[0;32m    526\u001b[0m \u001b[38;5;250m\u001b[39m\u001b[38;5;124;03m\"\"\"Alias for escape().\u001b[39;00m\n\u001b[0;32m    527\u001b[0m \n\u001b[0;32m    528\u001b[0m \u001b[38;5;124;03mNon-standard, for internal use; do not use this in your applications.\u001b[39;00m\n\u001b[0;32m    529\u001b[0m \u001b[38;5;124;03m\"\"\"\u001b[39;00m\n\u001b[1;32m--> 530\u001b[0m \u001b[38;5;28;01mreturn\u001b[39;00m \u001b[38;5;28;43mself\u001b[39;49m\u001b[38;5;241;43m.\u001b[39;49m\u001b[43mescape\u001b[49m\u001b[43m(\u001b[49m\u001b[43mobj\u001b[49m\u001b[43m,\u001b[49m\u001b[43m \u001b[49m\u001b[38;5;28;43mself\u001b[39;49m\u001b[38;5;241;43m.\u001b[39;49m\u001b[43mencoders\u001b[49m\u001b[43m)\u001b[49m\n",
      "File \u001b[1;32mc:\\Users\\Admin.local\\Documents\\projetint\\uk-crime\\.venv\\Lib\\site-packages\\pymysql\\connections.py:523\u001b[0m, in \u001b[0;36mConnection.escape\u001b[1;34m(self, obj, mapping)\u001b[0m\n\u001b[0;32m    522\u001b[0m     \u001b[38;5;28;01mreturn\u001b[39;00m ret\n\u001b[1;32m--> 523\u001b[0m \u001b[38;5;28;01mreturn\u001b[39;00m \u001b[43mconverters\u001b[49m\u001b[38;5;241;43m.\u001b[39;49m\u001b[43mescape_item\u001b[49m\u001b[43m(\u001b[49m\u001b[43mobj\u001b[49m\u001b[43m,\u001b[49m\u001b[43m \u001b[49m\u001b[38;5;28;43mself\u001b[39;49m\u001b[38;5;241;43m.\u001b[39;49m\u001b[43mcharset\u001b[49m\u001b[43m,\u001b[49m\u001b[43m \u001b[49m\u001b[43mmapping\u001b[49m\u001b[38;5;241;43m=\u001b[39;49m\u001b[43mmapping\u001b[49m\u001b[43m)\u001b[49m\n",
      "File \u001b[1;32mc:\\Users\\Admin.local\\Documents\\projetint\\uk-crime\\.venv\\Lib\\site-packages\\pymysql\\converters.py:25\u001b[0m, in \u001b[0;36mescape_item\u001b[1;34m(val, charset, mapping)\u001b[0m\n\u001b[0;32m     24\u001b[0m \u001b[38;5;28;01melse\u001b[39;00m:\n\u001b[1;32m---> 25\u001b[0m     val \u001b[38;5;241m=\u001b[39m \u001b[43mencoder\u001b[49m\u001b[43m(\u001b[49m\u001b[43mval\u001b[49m\u001b[43m,\u001b[49m\u001b[43m \u001b[49m\u001b[43mmapping\u001b[49m\u001b[43m)\u001b[49m\n\u001b[0;32m     26\u001b[0m \u001b[38;5;28;01mreturn\u001b[39;00m val\n",
      "File \u001b[1;32mc:\\Users\\Admin.local\\Documents\\projetint\\uk-crime\\.venv\\Lib\\site-packages\\pymysql\\converters.py:56\u001b[0m, in \u001b[0;36mescape_float\u001b[1;34m(value, mapping)\u001b[0m\n\u001b[0;32m     55\u001b[0m \u001b[38;5;28;01mif\u001b[39;00m s \u001b[38;5;129;01min\u001b[39;00m (\u001b[38;5;124m\"\u001b[39m\u001b[38;5;124minf\u001b[39m\u001b[38;5;124m\"\u001b[39m, \u001b[38;5;124m\"\u001b[39m\u001b[38;5;124m-inf\u001b[39m\u001b[38;5;124m\"\u001b[39m, \u001b[38;5;124m\"\u001b[39m\u001b[38;5;124mnan\u001b[39m\u001b[38;5;124m\"\u001b[39m):\n\u001b[1;32m---> 56\u001b[0m     \u001b[38;5;28;01mraise\u001b[39;00m ProgrammingError(\u001b[38;5;124m\"\u001b[39m\u001b[38;5;132;01m%s\u001b[39;00m\u001b[38;5;124m can not be used with MySQL\u001b[39m\u001b[38;5;124m\"\u001b[39m \u001b[38;5;241m%\u001b[39m s)\n\u001b[0;32m     57\u001b[0m \u001b[38;5;28;01mif\u001b[39;00m \u001b[38;5;124m\"\u001b[39m\u001b[38;5;124me\u001b[39m\u001b[38;5;124m\"\u001b[39m \u001b[38;5;129;01mnot\u001b[39;00m \u001b[38;5;129;01min\u001b[39;00m s:\n",
      "\u001b[1;31mProgrammingError\u001b[0m: nan can not be used with MySQL",
      "\nThe above exception was the direct cause of the following exception:\n",
      "\u001b[1;31mProgrammingError\u001b[0m                          Traceback (most recent call last)",
      "Cell \u001b[1;32mIn[116], line 1\u001b[0m\n\u001b[1;32m----> 1\u001b[0m \u001b[43mupdate_table_with_df\u001b[49m\u001b[43m(\u001b[49m\u001b[38;5;124;43m'\u001b[39;49m\u001b[38;5;124;43mstreet_temp\u001b[39;49m\u001b[38;5;124;43m'\u001b[39;49m\u001b[43m,\u001b[49m\u001b[43m \u001b[49m\u001b[43mfields_outcomes_temp\u001b[49m\u001b[43m,\u001b[49m\u001b[43m \u001b[49m\u001b[43mmissing_lsoa_df3\u001b[49m\u001b[43m,\u001b[49m\u001b[43m \u001b[49m\u001b[43mfields_outcomes_temp\u001b[49m\u001b[43m,\u001b[49m\u001b[43m \u001b[49m\u001b[43mengine\u001b[49m\u001b[43m,\u001b[49m\u001b[43mconn\u001b[49m\u001b[43m \u001b[49m\u001b[43m,\u001b[49m\u001b[38;5;124;43m'\u001b[39;49m\u001b[38;5;124;43mid\u001b[39;49m\u001b[38;5;124;43m'\u001b[39;49m\u001b[43m,\u001b[49m\u001b[43m \u001b[49m\u001b[38;5;124;43m'\u001b[39;49m\u001b[38;5;124;43mid\u001b[39;49m\u001b[38;5;124;43m'\u001b[39;49m\u001b[43m)\u001b[49m\n",
      "Cell \u001b[1;32mIn[90], line 23\u001b[0m, in \u001b[0;36mupdate_table_with_df\u001b[1;34m(table_name, table_fields, df, df_columns, engine, session, table_key_field, df_key_column)\u001b[0m\n\u001b[0;32m     17\u001b[0m \u001b[38;5;28;01mfor\u001b[39;00m index, row \u001b[38;5;129;01min\u001b[39;00m df\u001b[38;5;241m.\u001b[39miterrows():\n\u001b[0;32m     18\u001b[0m     stmt \u001b[38;5;241m=\u001b[39m (\n\u001b[0;32m     19\u001b[0m         update(table)\u001b[38;5;241m.\u001b[39m\n\u001b[0;32m     20\u001b[0m         where(table\u001b[38;5;241m.\u001b[39mc[table_key_field] \u001b[38;5;241m==\u001b[39m row[df_key_column])\u001b[38;5;241m.\u001b[39m\n\u001b[0;32m     21\u001b[0m         values({table_fields[i]: row[df_columns[i]] \u001b[38;5;28;01mfor\u001b[39;00m i \u001b[38;5;129;01min\u001b[39;00m \u001b[38;5;28mrange\u001b[39m(\u001b[38;5;28mlen\u001b[39m(table_fields))})\n\u001b[0;32m     22\u001b[0m     )\n\u001b[1;32m---> 23\u001b[0m     \u001b[43msession\u001b[49m\u001b[38;5;241;43m.\u001b[39;49m\u001b[43mexecute\u001b[49m\u001b[43m(\u001b[49m\u001b[43mstmt\u001b[49m\u001b[43m)\u001b[49m\n\u001b[0;32m     24\u001b[0m     compteur\u001b[38;5;241m+\u001b[39m\u001b[38;5;241m=\u001b[39m\u001b[38;5;241m1\u001b[39m\n\u001b[0;32m     25\u001b[0m     \u001b[38;5;28;01mif\u001b[39;00m compteur\u001b[38;5;241m==\u001b[39m\u001b[38;5;241m1000\u001b[39m:\n",
      "File \u001b[1;32mc:\\Users\\Admin.local\\Documents\\projetint\\uk-crime\\.venv\\Lib\\site-packages\\sqlalchemy\\engine\\base.py:1418\u001b[0m, in \u001b[0;36mConnection.execute\u001b[1;34m(self, statement, parameters, execution_options)\u001b[0m\n\u001b[0;32m   1416\u001b[0m     \u001b[38;5;28;01mraise\u001b[39;00m exc\u001b[38;5;241m.\u001b[39mObjectNotExecutableError(statement) \u001b[38;5;28;01mfrom\u001b[39;00m \u001b[38;5;21;01merr\u001b[39;00m\n\u001b[0;32m   1417\u001b[0m \u001b[38;5;28;01melse\u001b[39;00m:\n\u001b[1;32m-> 1418\u001b[0m     \u001b[38;5;28;01mreturn\u001b[39;00m \u001b[43mmeth\u001b[49m\u001b[43m(\u001b[49m\n\u001b[0;32m   1419\u001b[0m \u001b[43m        \u001b[49m\u001b[38;5;28;43mself\u001b[39;49m\u001b[43m,\u001b[49m\n\u001b[0;32m   1420\u001b[0m \u001b[43m        \u001b[49m\u001b[43mdistilled_parameters\u001b[49m\u001b[43m,\u001b[49m\n\u001b[0;32m   1421\u001b[0m \u001b[43m        \u001b[49m\u001b[43mexecution_options\u001b[49m\u001b[43m \u001b[49m\u001b[38;5;129;43;01mor\u001b[39;49;00m\u001b[43m \u001b[49m\u001b[43mNO_OPTIONS\u001b[49m\u001b[43m,\u001b[49m\n\u001b[0;32m   1422\u001b[0m \u001b[43m    \u001b[49m\u001b[43m)\u001b[49m\n",
      "File \u001b[1;32mc:\\Users\\Admin.local\\Documents\\projetint\\uk-crime\\.venv\\Lib\\site-packages\\sqlalchemy\\sql\\elements.py:515\u001b[0m, in \u001b[0;36mClauseElement._execute_on_connection\u001b[1;34m(self, connection, distilled_params, execution_options)\u001b[0m\n\u001b[0;32m    513\u001b[0m     \u001b[38;5;28;01mif\u001b[39;00m TYPE_CHECKING:\n\u001b[0;32m    514\u001b[0m         \u001b[38;5;28;01massert\u001b[39;00m \u001b[38;5;28misinstance\u001b[39m(\u001b[38;5;28mself\u001b[39m, Executable)\n\u001b[1;32m--> 515\u001b[0m     \u001b[38;5;28;01mreturn\u001b[39;00m \u001b[43mconnection\u001b[49m\u001b[38;5;241;43m.\u001b[39;49m\u001b[43m_execute_clauseelement\u001b[49m\u001b[43m(\u001b[49m\n\u001b[0;32m    516\u001b[0m \u001b[43m        \u001b[49m\u001b[38;5;28;43mself\u001b[39;49m\u001b[43m,\u001b[49m\u001b[43m \u001b[49m\u001b[43mdistilled_params\u001b[49m\u001b[43m,\u001b[49m\u001b[43m \u001b[49m\u001b[43mexecution_options\u001b[49m\n\u001b[0;32m    517\u001b[0m \u001b[43m    \u001b[49m\u001b[43m)\u001b[49m\n\u001b[0;32m    518\u001b[0m \u001b[38;5;28;01melse\u001b[39;00m:\n\u001b[0;32m    519\u001b[0m     \u001b[38;5;28;01mraise\u001b[39;00m exc\u001b[38;5;241m.\u001b[39mObjectNotExecutableError(\u001b[38;5;28mself\u001b[39m)\n",
      "File \u001b[1;32mc:\\Users\\Admin.local\\Documents\\projetint\\uk-crime\\.venv\\Lib\\site-packages\\sqlalchemy\\engine\\base.py:1640\u001b[0m, in \u001b[0;36mConnection._execute_clauseelement\u001b[1;34m(self, elem, distilled_parameters, execution_options)\u001b[0m\n\u001b[0;32m   1628\u001b[0m compiled_cache: Optional[CompiledCacheType] \u001b[38;5;241m=\u001b[39m execution_options\u001b[38;5;241m.\u001b[39mget(\n\u001b[0;32m   1629\u001b[0m     \u001b[38;5;124m\"\u001b[39m\u001b[38;5;124mcompiled_cache\u001b[39m\u001b[38;5;124m\"\u001b[39m, \u001b[38;5;28mself\u001b[39m\u001b[38;5;241m.\u001b[39mengine\u001b[38;5;241m.\u001b[39m_compiled_cache\n\u001b[0;32m   1630\u001b[0m )\n\u001b[0;32m   1632\u001b[0m compiled_sql, extracted_params, cache_hit \u001b[38;5;241m=\u001b[39m elem\u001b[38;5;241m.\u001b[39m_compile_w_cache(\n\u001b[0;32m   1633\u001b[0m     dialect\u001b[38;5;241m=\u001b[39mdialect,\n\u001b[0;32m   1634\u001b[0m     compiled_cache\u001b[38;5;241m=\u001b[39mcompiled_cache,\n\u001b[1;32m   (...)\u001b[0m\n\u001b[0;32m   1638\u001b[0m     linting\u001b[38;5;241m=\u001b[39m\u001b[38;5;28mself\u001b[39m\u001b[38;5;241m.\u001b[39mdialect\u001b[38;5;241m.\u001b[39mcompiler_linting \u001b[38;5;241m|\u001b[39m compiler\u001b[38;5;241m.\u001b[39mWARN_LINTING,\n\u001b[0;32m   1639\u001b[0m )\n\u001b[1;32m-> 1640\u001b[0m ret \u001b[38;5;241m=\u001b[39m \u001b[38;5;28;43mself\u001b[39;49m\u001b[38;5;241;43m.\u001b[39;49m\u001b[43m_execute_context\u001b[49m\u001b[43m(\u001b[49m\n\u001b[0;32m   1641\u001b[0m \u001b[43m    \u001b[49m\u001b[43mdialect\u001b[49m\u001b[43m,\u001b[49m\n\u001b[0;32m   1642\u001b[0m \u001b[43m    \u001b[49m\u001b[43mdialect\u001b[49m\u001b[38;5;241;43m.\u001b[39;49m\u001b[43mexecution_ctx_cls\u001b[49m\u001b[38;5;241;43m.\u001b[39;49m\u001b[43m_init_compiled\u001b[49m\u001b[43m,\u001b[49m\n\u001b[0;32m   1643\u001b[0m \u001b[43m    \u001b[49m\u001b[43mcompiled_sql\u001b[49m\u001b[43m,\u001b[49m\n\u001b[0;32m   1644\u001b[0m \u001b[43m    \u001b[49m\u001b[43mdistilled_parameters\u001b[49m\u001b[43m,\u001b[49m\n\u001b[0;32m   1645\u001b[0m \u001b[43m    \u001b[49m\u001b[43mexecution_options\u001b[49m\u001b[43m,\u001b[49m\n\u001b[0;32m   1646\u001b[0m \u001b[43m    \u001b[49m\u001b[43mcompiled_sql\u001b[49m\u001b[43m,\u001b[49m\n\u001b[0;32m   1647\u001b[0m \u001b[43m    \u001b[49m\u001b[43mdistilled_parameters\u001b[49m\u001b[43m,\u001b[49m\n\u001b[0;32m   1648\u001b[0m \u001b[43m    \u001b[49m\u001b[43melem\u001b[49m\u001b[43m,\u001b[49m\n\u001b[0;32m   1649\u001b[0m \u001b[43m    \u001b[49m\u001b[43mextracted_params\u001b[49m\u001b[43m,\u001b[49m\n\u001b[0;32m   1650\u001b[0m \u001b[43m    \u001b[49m\u001b[43mcache_hit\u001b[49m\u001b[38;5;241;43m=\u001b[39;49m\u001b[43mcache_hit\u001b[49m\u001b[43m,\u001b[49m\n\u001b[0;32m   1651\u001b[0m \u001b[43m\u001b[49m\u001b[43m)\u001b[49m\n\u001b[0;32m   1652\u001b[0m \u001b[38;5;28;01mif\u001b[39;00m has_events:\n\u001b[0;32m   1653\u001b[0m     \u001b[38;5;28mself\u001b[39m\u001b[38;5;241m.\u001b[39mdispatch\u001b[38;5;241m.\u001b[39mafter_execute(\n\u001b[0;32m   1654\u001b[0m         \u001b[38;5;28mself\u001b[39m,\n\u001b[0;32m   1655\u001b[0m         elem,\n\u001b[1;32m   (...)\u001b[0m\n\u001b[0;32m   1659\u001b[0m         ret,\n\u001b[0;32m   1660\u001b[0m     )\n",
      "File \u001b[1;32mc:\\Users\\Admin.local\\Documents\\projetint\\uk-crime\\.venv\\Lib\\site-packages\\sqlalchemy\\engine\\base.py:1846\u001b[0m, in \u001b[0;36mConnection._execute_context\u001b[1;34m(self, dialect, constructor, statement, parameters, execution_options, *args, **kw)\u001b[0m\n\u001b[0;32m   1844\u001b[0m     \u001b[38;5;28;01mreturn\u001b[39;00m \u001b[38;5;28mself\u001b[39m\u001b[38;5;241m.\u001b[39m_exec_insertmany_context(dialect, context)\n\u001b[0;32m   1845\u001b[0m \u001b[38;5;28;01melse\u001b[39;00m:\n\u001b[1;32m-> 1846\u001b[0m     \u001b[38;5;28;01mreturn\u001b[39;00m \u001b[38;5;28;43mself\u001b[39;49m\u001b[38;5;241;43m.\u001b[39;49m\u001b[43m_exec_single_context\u001b[49m\u001b[43m(\u001b[49m\n\u001b[0;32m   1847\u001b[0m \u001b[43m        \u001b[49m\u001b[43mdialect\u001b[49m\u001b[43m,\u001b[49m\u001b[43m \u001b[49m\u001b[43mcontext\u001b[49m\u001b[43m,\u001b[49m\u001b[43m \u001b[49m\u001b[43mstatement\u001b[49m\u001b[43m,\u001b[49m\u001b[43m \u001b[49m\u001b[43mparameters\u001b[49m\n\u001b[0;32m   1848\u001b[0m \u001b[43m    \u001b[49m\u001b[43m)\u001b[49m\n",
      "File \u001b[1;32mc:\\Users\\Admin.local\\Documents\\projetint\\uk-crime\\.venv\\Lib\\site-packages\\sqlalchemy\\engine\\base.py:1986\u001b[0m, in \u001b[0;36mConnection._exec_single_context\u001b[1;34m(self, dialect, context, statement, parameters)\u001b[0m\n\u001b[0;32m   1983\u001b[0m     result \u001b[38;5;241m=\u001b[39m context\u001b[38;5;241m.\u001b[39m_setup_result_proxy()\n\u001b[0;32m   1985\u001b[0m \u001b[38;5;28;01mexcept\u001b[39;00m \u001b[38;5;167;01mBaseException\u001b[39;00m \u001b[38;5;28;01mas\u001b[39;00m e:\n\u001b[1;32m-> 1986\u001b[0m     \u001b[38;5;28;43mself\u001b[39;49m\u001b[38;5;241;43m.\u001b[39;49m\u001b[43m_handle_dbapi_exception\u001b[49m\u001b[43m(\u001b[49m\n\u001b[0;32m   1987\u001b[0m \u001b[43m        \u001b[49m\u001b[43me\u001b[49m\u001b[43m,\u001b[49m\u001b[43m \u001b[49m\u001b[43mstr_statement\u001b[49m\u001b[43m,\u001b[49m\u001b[43m \u001b[49m\u001b[43meffective_parameters\u001b[49m\u001b[43m,\u001b[49m\u001b[43m \u001b[49m\u001b[43mcursor\u001b[49m\u001b[43m,\u001b[49m\u001b[43m \u001b[49m\u001b[43mcontext\u001b[49m\n\u001b[0;32m   1988\u001b[0m \u001b[43m    \u001b[49m\u001b[43m)\u001b[49m\n\u001b[0;32m   1990\u001b[0m \u001b[38;5;28;01mreturn\u001b[39;00m result\n",
      "File \u001b[1;32mc:\\Users\\Admin.local\\Documents\\projetint\\uk-crime\\.venv\\Lib\\site-packages\\sqlalchemy\\engine\\base.py:2355\u001b[0m, in \u001b[0;36mConnection._handle_dbapi_exception\u001b[1;34m(self, e, statement, parameters, cursor, context, is_sub_exec)\u001b[0m\n\u001b[0;32m   2353\u001b[0m \u001b[38;5;28;01melif\u001b[39;00m should_wrap:\n\u001b[0;32m   2354\u001b[0m     \u001b[38;5;28;01massert\u001b[39;00m sqlalchemy_exception \u001b[38;5;129;01mis\u001b[39;00m \u001b[38;5;129;01mnot\u001b[39;00m \u001b[38;5;28;01mNone\u001b[39;00m\n\u001b[1;32m-> 2355\u001b[0m     \u001b[38;5;28;01mraise\u001b[39;00m sqlalchemy_exception\u001b[38;5;241m.\u001b[39mwith_traceback(exc_info[\u001b[38;5;241m2\u001b[39m]) \u001b[38;5;28;01mfrom\u001b[39;00m \u001b[38;5;21;01me\u001b[39;00m\n\u001b[0;32m   2356\u001b[0m \u001b[38;5;28;01melse\u001b[39;00m:\n\u001b[0;32m   2357\u001b[0m     \u001b[38;5;28;01massert\u001b[39;00m exc_info[\u001b[38;5;241m1\u001b[39m] \u001b[38;5;129;01mis\u001b[39;00m \u001b[38;5;129;01mnot\u001b[39;00m \u001b[38;5;28;01mNone\u001b[39;00m\n",
      "File \u001b[1;32mc:\\Users\\Admin.local\\Documents\\projetint\\uk-crime\\.venv\\Lib\\site-packages\\sqlalchemy\\engine\\base.py:1967\u001b[0m, in \u001b[0;36mConnection._exec_single_context\u001b[1;34m(self, dialect, context, statement, parameters)\u001b[0m\n\u001b[0;32m   1965\u001b[0m                 \u001b[38;5;28;01mbreak\u001b[39;00m\n\u001b[0;32m   1966\u001b[0m     \u001b[38;5;28;01mif\u001b[39;00m \u001b[38;5;129;01mnot\u001b[39;00m evt_handled:\n\u001b[1;32m-> 1967\u001b[0m         \u001b[38;5;28;43mself\u001b[39;49m\u001b[38;5;241;43m.\u001b[39;49m\u001b[43mdialect\u001b[49m\u001b[38;5;241;43m.\u001b[39;49m\u001b[43mdo_execute\u001b[49m\u001b[43m(\u001b[49m\n\u001b[0;32m   1968\u001b[0m \u001b[43m            \u001b[49m\u001b[43mcursor\u001b[49m\u001b[43m,\u001b[49m\u001b[43m \u001b[49m\u001b[43mstr_statement\u001b[49m\u001b[43m,\u001b[49m\u001b[43m \u001b[49m\u001b[43meffective_parameters\u001b[49m\u001b[43m,\u001b[49m\u001b[43m \u001b[49m\u001b[43mcontext\u001b[49m\n\u001b[0;32m   1969\u001b[0m \u001b[43m        \u001b[49m\u001b[43m)\u001b[49m\n\u001b[0;32m   1971\u001b[0m \u001b[38;5;28;01mif\u001b[39;00m \u001b[38;5;28mself\u001b[39m\u001b[38;5;241m.\u001b[39m_has_events \u001b[38;5;129;01mor\u001b[39;00m \u001b[38;5;28mself\u001b[39m\u001b[38;5;241m.\u001b[39mengine\u001b[38;5;241m.\u001b[39m_has_events:\n\u001b[0;32m   1972\u001b[0m     \u001b[38;5;28mself\u001b[39m\u001b[38;5;241m.\u001b[39mdispatch\u001b[38;5;241m.\u001b[39mafter_cursor_execute(\n\u001b[0;32m   1973\u001b[0m         \u001b[38;5;28mself\u001b[39m,\n\u001b[0;32m   1974\u001b[0m         cursor,\n\u001b[1;32m   (...)\u001b[0m\n\u001b[0;32m   1978\u001b[0m         context\u001b[38;5;241m.\u001b[39mexecutemany,\n\u001b[0;32m   1979\u001b[0m     )\n",
      "File \u001b[1;32mc:\\Users\\Admin.local\\Documents\\projetint\\uk-crime\\.venv\\Lib\\site-packages\\sqlalchemy\\engine\\default.py:941\u001b[0m, in \u001b[0;36mDefaultDialect.do_execute\u001b[1;34m(self, cursor, statement, parameters, context)\u001b[0m\n\u001b[0;32m    940\u001b[0m \u001b[38;5;28;01mdef\u001b[39;00m \u001b[38;5;21mdo_execute\u001b[39m(\u001b[38;5;28mself\u001b[39m, cursor, statement, parameters, context\u001b[38;5;241m=\u001b[39m\u001b[38;5;28;01mNone\u001b[39;00m):\n\u001b[1;32m--> 941\u001b[0m     \u001b[43mcursor\u001b[49m\u001b[38;5;241;43m.\u001b[39;49m\u001b[43mexecute\u001b[49m\u001b[43m(\u001b[49m\u001b[43mstatement\u001b[49m\u001b[43m,\u001b[49m\u001b[43m \u001b[49m\u001b[43mparameters\u001b[49m\u001b[43m)\u001b[49m\n",
      "File \u001b[1;32mc:\\Users\\Admin.local\\Documents\\projetint\\uk-crime\\.venv\\Lib\\site-packages\\pymysql\\cursors.py:151\u001b[0m, in \u001b[0;36mCursor.execute\u001b[1;34m(self, query, args)\u001b[0m\n\u001b[0;32m    148\u001b[0m \u001b[38;5;28;01mwhile\u001b[39;00m \u001b[38;5;28mself\u001b[39m\u001b[38;5;241m.\u001b[39mnextset():\n\u001b[0;32m    149\u001b[0m     \u001b[38;5;28;01mpass\u001b[39;00m\n\u001b[1;32m--> 151\u001b[0m query \u001b[38;5;241m=\u001b[39m \u001b[38;5;28;43mself\u001b[39;49m\u001b[38;5;241;43m.\u001b[39;49m\u001b[43mmogrify\u001b[49m\u001b[43m(\u001b[49m\u001b[43mquery\u001b[49m\u001b[43m,\u001b[49m\u001b[43m \u001b[49m\u001b[43margs\u001b[49m\u001b[43m)\u001b[49m\n\u001b[0;32m    153\u001b[0m result \u001b[38;5;241m=\u001b[39m \u001b[38;5;28mself\u001b[39m\u001b[38;5;241m.\u001b[39m_query(query)\n\u001b[0;32m    154\u001b[0m \u001b[38;5;28mself\u001b[39m\u001b[38;5;241m.\u001b[39m_executed \u001b[38;5;241m=\u001b[39m query\n",
      "File \u001b[1;32mc:\\Users\\Admin.local\\Documents\\projetint\\uk-crime\\.venv\\Lib\\site-packages\\pymysql\\cursors.py:129\u001b[0m, in \u001b[0;36mCursor.mogrify\u001b[1;34m(self, query, args)\u001b[0m\n\u001b[0;32m    126\u001b[0m conn \u001b[38;5;241m=\u001b[39m \u001b[38;5;28mself\u001b[39m\u001b[38;5;241m.\u001b[39m_get_db()\n\u001b[0;32m    128\u001b[0m \u001b[38;5;28;01mif\u001b[39;00m args \u001b[38;5;129;01mis\u001b[39;00m \u001b[38;5;129;01mnot\u001b[39;00m \u001b[38;5;28;01mNone\u001b[39;00m:\n\u001b[1;32m--> 129\u001b[0m     query \u001b[38;5;241m=\u001b[39m query \u001b[38;5;241m%\u001b[39m \u001b[38;5;28;43mself\u001b[39;49m\u001b[38;5;241;43m.\u001b[39;49m\u001b[43m_escape_args\u001b[49m\u001b[43m(\u001b[49m\u001b[43margs\u001b[49m\u001b[43m,\u001b[49m\u001b[43m \u001b[49m\u001b[43mconn\u001b[49m\u001b[43m)\u001b[49m\n\u001b[0;32m    131\u001b[0m \u001b[38;5;28;01mreturn\u001b[39;00m query\n",
      "File \u001b[1;32mc:\\Users\\Admin.local\\Documents\\projetint\\uk-crime\\.venv\\Lib\\site-packages\\pymysql\\cursors.py:104\u001b[0m, in \u001b[0;36mCursor._escape_args\u001b[1;34m(self, args, conn)\u001b[0m\n\u001b[0;32m    102\u001b[0m     \u001b[38;5;28;01mreturn\u001b[39;00m \u001b[38;5;28mtuple\u001b[39m(conn\u001b[38;5;241m.\u001b[39mliteral(arg) \u001b[38;5;28;01mfor\u001b[39;00m arg \u001b[38;5;129;01min\u001b[39;00m args)\n\u001b[0;32m    103\u001b[0m \u001b[38;5;28;01melif\u001b[39;00m \u001b[38;5;28misinstance\u001b[39m(args, \u001b[38;5;28mdict\u001b[39m):\n\u001b[1;32m--> 104\u001b[0m     \u001b[38;5;28;01mreturn\u001b[39;00m {key: \u001b[43mconn\u001b[49m\u001b[38;5;241;43m.\u001b[39;49m\u001b[43mliteral\u001b[49m\u001b[43m(\u001b[49m\u001b[43mval\u001b[49m\u001b[43m)\u001b[49m \u001b[38;5;28;01mfor\u001b[39;00m (key, val) \u001b[38;5;129;01min\u001b[39;00m args\u001b[38;5;241m.\u001b[39mitems()}\n\u001b[0;32m    105\u001b[0m \u001b[38;5;28;01melse\u001b[39;00m:\n\u001b[0;32m    106\u001b[0m     \u001b[38;5;66;03m# If it's not a dictionary let's try escaping it anyways.\u001b[39;00m\n\u001b[0;32m    107\u001b[0m     \u001b[38;5;66;03m# Worst case it will throw a Value error\u001b[39;00m\n\u001b[0;32m    108\u001b[0m     \u001b[38;5;28;01mreturn\u001b[39;00m conn\u001b[38;5;241m.\u001b[39mescape(args)\n",
      "File \u001b[1;32mc:\\Users\\Admin.local\\Documents\\projetint\\uk-crime\\.venv\\Lib\\site-packages\\pymysql\\connections.py:530\u001b[0m, in \u001b[0;36mConnection.literal\u001b[1;34m(self, obj)\u001b[0m\n\u001b[0;32m    525\u001b[0m \u001b[38;5;28;01mdef\u001b[39;00m \u001b[38;5;21mliteral\u001b[39m(\u001b[38;5;28mself\u001b[39m, obj):\n\u001b[0;32m    526\u001b[0m \u001b[38;5;250m    \u001b[39m\u001b[38;5;124;03m\"\"\"Alias for escape().\u001b[39;00m\n\u001b[0;32m    527\u001b[0m \n\u001b[0;32m    528\u001b[0m \u001b[38;5;124;03m    Non-standard, for internal use; do not use this in your applications.\u001b[39;00m\n\u001b[0;32m    529\u001b[0m \u001b[38;5;124;03m    \"\"\"\u001b[39;00m\n\u001b[1;32m--> 530\u001b[0m     \u001b[38;5;28;01mreturn\u001b[39;00m \u001b[38;5;28;43mself\u001b[39;49m\u001b[38;5;241;43m.\u001b[39;49m\u001b[43mescape\u001b[49m\u001b[43m(\u001b[49m\u001b[43mobj\u001b[49m\u001b[43m,\u001b[49m\u001b[43m \u001b[49m\u001b[38;5;28;43mself\u001b[39;49m\u001b[38;5;241;43m.\u001b[39;49m\u001b[43mencoders\u001b[49m\u001b[43m)\u001b[49m\n",
      "File \u001b[1;32mc:\\Users\\Admin.local\\Documents\\projetint\\uk-crime\\.venv\\Lib\\site-packages\\pymysql\\connections.py:523\u001b[0m, in \u001b[0;36mConnection.escape\u001b[1;34m(self, obj, mapping)\u001b[0m\n\u001b[0;32m    521\u001b[0m         ret \u001b[38;5;241m=\u001b[39m \u001b[38;5;124m\"\u001b[39m\u001b[38;5;124m_binary\u001b[39m\u001b[38;5;124m\"\u001b[39m \u001b[38;5;241m+\u001b[39m ret\n\u001b[0;32m    522\u001b[0m     \u001b[38;5;28;01mreturn\u001b[39;00m ret\n\u001b[1;32m--> 523\u001b[0m \u001b[38;5;28;01mreturn\u001b[39;00m \u001b[43mconverters\u001b[49m\u001b[38;5;241;43m.\u001b[39;49m\u001b[43mescape_item\u001b[49m\u001b[43m(\u001b[49m\u001b[43mobj\u001b[49m\u001b[43m,\u001b[49m\u001b[43m \u001b[49m\u001b[38;5;28;43mself\u001b[39;49m\u001b[38;5;241;43m.\u001b[39;49m\u001b[43mcharset\u001b[49m\u001b[43m,\u001b[49m\u001b[43m \u001b[49m\u001b[43mmapping\u001b[49m\u001b[38;5;241;43m=\u001b[39;49m\u001b[43mmapping\u001b[49m\u001b[43m)\u001b[49m\n",
      "File \u001b[1;32mc:\\Users\\Admin.local\\Documents\\projetint\\uk-crime\\.venv\\Lib\\site-packages\\pymysql\\converters.py:25\u001b[0m, in \u001b[0;36mescape_item\u001b[1;34m(val, charset, mapping)\u001b[0m\n\u001b[0;32m     23\u001b[0m     val \u001b[38;5;241m=\u001b[39m encoder(val, charset, mapping)\n\u001b[0;32m     24\u001b[0m \u001b[38;5;28;01melse\u001b[39;00m:\n\u001b[1;32m---> 25\u001b[0m     val \u001b[38;5;241m=\u001b[39m \u001b[43mencoder\u001b[49m\u001b[43m(\u001b[49m\u001b[43mval\u001b[49m\u001b[43m,\u001b[49m\u001b[43m \u001b[49m\u001b[43mmapping\u001b[49m\u001b[43m)\u001b[49m\n\u001b[0;32m     26\u001b[0m \u001b[38;5;28;01mreturn\u001b[39;00m val\n",
      "File \u001b[1;32mc:\\Users\\Admin.local\\Documents\\projetint\\uk-crime\\.venv\\Lib\\site-packages\\pymysql\\converters.py:56\u001b[0m, in \u001b[0;36mescape_float\u001b[1;34m(value, mapping)\u001b[0m\n\u001b[0;32m     54\u001b[0m s \u001b[38;5;241m=\u001b[39m \u001b[38;5;28mrepr\u001b[39m(value)\n\u001b[0;32m     55\u001b[0m \u001b[38;5;28;01mif\u001b[39;00m s \u001b[38;5;129;01min\u001b[39;00m (\u001b[38;5;124m\"\u001b[39m\u001b[38;5;124minf\u001b[39m\u001b[38;5;124m\"\u001b[39m, \u001b[38;5;124m\"\u001b[39m\u001b[38;5;124m-inf\u001b[39m\u001b[38;5;124m\"\u001b[39m, \u001b[38;5;124m\"\u001b[39m\u001b[38;5;124mnan\u001b[39m\u001b[38;5;124m\"\u001b[39m):\n\u001b[1;32m---> 56\u001b[0m     \u001b[38;5;28;01mraise\u001b[39;00m ProgrammingError(\u001b[38;5;124m\"\u001b[39m\u001b[38;5;132;01m%s\u001b[39;00m\u001b[38;5;124m can not be used with MySQL\u001b[39m\u001b[38;5;124m\"\u001b[39m \u001b[38;5;241m%\u001b[39m s)\n\u001b[0;32m     57\u001b[0m \u001b[38;5;28;01mif\u001b[39;00m \u001b[38;5;124m\"\u001b[39m\u001b[38;5;124me\u001b[39m\u001b[38;5;124m\"\u001b[39m \u001b[38;5;129;01mnot\u001b[39;00m \u001b[38;5;129;01min\u001b[39;00m s:\n\u001b[0;32m     58\u001b[0m     s \u001b[38;5;241m+\u001b[39m\u001b[38;5;241m=\u001b[39m \u001b[38;5;124m\"\u001b[39m\u001b[38;5;124me0\u001b[39m\u001b[38;5;124m\"\u001b[39m\n",
      "\u001b[1;31mProgrammingError\u001b[0m: (pymysql.err.ProgrammingError) nan can not be used with MySQL\n[SQL: UPDATE street_temp SET `Longitude`=%(Longitude)s, `Latitude`=%(Latitude)s, `LSOAcode`=%(LSOAcode)s, `LSOAname`=%(LSOAname)s WHERE street_temp.id = %(id_1)s]\n[parameters: {'Longitude': -3.50197, 'Latitude': 55.9188, 'LSOAcode': None, 'LSOAname': nan, 'id_1': 21332}]\n(Background on this error at: https://sqlalche.me/e/20/f405)"
     ]
    }
   ],
   "source": [
    "update_table_with_df('street_temp', fields_outcomes_temp, missing_lsoa_df3, fields_outcomes_temp, engine,conn ,'id', 'id')"
   ]
  },
  {
   "cell_type": "code",
   "execution_count": null,
   "metadata": {},
   "outputs": [],
   "source": [
    "conn.close()"
   ]
  },
  {
   "cell_type": "code",
   "execution_count": null,
   "metadata": {},
   "outputs": [],
   "source": [
    "conn.close()"
   ]
  }
 ],
 "metadata": {
  "kernelspec": {
   "display_name": ".venv",
   "language": "python",
   "name": "python3"
  },
  "language_info": {
   "codemirror_mode": {
    "name": "ipython",
    "version": 3
   },
   "file_extension": ".py",
   "mimetype": "text/x-python",
   "name": "python",
   "nbconvert_exporter": "python",
   "pygments_lexer": "ipython3",
   "version": "3.12.6"
  }
 },
 "nbformat": 4,
 "nbformat_minor": 2
}
